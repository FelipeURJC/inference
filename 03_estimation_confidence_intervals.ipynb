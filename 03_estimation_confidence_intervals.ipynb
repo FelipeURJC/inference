{
 "cells": [
  {
   "cell_type": "markdown",
   "metadata": {},
   "source": [
    "This notebook, by [felipe.alonso@urjc.es](mailto:felipe.alonso@urjc.es)\n",
    "\n",
    "In this notebook we will:\n",
    "\n",
    "- Solve lecture examples\n",
    "- Solve lecture exercises\n",
    "\n",
    "# 0. Load libraries"
   ]
  },
  {
   "cell_type": "code",
   "execution_count": null,
   "metadata": {},
   "outputs": [],
   "source": [
    "import numpy as np\n",
    "import pandas as pd\n",
    "\n",
    "import matplotlib.pyplot as plt\n",
    "%matplotlib inline\n",
    "\n",
    "from scipy.stats import norm, uniform"
   ]
  },
  {
   "cell_type": "markdown",
   "metadata": {},
   "source": [
    "# 1. Lecture examples\n",
    "\n",
    "### Example 1\n",
    "\n",
    "<div class=\"alert alert-block alert-info\">\n",
    "Represent the sampling distribution of both estimators. To do so, consider:\n",
    "\n",
    "* The population follows a Normal distribution with $\\mu = 2$ and $\\sigma^2 = 2$\n",
    "* Use $n=10$\n",
    "</div>"
   ]
  },
  {
   "cell_type": "code",
   "execution_count": null,
   "metadata": {},
   "outputs": [],
   "source": [
    "N = 500\n",
    "n = 50\n",
    "\n",
    "mean_1 = []\n",
    "mean_2 = []\n",
    "for i in range(N):\n",
    "    sample_i = norm(loc = 2, scale = np.sqrt(2)).rvs(size = n)\n",
    "    mean_1.append(sample_i.mean())\n",
    "    mean_2.append(sample_i[0])\n",
    "\n",
    "plt.hist(mean_1, density = True, bins = 15)\n",
    "plt.hist(mean_2, density = True, bins = 15, color = 'red', alpha = 0.75)\n",
    "plt.show()\n",
    "\n",
    "print('Estimator 1')\n",
    "print('Mean of the mean:', np.mean(mean_1))\n",
    "print('std of the mean:', np.std(mean_1))\n",
    "\n",
    "\n",
    "print('\\nEstimator 2')\n",
    "print('Mean of the mean:', np.mean(mean_2))\n",
    "print('std of the mean:', np.std(mean_2))"
   ]
  },
  {
   "cell_type": "markdown",
   "metadata": {},
   "source": [
    "### Example 2\n",
    "\n",
    "<div class=\"alert alert-block alert-info\">\n",
    "Let $X$ be a r.v. that follows a $\\mathcal{N}(\\mu,\\sigma)$ with $\\mu=100$ and $\\sigma=15$. What's the sampling distribution of $\\bar{X}$ for different values of $n$? Check your analytical solution with computer simulations. \n",
    "</div>"
   ]
  },
  {
   "cell_type": "code",
   "execution_count": null,
   "metadata": {},
   "outputs": [],
   "source": [
    "N = 500\n",
    "n_values = [10,20,50,100,200,400]\n",
    "\n",
    "# population values\n",
    "mu = 100\n",
    "sigma = 15\n",
    "\n",
    "plt.figure(figsize = (15,7))\n",
    "for k,n in enumerate(n_values):\n",
    "    \n",
    "    # simulations\n",
    "    mean = []\n",
    "    for i in range(N):\n",
    "        sample_i = norm(loc = mu, scale = sigma).rvs(size = n)\n",
    "        mean.append(sample_i.mean())\n",
    "\n",
    "    # sampling distribution\n",
    "    sigma_mean = sigma/np.sqrt(n)\n",
    "    x = np.linspace(mu-4*sigma_mean,mu+4*sigma_mean,100)    \n",
    "    pdf = norm(loc = mu, scale = sigma_mean).pdf(x)    \n",
    "    \n",
    "    # do the plotting\n",
    "    plt.subplot(2,3,k+1)\n",
    "    plt.hist(mean, density = True, bins = 15, label = 'simulations')\n",
    "    plt.plot(x,pdf,'r', label = 'theory')\n",
    "    plt.title('n=' + str(n))\n",
    "    plt.legend()\n",
    "\n",
    "plt.show()"
   ]
  },
  {
   "cell_type": "markdown",
   "metadata": {},
   "source": [
    "### Example 3: your turn\n",
    "\n",
    "<div class=\"alert alert-block alert-info\">\n",
    "Let $X$ be a r.v. that follows a uniform $\\mathcal{U}(a,b)$ with $a=150$ and $b=190$. What's the sampling distribution of $\\bar{X}$ for different values of $n$? Check your analytical solution with computer simulations.  \n",
    "</div>\n",
    "\n",
    "You might want to read the [documentation](https://docs.scipy.org/doc/scipy/reference/generated/scipy.stats.uniform.html) about the uniform distribution first.\n",
    "\n",
    "Remember to **copy + paste** if needed."
   ]
  },
  {
   "cell_type": "code",
   "execution_count": null,
   "metadata": {},
   "outputs": [],
   "source": [
    "N = 500\n",
    "n_values = [10,20,50,100,200,400]\n",
    "\n",
    "# population values\n",
    "a = 150\n",
    "b = 190\n",
    "mu = (a+b)/2\n",
    "sigma = (b-a)/np.sqrt(12)\n",
    "\n",
    "# just an example of uniform distribution\n",
    "plt.hist(uniform(loc = a, scale = b-a).rvs(size = 500), bins=20, density = True)\n",
    "plt.show()\n",
    "\n",
    "# YOUR CODE DOWN HERE\n",
    "# ...\n",
    "\n",
    "plt.figure(figsize = (15,7))\n",
    "for k,n in enumerate(n_values):\n",
    "    \n",
    "    # simulations\n",
    "    mean = []\n",
    "    for i in range(N):\n",
    "        sample_i = uniform(loc = a, scale = b-a).rvs(size = n)\n",
    "        mean.append(sample_i.mean())\n",
    "\n",
    "    # sampling distribution\n",
    "    sigma_mean = sigma/np.sqrt(n)\n",
    "    x = np.linspace(mu-4*sigma_mean,mu+4*sigma_mean,100)    \n",
    "    pdf = norm(loc = mu, scale = sigma_mean).pdf(x)    \n",
    "    \n",
    "    # do the plotting\n",
    "    plt.subplot(2,3,k+1)\n",
    "    plt.hist(uniform(loc = a, scale = b-a).rvs(size = 500), bins=15, color = 'black', alpha = 0.5, density = True)\n",
    "    plt.hist(mean, density = True, bins = 15, label = 'simulations')\n",
    "    plt.plot(x,pdf,'r', label = 'theory')\n",
    "    plt.title('n=' + str(n))\n",
    "    plt.legend()\n",
    "\n",
    "plt.show()"
   ]
  },
  {
   "cell_type": "markdown",
   "metadata": {},
   "source": [
    "# 2. Lecture exercise"
   ]
  },
  {
   "cell_type": "markdown",
   "metadata": {},
   "source": [
    "### Exercise 1: standard normal vs t-student\n",
    "\n",
    "Take a look to the documentation of the [t-student](https://docs.scipy.org/doc/scipy-0.14.0/reference/generated/scipy.stats.t.html) distribution."
   ]
  },
  {
   "cell_type": "code",
   "execution_count": null,
   "metadata": {},
   "outputs": [],
   "source": [
    "from scipy.stats import t\n",
    "\n",
    "# x-axis range\n",
    "x = np.linspace(-5,5,100)\n",
    "\n",
    "# Standard normal pdf\n",
    "standard_normal_pdf = norm().pdf(x)\n",
    "\n",
    "# t-student with df degrees of freedom\n",
    "df = 1\n",
    "t_student_pdf =  # YOUR CODE HERE ...\n",
    "\n",
    "# do the plotting\n",
    "plt.plot(x,standard_normal_pdf,label='normal')\n",
    "plt.plot(x,t_student_pdf,'r',label='t-student')\n",
    "plt.title('df = ' + str(df))\n",
    "plt.legend()\n",
    "plt.show()"
   ]
  },
  {
   "cell_type": "markdown",
   "metadata": {},
   "source": [
    "<div class=\"alert alert-block alert-info\">\n",
    "Change the value of $\\verb\"df\"$ and take a look to the figure. For each $\\verb\"df\"$ value, calculate the $95\\%$ percentile for each distribution (see lecture slides).  \n",
    "</div>"
   ]
  },
  {
   "cell_type": "code",
   "execution_count": null,
   "metadata": {},
   "outputs": [],
   "source": [
    "# YOUR CODE HERE\n",
    "# percentiles calculation\n"
   ]
  },
  {
   "cell_type": "markdown",
   "metadata": {},
   "source": [
    "<div class=\"alert alert-block alert-info\">\n",
    "How many degrees of freedom do we need to approximate the percentiles of a t-distribution to the normal distribution? How does it affect to the confidence interval estimation of the mean?\n",
    "</div>\n",
    "\n",
    "$$\\overline{x} \\pm t_{n-1,1-\\alpha/2} \\cdot\\frac{s_*}{\\sqrt{n}}$$"
   ]
  },
  {
   "cell_type": "markdown",
   "metadata": {},
   "source": [
    "### Exercise 2: confidence intervals for small samples\n",
    "\n",
    "<div class=\"alert alert-block alert-info\">\n",
    "Calculate the $95\\%$ confidence interval for the variable $\\verb\"mpg\"$ contained in the dataset $\\verb\"mtcars.csv\"$.  \n",
    "</div>"
   ]
  },
  {
   "cell_type": "code",
   "execution_count": null,
   "metadata": {},
   "outputs": [],
   "source": [
    "mtcars = pd.read_csv('./data/mtcars.csv',sep=\",\",decimal='.')\n",
    "mtcars.head()"
   ]
  },
  {
   "cell_type": "code",
   "execution_count": null,
   "metadata": {},
   "outputs": [],
   "source": [
    "from scipy.stats import sem # you do not need this, but could be used\n",
    "\n",
    "mpg = mtcars.mpg.values\n",
    "\n",
    "# YOUR CODE HERE\n",
    "# ..."
   ]
  },
  {
   "cell_type": "markdown",
   "metadata": {},
   "source": [
    "### Exercise 3: confidence intervals\n",
    "\n",
    "We are analyzing how to extract insights from a sample of the population. Let's consider the population be the size of every house in Ames, Iowa (we will use the `AmesHousing.csv` dataset):"
   ]
  },
  {
   "cell_type": "code",
   "execution_count": null,
   "metadata": {},
   "outputs": [],
   "source": [
    "# load data\n",
    "ames_df = pd.read_csv('./data/AmesHousing.csv',sep=',',decimal='.')\n",
    "print('size:', ames_df.shape)\n",
    "\n",
    "# Population and sample\n",
    "population = ames_df['Gr Liv Area']\n",
    "sample = population.sample(60)"
   ]
  },
  {
   "cell_type": "markdown",
   "metadata": {},
   "source": [
    "<div class=\"alert alert-block alert-info\">\n",
    "Calculate the mean and standard deviation of the population. Plot its distribution (you can use a histogram).  \n",
    "</div>"
   ]
  },
  {
   "cell_type": "code",
   "execution_count": null,
   "metadata": {},
   "outputs": [],
   "source": [
    "# YOUR CODE HERE\n",
    "# ...\n"
   ]
  },
  {
   "cell_type": "markdown",
   "metadata": {},
   "source": [
    "<div class=\"alert alert-block alert-info\">\n",
    "Calculate the $95\\%$ confidence interval of the population mean using the sample information. What if instead of using $t_{n-1,1-\\alpha/2}$ you use $z_{1-\\alpha/2}$? Are there any differences on the results?\n",
    "</div>"
   ]
  },
  {
   "cell_type": "code",
   "execution_count": null,
   "metadata": {},
   "outputs": [],
   "source": [
    "# YOUR CODE HERE\n",
    "# ..."
   ]
  },
  {
   "cell_type": "markdown",
   "metadata": {},
   "source": [
    "### Exercise 4: confidence interval meaning\n",
    "\n",
    "Using the population data from the previous exercise, let's analyze now the meaning of a confidence interval. For doing this we will repeat $N=1000$ times the following steps:\n",
    "\n",
    "- Take a sample of size $n=60$ from the population\n",
    "- Calculate the $95\\%$ confidence interval (CI)\n",
    "- If the population mean lies in the CI, increase the counter variable `counts`\n",
    "\n",
    "By the end of the experiment approximately $95\\%$ of N times will lie within the calculated CIs.\n",
    "\n",
    "Hint: you might want to use the following function"
   ]
  },
  {
   "cell_type": "code",
   "execution_count": null,
   "metadata": {},
   "outputs": [],
   "source": [
    "def t_conficence_interval(x, conf_level = 0.95):\n",
    "    \n",
    "    n  = len(x)\n",
    "    mu = np.mean(x)\n",
    "    se = np.std(x,ddof=1)/np.sqrt(n)\n",
    "    \n",
    "    lower, upper = t(df=n-1,loc=mu,scale=se).interval(0.95)\n",
    "    \n",
    "    return lower, upper"
   ]
  },
  {
   "cell_type": "code",
   "execution_count": null,
   "metadata": {},
   "outputs": [],
   "source": [
    "N = 1000\n",
    "n = 60\n",
    "\n",
    "mu = population.mean()\n",
    "counts = 0\n",
    "\n",
    "for i in range(N):\n",
    "    \n",
    "    # Take a sample from the population\n",
    "    # YOUR CODE HERE ...\n",
    "    \n",
    "    # Calculate the lower and upper values of the CI\n",
    "    # YOUR CODE HERE ...\n",
    "    \n",
    "    # Increase counter value\n",
    "    if (mu >= lower) & (mu <= upper):\n",
    "        counts += 1\n",
    "    \n",
    "\n",
    "print(counts)"
   ]
  },
  {
   "cell_type": "markdown",
   "metadata": {},
   "source": [
    "### Exercise 5: confidence interval of a Binomial distribution\n",
    " \n",
    "<div class=\"alert alert-block alert-info\">\n",
    "Your campaign advisor told you that in a random sample of 100 likely voters, 56 intent to vote for you. Can you relax? Use a $95\\%$ to answer this question\n",
    "</div>\n",
    "\n",
    "$$\\hat{p}\\pm z_{1-\\alpha/2}\\sqrt{\\frac{\\hat{p}\\hat{q}}{n}}$$"
   ]
  },
  {
   "cell_type": "code",
   "execution_count": null,
   "metadata": {},
   "outputs": [],
   "source": [
    "# YOUR CODE HERE\n",
    "# ..."
   ]
  },
  {
   "cell_type": "markdown",
   "metadata": {},
   "source": [
    "# 3. More exercises (optional)\n",
    "\n",
    "1. Plot a $\\chi^2_n$ distribution for different values of $n$\n",
    "1. Repeat exercises 3 and 4 for estimating the CI of the variance"
   ]
  }
 ],
 "metadata": {
  "kernelspec": {
   "display_name": "Python 3",
   "language": "python",
   "name": "python3"
  },
  "language_info": {
   "codemirror_mode": {
    "name": "ipython",
    "version": 3
   },
   "file_extension": ".py",
   "mimetype": "text/x-python",
   "name": "python",
   "nbconvert_exporter": "python",
   "pygments_lexer": "ipython3",
   "version": "3.6.2"
  }
 },
 "nbformat": 4,
 "nbformat_minor": 2
}
