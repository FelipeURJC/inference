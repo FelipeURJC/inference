{
 "cells": [
  {
   "cell_type": "markdown",
   "metadata": {},
   "source": [
    "This notebook, by [felipe.alonso@urjc.es](mailto:felipe.alonso@urjc.es)\n",
    "\n",
    "In this notebook we will:\n",
    "\n",
    "1. Solve hypothesis testing exercices for **comparing two proportions**\n",
    "\n",
    "2. Solve hypothesis testing for **contingency tables**\n",
    "\n",
    "\n",
    "## Preliminars\n",
    "\n",
    "#### How to build a contingency table\n",
    "\n",
    "- There are different options here, but a quick an easy way is to use the [pd.crosstab](https://pandas.pydata.org/pandas-docs/stable/reference/api/pandas.crosstab.html) function\n",
    "\n",
    "#### Other uses of chi-square statistic\n",
    "\n",
    "- [Feature selection](https://scikit-learn.org/stable/modules/generated/sklearn.feature_selection.chi2.html) in machine learning: if a feature is independent of the target then is uninformative.\n"
   ]
  },
  {
   "cell_type": "code",
   "execution_count": null,
   "metadata": {},
   "outputs": [],
   "source": [
    "import pandas as pd\n",
    "import numpy as np\n",
    "\n",
    "housing_data = pd.read_csv('./data/AmesHousing.csv',sep=',', decimal = '.')"
   ]
  },
  {
   "cell_type": "code",
   "execution_count": null,
   "metadata": {},
   "outputs": [],
   "source": [
    "housing_data.head(10)"
   ]
  },
  {
   "cell_type": "markdown",
   "metadata": {},
   "source": [
    "# 1. Comparing two proportions\n",
    "\n",
    "### Exercise 1\n",
    "\n",
    "Time magazine reported the result of a telephone poll of 800 adult Americans (smokers vs non-smokers). The question posed of the Americans who were surveyed was: \"Should the federal tax on cigarettes be raised to pay for health care reform?\" The results of the survey were the following_\n",
    "\n",
    "- 351 out of 605 non-smokers said 'yes'\n",
    "- 41 out of 195 smokers said 'yes'\n",
    "\n",
    "<div class=\"alert alert-block alert-info\">\n",
    "Is there sufficient evidence at 5% confidence level to conclude that the two populations differ significantly with respect to their opinions?\n",
    "</div>"
   ]
  },
  {
   "cell_type": "code",
   "execution_count": null,
   "metadata": {},
   "outputs": [],
   "source": [
    "# your code here\n",
    "# ..."
   ]
  },
  {
   "cell_type": "markdown",
   "metadata": {},
   "source": [
    "### Exercise 2\n",
    "\n",
    "A 30-year study was conducted with nearly 90,000 female participants. During a 5-year screening period, each woman was randomized to one of two groups: in the first group, women received regular mammograms to screen for breast cancer, and in the second group, women received regular non-mammogram breast cancer exams. No intervention was made during the following 25 years of the study, and we’ll consider death resulting from breast cancer over the full 30-year period. Results from the study are summarized in the following table\n",
    "\n",
    "|Treatment |Death fro breast cancer|No death from breast cancer|\n",
    "|---|-:-|---:|\n",
    "|Mammogram|500|44425|\n",
    "|Control|505|44405|\n",
    "\n",
    "<div class=\"alert alert-block alert-info\">\n",
    "Can we conclude that mammograms have no benefits or harm?\n",
    "</div>"
   ]
  },
  {
   "cell_type": "code",
   "execution_count": null,
   "metadata": {},
   "outputs": [],
   "source": [
    "# your code here\n",
    "# ..."
   ]
  },
  {
   "cell_type": "markdown",
   "metadata": {},
   "source": [
    "### Exercise 3\n",
    "\n",
    "[Meuer and Woessner](https://journals.sagepub.com/doi/abs/10.1177/1477370818809663) describe an experiment to test the effect of electronic monitoring (tagging) on “low-risk” prisoners. Forty-eight (male) prisoners were randomly allocated to two groups:\n",
    "\n",
    "* In the experimental group, the prisoner served the last part of his sentence under “supervised early work release”, involving the use of an open prison and electronic tagging.\n",
    "* In the control group, the prisoner served the last part of his sentence in prison, as normal.\n",
    "\n",
    "Following the end of the sentence, the prisoners were followed up for two years. It was recorded whether each prisoner reoffended. The results were as follows:\n",
    "\n",
    "|group|sample size|\tnumber reoffending|\t\\% reoffending|\n",
    "|---|---|---|---|\n",
    "|experimental|\t24|\t7|\t29.2%|\n",
    "|control|\t30|\t15|\t50.0%|\n",
    "\n",
    "<div class=\"alert alert-block alert-info\">\n",
    "Can we conclude that early release and tagging of prisoners affect the likelihood of reoffending?\n",
    "</div>"
   ]
  },
  {
   "cell_type": "code",
   "execution_count": null,
   "metadata": {},
   "outputs": [],
   "source": [
    "# your code here\n",
    "# ..."
   ]
  },
  {
   "cell_type": "markdown",
   "metadata": {},
   "source": [
    "# 2. Hypothesis testing for contingency tables\n",
    "\n",
    "SciPy stats provides with a number of functions to perform inference analysis for contingency tables:\n",
    "\n",
    "- [`chi2_contingency`](https://docs.scipy.org/doc/scipy/reference/generated/scipy.stats.chi2_contingency.html#scipy.stats.chi2_contingency)\n",
    "\n",
    "- [`fisher_exact`](https://docs.scipy.org/doc/scipy/reference/generated/scipy.stats.fisher_exact.html#scipy.stats.fisher_exact)\n",
    "\n",
    "- [`expected_freq`](https://docs.scipy.org/doc/scipy/reference/generated/scipy.stats.contingency.expected_freq.html#scipy.stats.contingency.expected_freq)\n",
    "\n",
    "\n",
    "### Exercise 4\n",
    "\n",
    "We consider data from a random sample of 275 jurors in a small county. Jurors identified their racial group, as shown in the following table\n",
    "\n",
    "|Race|White| Black| Hispanic| Other|\n",
    "|---|---|---|---|---|\n",
    "|Representation in juries (counts) |205| 26| 25| 19|    \n",
    "|Registered voters (%)|0.72 |0.07 |0.12 |0.09|\n",
    " \n",
    "\n",
    "<div class=\"alert alert-block alert-info\">\n",
    "Are these jurors racially representative of the population?\n",
    "</div>"
   ]
  },
  {
   "cell_type": "code",
   "execution_count": null,
   "metadata": {},
   "outputs": [],
   "source": [
    "# your code here\n",
    "# ..."
   ]
  },
  {
   "cell_type": "markdown",
   "metadata": {},
   "source": [
    "### Exercise 5\n",
    "\n",
    "In a survey of 237 students smoking habits and exercise levels were observed\n",
    "\n",
    "|Smoking status| exercise: regular|exercise: some/none|\n",
    "|---|---|---|        \n",
    "|Never|87|102|\n",
    "|Occasional|12|7|\n",
    "|Regular|9|8|\n",
    "|Heavy|7|4|\n",
    "\n",
    "\n",
    "<div class=\"alert alert-block alert-info\">\n",
    "Is smoking status independent of exercise level?\n",
    "</div>"
   ]
  },
  {
   "cell_type": "code",
   "execution_count": null,
   "metadata": {},
   "outputs": [],
   "source": [
    "# your code here\n",
    "# ..."
   ]
  },
  {
   "cell_type": "markdown",
   "metadata": {},
   "source": [
    "### Exercise 6\n",
    "\n",
    "The table below shows the observed frequencies of different kinds of crime in three neighborhoods.\n",
    "\n",
    "|Violence|\tTheft|\tVandalism|**Total**|\n",
    "|---|---|---|---|\n",
    "|Neighborhood1|\t16|\t25|\t42|\t**83**|\n",
    "|Neighborhood2|\t15|\t18|\t16|\t**49**|\n",
    "|Neighborhood3|\t39|\t36|\t30|\t**105**|\n",
    "|**Total**\t|70\t|79\t|88\t|237|\n",
    "\n",
    "\n",
    "<div class=\"alert alert-block alert-info\">\n",
    "What are the expected counts of this table? Is there an association between different neighbourhoods and types of crime?\n",
    "</div>\n"
   ]
  },
  {
   "cell_type": "code",
   "execution_count": null,
   "metadata": {},
   "outputs": [],
   "source": [
    "# your code here\n",
    "# ..."
   ]
  },
  {
   "cell_type": "markdown",
   "metadata": {},
   "source": [
    "### Exercise 7\n",
    "\n",
    "You have quite a lot of plants in and outside your house, some of which have flowers, and some of which don't. Your flower data is presented below: \n",
    "\n",
    "|Flowering |Indoors|\tOutdoors|\n",
    "|---|---|---|\n",
    "|Flower\t|7\t|3|\n",
    "|No flower|\t1|\t12|\n",
    "\n",
    "\n",
    "<div class=\"alert alert-block alert-info\">\n",
    "Is flowering independent from the plant being indoors or outdoors?\n",
    "</div>"
   ]
  },
  {
   "cell_type": "code",
   "execution_count": null,
   "metadata": {},
   "outputs": [],
   "source": [
    "# your code here\n",
    "# ..."
   ]
  },
  {
   "cell_type": "markdown",
   "metadata": {},
   "source": [
    "### Exercise 8\n",
    "\n",
    "The table below describes residents of a Madrid neighborhood based on their car ownership and public transportation usage.\n",
    "\n",
    "| Public vs Cars  | Owns car | Does not own car| Total|\n",
    "|---|---|---|---|\n",
    "|Uses public transport|34|94|128|\n",
    "|Does not use public transport|126|17|143|\n",
    "|Total|160|111|271|  \n",
    "\n",
    "\n",
    "\n",
    "<div class=\"alert alert-block alert-info\">\n",
    "Is there an association between car ownership and public transportation usage? If there was no association, how many individuals would we expect to not own a car and not use public transport?\n",
    "</div>\n"
   ]
  },
  {
   "cell_type": "code",
   "execution_count": null,
   "metadata": {},
   "outputs": [],
   "source": [
    "# your code here\n",
    "# ..."
   ]
  }
 ],
 "metadata": {
  "kernelspec": {
   "display_name": "Python 3",
   "language": "python",
   "name": "python3"
  },
  "language_info": {
   "codemirror_mode": {
    "name": "ipython",
    "version": 3
   },
   "file_extension": ".py",
   "mimetype": "text/x-python",
   "name": "python",
   "nbconvert_exporter": "python",
   "pygments_lexer": "ipython3",
   "version": "3.6.2"
  }
 },
 "nbformat": 4,
 "nbformat_minor": 2
}
