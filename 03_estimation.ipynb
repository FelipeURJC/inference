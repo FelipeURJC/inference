{
 "cells": [
  {
   "cell_type": "markdown",
   "metadata": {},
   "source": [
    "This notebook, by [felipe.alonso@urjc.es](mailto:felipe.alonso@urjc.es)\n",
    "\n",
    "In this notebook we will:\n",
    "\n",
    "- Solve lecture exercises\n",
    "\n",
    "# 0. Load libraries"
   ]
  },
  {
   "cell_type": "code",
   "execution_count": null,
   "metadata": {},
   "outputs": [],
   "source": [
    "import numpy as np\n",
    "import matplotlib.pyplot as plt\n",
    "%matplotlib inline\n",
    "\n",
    "from scipy.stats import norm, uniform"
   ]
  },
  {
   "cell_type": "markdown",
   "metadata": {},
   "source": [
    "# 1. Lecture exercices\n",
    "\n",
    "### Exercise 1\n",
    "\n",
    "<div class=\"alert alert-block alert-info\">\n",
    "Represent the sampling distribution of both estimators. To do so, consider:\n",
    "\n",
    "* The population follows a Normal distribution with $\\mu = 2$ and $\\sigma^2 = 2$\n",
    "* Use $n=10$\n",
    "</div>"
   ]
  },
  {
   "cell_type": "code",
   "execution_count": null,
   "metadata": {},
   "outputs": [],
   "source": [
    "N = 500\n",
    "n = 10\n",
    "\n",
    "mean_1 = []\n",
    "mean_2 = []\n",
    "for i in range(N):\n",
    "    sample_i = norm(loc = 2, scale = np.sqrt(2)).rvs(size = n)\n",
    "    # your code here\n",
    "    # ...\n",
    "    \n",
    "plt.hist(mean_1, density = True, bins = 15)\n",
    "plt.hist(mean_2, density = True, bins = 15, color = 'red', alpha = 0.75)\n",
    "plt.show()\n",
    "\n",
    "print('Estimator 1')\n",
    "print('Mean of the mean:', np.mean(mean_1))\n",
    "print('std of the mean:', np.std(mean_1))\n",
    "\n",
    "\n",
    "print('\\nEstimator 2')\n",
    "print('Mean of the mean:', np.mean(mean_2))\n",
    "print('std of the mean:', np.std(mean_2))"
   ]
  },
  {
   "cell_type": "markdown",
   "metadata": {},
   "source": [
    "## Exercise 2\n",
    "\n",
    "<div class=\"alert alert-block alert-info\">\n",
    "Let $X$ be a r.v. that follows a $\\mathcal{N}(\\mu,\\sigma)$ with $\\mu=100$ and $\\sigma=15$. What's the sampling distribution of $\\bar{X}$ for different values of $n$? Check your analytical solution with computer simulations. \n",
    "</div>"
   ]
  },
  {
   "cell_type": "code",
   "execution_count": null,
   "metadata": {},
   "outputs": [],
   "source": [
    "N = 500\n",
    "n = 10\n",
    "\n",
    "# population values\n",
    "mu = 100\n",
    "sigma = 15\n",
    "\n",
    "# your code here\n",
    "# ..."
   ]
  },
  {
   "cell_type": "markdown",
   "metadata": {},
   "source": [
    "## Exercise 3\n",
    "\n",
    "<div class=\"alert alert-block alert-info\">\n",
    "Let $X$ be a r.v. that follows a uniform $\\mathcal{U}(a,b)$ with $a=150$ and $b=190$. What's the sampling distribution of $\\bar{X}$ for different values of $n$? Check your analytical solution with computer simulations.  \n",
    "</div>\n",
    "\n",
    "You might want to read the [documentation](https://docs.scipy.org/doc/scipy/reference/generated/scipy.stats.uniform.html) about the uniform distribution first.\n",
    "\n",
    "Remember to **copy + paste** if needed."
   ]
  },
  {
   "cell_type": "code",
   "execution_count": null,
   "metadata": {},
   "outputs": [],
   "source": [
    "N = 500\n",
    "n_values = [10,20,50,100,200,400]\n",
    "\n",
    "# population values\n",
    "a = 150\n",
    "b = 190\n",
    "mu = (a+b)/2\n",
    "sigma = (b-a)/np.sqrt(12)\n",
    "\n",
    "# just an example of uniform distribution\n",
    "plt.hist(uniform(loc = a, scale = b-a).rvs(size = 500), bins=20, density = True)\n",
    "plt.show()\n",
    "\n",
    "# YOUR CODE DOWN HERE\n",
    "# ..."
   ]
  },
  {
   "cell_type": "code",
   "execution_count": null,
   "metadata": {},
   "outputs": [],
   "source": []
  }
 ],
 "metadata": {
  "kernelspec": {
   "display_name": "Python 3",
   "language": "python",
   "name": "python3"
  },
  "language_info": {
   "codemirror_mode": {
    "name": "ipython",
    "version": 3
   },
   "file_extension": ".py",
   "mimetype": "text/x-python",
   "name": "python",
   "nbconvert_exporter": "python",
   "pygments_lexer": "ipython3",
   "version": "3.6.2"
  }
 },
 "nbformat": 4,
 "nbformat_minor": 2
}
