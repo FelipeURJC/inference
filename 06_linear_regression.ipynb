{
 "cells": [
  {
   "cell_type": "markdown",
   "metadata": {},
   "source": [
    "This notebook, by [felipe.alonso@urjc.es](mailto:felipe.alonso@urjc.es)\n",
    "\n",
    "In this notebook we will:\n",
    "\n",
    "1. Learn how to implement scatterplots diagrams \n",
    "2. Learn how to calculate covariance and correlation coefficients\n",
    "3. Understand simple linear regression model in the matrix notation\n",
    "4. Solve linear regression problems using:\n",
    "    - [statsmodels](https://www.statsmodels.org/devel/generated/statsmodels.regression.linear_model.OLS.html)\n",
    "    - [scikit-learn](https://scikit-learn.org/stable/modules/generated/sklearn.linear_model.LinearRegression.html?highlight=linear%20regression#sklearn.linear_model.LinearRegression)\n",
    "    - [scipy.stats](https://docs.scipy.org/doc/scipy/reference/generated/scipy.stats.linregress.html#scipy.stats.linregress)\n",
    "    \n",
    "\n",
    "### Dataset \n",
    "\n",
    "What if we wanted to implement a product like [BBVA Valora](https://www.bbva.es/personas/experiencias/bbva-valora.html)?\n",
    "\n",
    "Let's start with a realistic (but toy) example. The database we're going to use is the housing [House Sales in King COunty, USA](https://www.kaggle.com/harlfoxem/housesalesprediction) database . For each house, we have the following attributes, variables, characteristics or *features*\n",
    "\n",
    "| Feature | description |\n",
    "| - |- |\n",
    "|*id*| house id|\n",
    "| *date*| date\n",
    "| *price*| price\n",
    "| *bedrooms*| # bedrooms\n",
    "| *bathrooms*| # bathrooms\n",
    "| *sqtf_living*| living area (squared feet)\n",
    "| *sqft_lot*| lot (squared feet)\n",
    "| *floors*| # floors\n",
    "| *waterfront*| indicates whether the property has access to a lake\n",
    "| *view*| type of view (ordinal variable)\n",
    "| *condition*| house condition(ordinal variable)\n",
    "| *grade*| construction quality (ordinal variable)\n",
    "| *sqft_above*| above-ground area (squared feet)\n",
    "| *sqft_basement*| basement area (squared feet)\n",
    "| *yr_built*| year of construction\n",
    "| *yr_renovated*| year of renovation\n",
    "| *zip_code*| zip code\n",
    "| *lat*| latitude coordinate\n",
    "| *long*| longitude coordinate\n",
    "| *sqft_living15*| average living area from the 15 nearest neighbors\t\n",
    "| *sqft_lot15*| average lot living area from the 15 nearest neighbors\t"
   ]
  },
  {
   "cell_type": "markdown",
   "metadata": {},
   "source": [
    "# 0. Load data"
   ]
  },
  {
   "cell_type": "code",
   "execution_count": null,
   "metadata": {},
   "outputs": [],
   "source": [
    "# load libraries\n",
    "import pandas as pd\n",
    "import numpy as np\n",
    "\n",
    "import plotly.express as px\n",
    "import matplotlib.pyplot as plt\n",
    "%matplotlib inline"
   ]
  },
  {
   "cell_type": "code",
   "execution_count": null,
   "metadata": {},
   "outputs": [],
   "source": [
    "# Load data\n",
    "house_data = pd.read_csv(\"./data/kc_house_data.csv\") \n",
    "\n",
    "# Remove id and date \n",
    "house_data = house_data.drop(['id','date'], axis=1)\n",
    "\n",
    "# Convert squared feet to squared meters\n",
    "feetFeatures = ['sqft_living','sqft_lot','sqft_above','sqft_basement','sqft_living15','sqft_lot15']\n",
    "house_data[feetFeatures] = house_data[feetFeatures].apply(lambda x: x * 0.3048 * 0.3048)\n",
    "\n",
    "# Rename columns\n",
    "feature_names = ['price','bedrooms','bathrooms','sqm_living','sqm_lot','floors','waterfront','view','condition',\n",
    "                 'grade','sqm_above','sqm_basement','yr_built','yr_renovated','zip_code','lat','long',\n",
    "                 'sqm_living15','sqm_lot15']\n",
    "house_data.columns = feature_names\n",
    "\n",
    "# Display dataframe\n",
    "house_data.head()"
   ]
  },
  {
   "cell_type": "markdown",
   "metadata": {},
   "source": [
    "# 1. Scatter plots\n",
    "\n",
    "Scatter plots allow us to display values for two variables from a dataset. There are several ways to do this in Python:\n",
    "\n",
    "- [Matplotlib](https://matplotlib.org/3.2.1/api/_as_gen/matplotlib.pyplot.scatter.html?highlight=scatter#matplotlib.pyplot.scatter)\n",
    "- [Pandas](https://pandas.pydata.org/pandas-docs/stable/reference/api/pandas.DataFrame.plot.scatter.html)\n",
    "- [Seaborn](https://seaborn.pydata.org/generated/seaborn.scatterplot.html)\n",
    "- [Plotly](https://plotly.com/python/line-and-scatter/)\n",
    "\n",
    "\n",
    "Let's represent the housing price with respect to another variable."
   ]
  },
  {
   "cell_type": "code",
   "execution_count": null,
   "metadata": {
    "scrolled": false
   },
   "outputs": [],
   "source": [
    "# pandas vs plotly\n",
    "x_variable = 'sqm_living' # 'sqm_living', 'bedrooms', 'lat', 'grade'\n",
    "\n",
    "#pandas\n",
    "house_data.plot.scatter(x=x_variable,y='price',alpha=0.2)\n",
    "plt.show()\n",
    "\n",
    "#plotly\n",
    "fig = px.scatter(house_data, x=x_variable, y=\"price\",\n",
    "                 marginal_y=\"histogram\", marginal_x=\"histogram\",\n",
    "                 height=400, template = 'plotly_white')\n",
    "fig.show()\n",
    "\n",
    "# RUN THIS AT HOME\n",
    "#pd.scatter_matrix(house_data, alpha=0.2, figsize=(20, 20), diagonal = 'kde')\n",
    "#plt.show()"
   ]
  },
  {
   "cell_type": "markdown",
   "metadata": {},
   "source": [
    "# 2. Covariance and correlation\n",
    "\n",
    "We can use:\n",
    "\n",
    "- Pandas\n",
    "- Numpy\n",
    "- SciPy Stats"
   ]
  },
  {
   "cell_type": "code",
   "execution_count": null,
   "metadata": {},
   "outputs": [],
   "source": [
    "# Option 1: pandas\n",
    "display(house_data[['price','sqm_living']].cov())\n",
    "display(house_data[['price','sqm_living']].corr())"
   ]
  },
  {
   "cell_type": "code",
   "execution_count": null,
   "metadata": {},
   "outputs": [],
   "source": [
    "# Option 2: numpy\n",
    "x = house_data['sqm_living']\n",
    "y = house_data['price']\n",
    "print('Covariance matrix:\\n', np.cov(x,y))\n",
    "print('Correlation matrix:\\n',np.corrcoef(x,y))"
   ]
  },
  {
   "cell_type": "code",
   "execution_count": null,
   "metadata": {},
   "outputs": [],
   "source": [
    "# Option 3: scipy\n",
    "from scipy.stats import pearsonr\n",
    "\n",
    "print('Correlation Coefficient: ', pearsonr(x,y))"
   ]
  },
  {
   "cell_type": "markdown",
   "metadata": {},
   "source": [
    "### Correlation analysis for the complete dataset\n",
    "\n",
    "This is just for illustration purposes, do not need to replicate it."
   ]
  },
  {
   "cell_type": "code",
   "execution_count": null,
   "metadata": {},
   "outputs": [],
   "source": [
    "import seaborn as sns\n",
    "\n",
    "mask = np.zeros_like(house_data[feature_names].corr(), dtype=np.bool) \n",
    "mask[np.triu_indices_from(mask)] = True \n",
    "\n",
    "f, ax = plt.subplots(figsize=(16, 12))\n",
    "plt.title('Pearson Correlation Matrix',fontsize=25)\n",
    "\n",
    "sns.heatmap(house_data[feature_names].corr(),linewidths=0.25,vmax=0.7,square=True,cmap=\"BuGn\", #\"BuGn_r\" to reverse \n",
    "            linecolor='w',annot=True,annot_kws={\"size\":8},mask=mask,cbar_kws={\"shrink\": .9});"
   ]
  },
  {
   "cell_type": "markdown",
   "metadata": {},
   "source": [
    "# 3. simple linear regression model in the matrix notation\n",
    "\n",
    "The simple linear regression model assumes that\n",
    "\n",
    "$$y_i = \\beta_0 + \\beta_1x_i + u_i,\\quad i=1,\\ldots,n$$\n",
    "\n",
    "If we write one equation for each one of the observations, we have\n",
    "\n",
    "$$\n",
    "\\begin{align}\n",
    "    y1 & = \\beta_0 + \\beta_1x_1 + u_1 \\\\\n",
    "    y2 & = \\beta_0 + \\beta_1x_2 + u_2 \\\\\n",
    "    \\vdots & =  \\vdots \\\\\n",
    "    y_n & = \\beta_0 + \\beta_1x_n + u_n \n",
    "\\end{align}\n",
    "$$\n",
    "\n",
    "We can write the preceding equations in matrix form as\n",
    "\n",
    "$$\\begin{bmatrix}\n",
    "    y_1 \\\\\n",
    "    y_2 \\\\\n",
    "    \\vdots \\\\\n",
    "    y_n \\end{bmatrix} = \\begin{bmatrix} \n",
    "    \\beta_0 + \\beta_1x_1 \\\\\n",
    "    \\beta_0 + \\beta_1x_2 \\\\\n",
    "    \\vdots \\\\\n",
    "    \\beta_0 + \\beta_1x_n \n",
    "\\end{bmatrix} + \\begin{bmatrix} \n",
    "    u_1 \\\\\n",
    "    u_2 \\\\\n",
    "    \\vdots \\\\\n",
    "    u_n \\\\\n",
    "\\end{bmatrix}\n",
    "$$\n",
    "\n",
    "\n",
    "And splitting the parameters $\\beta$ from the variables $x_i$ \n",
    "\n",
    "\n",
    "$$\\begin{bmatrix}\n",
    "    y_1 \\\\\n",
    "    y_2 \\\\\n",
    "    \\vdots \\\\\n",
    "    y_n \\end{bmatrix} = \\begin{bmatrix} \n",
    "    1 & x_1 \\\\\n",
    "    1 & x_2 \\\\\n",
    "    \\vdots & \\vdots \\\\\n",
    "    1 & x_n \n",
    "\\end{bmatrix}\\begin{bmatrix} \n",
    "    \\beta_0 \\\\\n",
    "    \\beta_1 \\\\\n",
    "\\end{bmatrix} + \\begin{bmatrix} \n",
    "    u_1 \\\\\n",
    "    u_2 \\\\\n",
    "    \\vdots \\\\\n",
    "    u_n \\\\\n",
    "\\end{bmatrix}\n",
    "$$\n",
    "\n",
    "And this relationship can be written as\n",
    "\n",
    "$$\\mathbf{y} = \\mathbf{X}\\boldsymbol{\\beta}+\\mathbf{u}$$\n",
    "\n",
    "where:\n",
    "\n",
    "- $\\mathbf{y}$: reponse vector\n",
    "- $\\mathbf{X} = [\\mathbf{1} + \\mathbf{x}]$: explanatory variables matrix\n",
    "- $\\boldsymbol{\\beta}$: vector of parameters\n",
    "- $\\mathbf{u}$: error vector\n",
    "\n",
    "### Least-squares estimation\n",
    "\n",
    "It can be [proved](https://en.wikipedia.org/wiki/Ordinary_least_squares) that the vector of parameters can be estimated as \n",
    "\n",
    "$$\\hat{\\boldsymbol{\\beta}}= (\\mathbf X^{\\rm T} \\mathbf X )^{-1} \\mathbf X^{\\rm T} \\mathbf y$$\n",
    "\n",
    "so that \n",
    "\n",
    "$$\\hat{\\mathbf y} =\\mathbf X \\hat{\\boldsymbol{\\beta}}$$"
   ]
  },
  {
   "cell_type": "code",
   "execution_count": null,
   "metadata": {},
   "outputs": [],
   "source": [
    "n = x.shape[0]\n",
    "\n",
    "X = np.matrix([np.ones(n), x]).T\n",
    "y = np.matrix(y).T\n",
    "\n",
    "# Solve least-squares\n",
    "beta_hat = np.linalg.inv(X.T.dot(X)).dot(X.T).dot(y)\n",
    "print(beta_hat)"
   ]
  },
  {
   "cell_type": "markdown",
   "metadata": {},
   "source": [
    "# 4. Solving a linear regression problem\n",
    "\n",
    "There are several libraries that allow us to perform ordinary least squares estimates.\n",
    "\n",
    "- [statsmodels](https://www.statsmodels.org/devel/generated/statsmodels.regression.linear_model.OLS.html)\n",
    "- [scikit-learn](https://scikit-learn.org/stable/modules/generated/sklearn.linear_model.LinearRegression.html?highlight=linear%20regression#sklearn.linear_model.LinearRegression)\n",
    "- [scipy.stats](https://docs.scipy.org/doc/scipy/reference/generated/scipy.stats.linregress.html#scipy.stats.linregress)\n",
    "\n",
    "## 4.1 Fitting the regression line\n",
    "\n",
    "That is, estimate the values of $\\beta_0$ and $\\beta_1$"
   ]
  },
  {
   "cell_type": "code",
   "execution_count": null,
   "metadata": {},
   "outputs": [],
   "source": [
    "# OPTION 1: statsmodels\n",
    "import statsmodels.api as sm\n",
    "\n",
    "x = house_data['sqm_living']\n",
    "y = house_data['price']\n",
    "\n",
    "X     = sm.add_constant(x)\n",
    "model = sm.OLS(y,X)\n",
    "\n",
    "results = model.fit()\n",
    "display(results.summary())\n",
    "\n",
    "y_hat = results.predict(X)\n",
    "plt.scatter(x,y,alpha=0.1)\n",
    "plt.plot(x,y_hat,'r')\n",
    "plt.show()"
   ]
  },
  {
   "cell_type": "code",
   "execution_count": null,
   "metadata": {},
   "outputs": [],
   "source": [
    "from sklearn.linear_model import LinearRegression\n",
    "\n",
    "x = house_data['sqm_living'].values.reshape(-1, 1)\n",
    "y = house_data['price'].values\n",
    "\n",
    "lr = LinearRegression().fit(x, y)\n",
    "y_hat = lr.predict(x)\n",
    "\n",
    "plt.scatter(x,y,alpha=0.1)\n",
    "plt.plot(x,y_hat,'r')\n",
    "plt.show()\n",
    "\n",
    "beta0 = lr.intercept_\n",
    "beta1 = lr.coef_\n",
    "\n",
    "print('Intercept: \\tbeta_0 = %.2f' % beta0)\n",
    "print('Slope:\\t\\tbeta_1 = %.2f' % beta1)"
   ]
  },
  {
   "cell_type": "code",
   "execution_count": null,
   "metadata": {},
   "outputs": [],
   "source": [
    "from scipy.stats import linregress\n",
    "\n",
    "x = house_data['sqm_living']\n",
    "y = house_data['price']\n",
    "\n",
    "slope, intercept, r_value, p_value, std_err = linregress(x,y)\n",
    "print(slope, intercept, r_value**2, p_value, std_err)"
   ]
  },
  {
   "cell_type": "markdown",
   "metadata": {},
   "source": [
    "## 4.2 Prediction\n",
    "\n",
    "What would be the estimated price for a `sqm_living` value of 800m$^2$?"
   ]
  },
  {
   "cell_type": "code",
   "execution_count": null,
   "metadata": {},
   "outputs": [],
   "source": [
    "sqm_living = 800\n",
    "y_800 = results.predict([1, sqm_living])\n",
    "\n",
    "y_hat = results.predict(X)\n",
    "plt.scatter(x,y,alpha=0.1)\n",
    "plt.plot(x,y_hat,'r')\n",
    "plt.plot(sqm_living,y_800,'g*',markersize = 14)\n",
    "plt.show()\n",
    "\n",
    "print('The estimated value is', y_800[0].round(2))"
   ]
  },
  {
   "cell_type": "code",
   "execution_count": null,
   "metadata": {},
   "outputs": [],
   "source": [
    "x_new = np.array([800]).reshape(1, -1)\n",
    "y_800 = lr.predict(x_new)\n",
    "\n",
    "plt.scatter(x,y,alpha=0.1)\n",
    "plt.plot(x,y_hat,'r')\n",
    "plt.plot(x_new,y_800,'g*',markersize=14)\n",
    "plt.show()\n",
    "\n",
    "print('The estimated value is', y_800[0].round(2))"
   ]
  },
  {
   "cell_type": "markdown",
   "metadata": {},
   "source": [
    "# 5. Exercises\n",
    "\n",
    "All linear regression exercises are very similar. Given two variables $X$ and $Y$ from a dataset, the question to be addressed usually are:\n",
    "\n",
    "1. Describe the relationship between $X$ and $Y$\n",
    "2. Calculate the correlation coefficient for $X$ and $Y$ \n",
    "3. Do the data meet the conditions required for fitting a least squares line? In addition to the scatterplot,\n",
    "use the residual plot and histogram to answer this question.\n",
    "4. Write the equation of the regression line. Interpret the slope and intercept in context\n",
    "5. Do the data provide strong evidence that an increase/decrease in $X$ is associated with an increase/decrease in $Y$? State the null and alternative hypotheses, report the p-value, and state your conclusion.\n",
    "6. Calculate R$^2$ and interpret it in context\n",
    "7. For a value of $x=x_0$, what would be the estimated $\\hat{y}_0$ value? Is it reasonable? "
   ]
  },
  {
   "cell_type": "markdown",
   "metadata": {},
   "source": [
    "### Exercise 1\n",
    "\n",
    "Data on US cancer mortality rates for over 3000 counties are available in the dataset `cancer_reg.csv`. Read the dataset into Python and use it to construct a regression model with `target_deathrate` as the response variable and candidate predictors: `povertypercent`, `studypercap`, `medianage`, `pctunemployed16_over`, `pctprivatecoverage`, `pctbachdeg25_over`.\n",
    "\n",
    "The description of the dataset can be found [here](https://data.world/nrippner/ols-regression-challenge)\n",
    "\n",
    "<div class=\"alert alert-block alert-info\">\n",
    "Find the best predictor for <b>target_deathrate</b> taking into account the above considerations\n",
    "</div>"
   ]
  },
  {
   "cell_type": "code",
   "execution_count": null,
   "metadata": {},
   "outputs": [],
   "source": [
    "df = pd.read_csv('./data/cancer_reg.csv',sep=',', decimal = '.', encoding='latin-1')\n",
    "\n",
    "features = ['target_deathrate','povertypercent','studypercap','medianage',\n",
    "            'pctunemployed16_over','pctprivatecoverage','pctbachdeg25_over']\n",
    "\n",
    "cancer_data = df[features]\n",
    "cancer_data = cancer_data.dropna()\n",
    "cancer_data.head()"
   ]
  },
  {
   "cell_type": "code",
   "execution_count": null,
   "metadata": {},
   "outputs": [],
   "source": [
    "# your code here\n",
    "# ..."
   ]
  },
  {
   "cell_type": "markdown",
   "metadata": {},
   "source": [
    "### Exercise 2\n",
    "\n",
    "In a 2015 [paper](https://www.sciencedirect.com/science/article/pii/S0040162514001656) comparing technological advancement of hybrid electric vehicles (HEV) in different market segments, authors Lim et al. collected data on prices and other features for 154 HEV models. The dataset is in the file `hybrid_reg.cs` and contains the following variables:\n",
    "- *carid*: Vehicle ID\n",
    "- *vehicle*: Make of vehicle\n",
    "- *year*: Model year\n",
    "- **msrp**: Manufacturer’s suggested retail price in 2013 (US dollars).\n",
    "- *accelrate*: Acceleration rate in km/hour/second\n",
    "- *mpg*: Fuel economy in miles/gallon\n",
    "- *mpgmpge*: Max of mpg and mpge (mpge is miles per gallon equivalent for plug-in HEVs to take into account the all electric range)\n",
    "- *carclass*: Model class. C = Compact, M = Midsize, TS = 2 Seater, L = Large, PT = Pickup Truck, MV = Minivan, SUV = Sport Utility Vehicle \n",
    "- *carclass_id*: Index representing model class\n",
    "\n",
    "The variables `carid` and `vehicle` are vehicle identifiers and will not be used in the analysis. Likewise `carclass` will not be used as it is better to use the numerical form of the variable `carclass_id`.\n",
    "\n",
    "<div class=\"alert alert-block alert-info\">\n",
    "Find the best predictor for <b>msrp</b> taking into account the above considerations\n",
    "</div>"
   ]
  },
  {
   "cell_type": "code",
   "execution_count": null,
   "metadata": {},
   "outputs": [],
   "source": [
    "df = pd.read_csv('./data/hybrid_reg.csv',sep=',', decimal = '.', encoding='latin-1')\n",
    "hybrid_data = df.drop(columns = ['carid','vehicle','carclass'])\n",
    "\n",
    "hybrid_data.head()"
   ]
  },
  {
   "cell_type": "code",
   "execution_count": null,
   "metadata": {},
   "outputs": [],
   "source": [
    "# your code here\n",
    "# ..."
   ]
  }
 ],
 "metadata": {
  "kernelspec": {
   "display_name": "Python 3",
   "language": "python",
   "name": "python3"
  },
  "language_info": {
   "codemirror_mode": {
    "name": "ipython",
    "version": 3
   },
   "file_extension": ".py",
   "mimetype": "text/x-python",
   "name": "python",
   "nbconvert_exporter": "python",
   "pygments_lexer": "ipython3",
   "version": "3.7.9"
  }
 },
 "nbformat": 4,
 "nbformat_minor": 2
}
