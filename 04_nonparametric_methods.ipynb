{
 "cells": [
  {
   "cell_type": "markdown",
   "metadata": {},
   "source": [
    "This notebook, by [felipe.alonso@urjc.es](mailto:felipe.alonso@urjc.es)\n",
    "\n",
    "In this notebook we will:\n",
    "\n",
    "1. Learn how to test for normality in the data\n",
    "\n",
    "2. Solve hypothesis testing examples using `scipy.stats` nonparametric methods:\n",
    "\n",
    "    - Sign test: with the [`binom_test`](https://docs.scipy.org/doc/scipy/reference/generated/scipy.stats.binom_test.html)\n",
    "    - Wilcoxon signed-rank test: [`wilcoxon`](https://docs.scipy.org/doc/scipy/reference/generated/scipy.stats.wilcoxon.html#scipy.stats.wilcoxon)\n",
    "    - Rank-sum test. There are two options here, depending on how **tied observations** are handle.\n",
    "        * [`ranksums`](https://docs.scipy.org/doc/scipy/reference/generated/scipy.stats.ranksums.html#scipy.stats.ranksums)\n",
    "        * [`mannwhitneyu`](https://docs.scipy.org/doc/scipy/reference/generated/scipy.stats.mannwhitneyu.html#scipy.stats.mannwhitneyu)\n",
    "      \n",
    "### Preliminaries:\n",
    "\n",
    "- #### Tied observations\n",
    "\n",
    "Tied observations are **observations having the same value**, which prohibits the assignment of unique rank numbers. As a way out tied observations are assigned to the average of their hypothetical ranks.\n",
    "\n",
    "The difference between `ranksums` and `mannwhitneyu` is that `ranksums` does not handle **ties** between measurements in `x` and `y`.\n",
    "\n",
    "\n",
    "- #### Nonparametric assumptions\n",
    "\n",
    "A common mistake is to think such tests require no assumptions, but this is not true. The assumption made for the Wilcoxon test is that the variable being tested is **symmetrically distributed about the median**, which would also be the mean."
   ]
  },
  {
   "cell_type": "markdown",
   "metadata": {},
   "source": [
    "---\n",
    "# 0. Load libraries"
   ]
  },
  {
   "cell_type": "code",
   "execution_count": null,
   "metadata": {},
   "outputs": [],
   "source": [
    "import numpy as np\n",
    "import pandas as pd\n",
    "\n",
    "import matplotlib.pyplot as plt\n",
    "%matplotlib inline\n",
    "\n",
    "import statsmodels.api as sm\n",
    "\n",
    "from scipy.stats import norm, uniform, expon, t\n",
    "from scipy.stats import kstest, shapiro\n",
    "from scipy.stats import wilcoxon, ttest_1samp, ttest_rel, mannwhitneyu"
   ]
  },
  {
   "cell_type": "markdown",
   "metadata": {},
   "source": [
    "---\n",
    "# 1. Test for normality\n",
    "\n",
    "There are several methods of assessing whether data are normally distributed or not. A nice review of methods can be found [here](https://www.ncbi.nlm.nih.gov/pmc/articles/PMC3693611/). There are two main approaches:\n",
    "\n",
    "1. Visual methods\n",
    "    - Histogram, boxplots, [QQ-plots](https://www.statisticshowto.datasciencecentral.com/q-q-plots/)\n",
    "2. Statistical methods\n",
    "    - Kolgomorov-Smirnov test, Shapiro-Wilk test, among others.\n",
    "    \n",
    "    \n",
    "### When is non-normality a problem?\n",
    "\n",
    "1. Small sample size (< 50)\n",
    "2. Highly skewed data\n",
    "3. Outliers\n",
    "4. When there is “activity” in the tails of the data set.\n",
    "\n",
    "## 1.1 Visual methods\n",
    "\n",
    "Visual inspection of the distribution may be used for assessing normality, although this approach is usually unreliable and does not guarantee that the distribution is normal."
   ]
  },
  {
   "cell_type": "code",
   "execution_count": null,
   "metadata": {},
   "outputs": [],
   "source": [
    "def visual_normality_test(x, bins = 20):\n",
    "        \n",
    "    mu = np.mean(x)\n",
    "    sigma = np.std(x, ddof = 1) # unbiased std\n",
    "\n",
    "    plt.figure(figsize = (20,4))\n",
    "\n",
    "    ax1 = plt.subplot(1,3,1)\n",
    "    ax1.hist(x,bins=bins, density = True)\n",
    "    x_axis = np.linspace(mu - 4*sigma, mu + 4*sigma, 100)\n",
    "    ax1.plot(x_axis,norm.pdf(x_axis, mu, sigma),'r',linewidth=2)\n",
    "    ax1.set_title('Normalized histogram')\n",
    "    \n",
    "    ax2 = plt.subplot(1,3,2)\n",
    "    ax2.boxplot(x)\n",
    "    ax2.set_title('Boxplot')\n",
    "    \n",
    "    ax3 = plt.subplot(1,3,3)\n",
    "    sm.qqplot(x, line='s', ax=ax3)\n",
    "    ax3.set_title('QQ Plot')\n",
    "\n",
    "    plt.show()"
   ]
  },
  {
   "cell_type": "markdown",
   "metadata": {},
   "source": [
    "### Example 1:\n",
    "\n",
    "<div class=\"alert alert-block alert-info\">\n",
    "Test how the above function works on normal, uniform and exponential random variables.\n",
    "</div>"
   ]
  },
  {
   "cell_type": "code",
   "execution_count": null,
   "metadata": {},
   "outputs": [],
   "source": [
    "n = 20\n",
    "\n",
    "normal_sample  = norm.rvs(size = n)\n",
    "uniform_sample = uniform.rvs(size = n) - 0.5\n",
    "expon_sample   = expon.rvs(size = n)\n",
    "\n",
    "visual_normality_test(normal_sample)\n",
    "visual_normality_test(uniform_sample)\n",
    "visual_normality_test(expon_sample)"
   ]
  },
  {
   "cell_type": "markdown",
   "metadata": {},
   "source": [
    "## 1.2 Statistical methods\n",
    "\n",
    "The normality tests compare the scores in the sample to a normally distributed set of scores with the same mean and standard deviation. \n",
    "\n",
    "The hypotheses used are:\n",
    "- $H_0$: The sample data are not significantly different than a normal population.\n",
    "- $H_1$: The sample data are significantly different than a normal population.\n"
   ]
  },
  {
   "cell_type": "markdown",
   "metadata": {},
   "source": [
    "### 1.2.1 Kolmogorov-Smirnov (KS) test\n",
    "\n",
    "This performs a test of the distribution $F(x)$ of an observed random variable against a given distribution $G(x)$. Under the null hypothesis, the two distributions are identical, $F(x)=G(x)$.\n",
    "\n",
    "- The KS test is well-known but it has not much power. This means that a large number of observations ($n>50$) is necessary to reject the null hypothesis. \n",
    "- It is also sensitive to outliers\n",
    "\n",
    "In Python, it is implemented by `scipy.stats` under the [`kstest`](https://docs.scipy.org/doc/scipy/reference/generated/scipy.stats.kstest.html#scipy.stats.kstest) function.\n",
    "\n",
    "### Example 2:\n",
    "\n",
    "<div class=\"alert alert-block alert-info\">\n",
    "Run the following code for random variables drawn from different distributions and different sample sizes\n",
    "</div>"
   ]
  },
  {
   "cell_type": "code",
   "execution_count": null,
   "metadata": {},
   "outputs": [],
   "source": [
    "n = 5000\n",
    "\n",
    "normal_sample  = norm.rvs(size = n)\n",
    "uniform_sample = uniform.rvs(size = n) - 0.5\n",
    "expon_sample   = expon.rvs(size = n)\n",
    "t_sample       = t(df=20).rvs(size=n)\n",
    "\n",
    "x = t_sample\n",
    "visual_normality_test(x)\n",
    "\n",
    "ks_statistic, p_value = kstest(x, 'norm', args = (x.mean(),x.std()))\n",
    "print('Statistic:', ks_statistic, '\\t p-value:', p_value)"
   ]
  },
  {
   "cell_type": "markdown",
   "metadata": {},
   "source": [
    "### 1.2.2 Shapiro-Wilk (SW) test\n",
    "\n",
    "The [SW test](https://en.wikipedia.org/wiki/Shapiro%E2%80%93Wilk_test) is based on the correlation between the data and the corresponding normal scoresand provides **better power than the KS test**. \n",
    "\n",
    "The Shapiro Wilk test is the most powerful test when testing for a normal distribution. It has been developed specifically for the normal distribution and it cannot be used for testing against other distributions like for example the KS test.\n",
    "\n",
    "- Works best for data sets with $n < 50$, but can be used with larger data sets.\n",
    "\n",
    "In Python, it is implemented by `scipy.stats` under the [`shapiro`](https://docs.scipy.org/doc/scipy/reference/generated/scipy.stats.shapiro.html#scipy.stats.shapiro) function. Notice that for $N > 5000$ the $W$ test statistic is accurate but the p-value may not be.\n",
    "\n",
    "### Example 3:\n",
    "\n",
    "<div class=\"alert alert-block alert-info\">\n",
    "Run the following code for random variables drawn from different distributions and different sample sizes. Compare the results with the KS test\n",
    "</div>"
   ]
  },
  {
   "cell_type": "code",
   "execution_count": null,
   "metadata": {},
   "outputs": [],
   "source": [
    "n = 50\n",
    "\n",
    "normal_sample  = norm.rvs(size = n)\n",
    "uniform_sample = uniform.rvs(size = n) - 0.5\n",
    "expon_sample   = expon.rvs(size = n)\n",
    "t_sample       = t(df=3).rvs(size=n)\n",
    "\n",
    "x = uniform_sample\n",
    "\n",
    "visual_normality_test(x)\n",
    "\n",
    "ks_statistic, p_value = kstest(x, 'norm', args = (x.mean(),x.std()))\n",
    "print('KS Statistic:', ks_statistic, '\\t p-value:', p_value)\n",
    "\n",
    "sw_statistic, p_value = shapiro(x)\n",
    "print('SW Statistic:', sw_statistic, '\\t p-value:', p_value)"
   ]
  },
  {
   "cell_type": "markdown",
   "metadata": {},
   "source": [
    "### 1.3 Summary\n",
    "\n",
    "- Use visual method, together with statistical test\n",
    "- For $n>50$ use the KS test\n",
    "- For $n<50$ use the SW test\n",
    "\n",
    "Notice that, as it is mentioned [here](https://www.ncbi.nlm.nih.gov/pmc/articles/PMC3693611/), for small sample sizes, normality tests have little power to reject the null hypothesis and therefore small samples most often pass normality tests"
   ]
  },
  {
   "cell_type": "markdown",
   "metadata": {},
   "source": [
    "---\n",
    "\n",
    "# 2. Nonparametric methods\n",
    "\n",
    "A nice review can be found [here](https://www.ncbi.nlm.nih.gov/pmc/articles/PMC153434/).\n",
    "\n",
    "Due to its flexibility, nonparametric methods are commonly used in research:\n",
    "\n",
    "- [Nättinen, J., Jylhä, A., Aapola, U. et al. Patient stratification in clinical glaucoma trials using the individual tear proteome. Sci Rep 8, 12038 (2018).](https://www.nature.com/articles/s41598-018-30369-x#citeas)\n",
    "\n",
    "- [Rapid and active stabilization of visual cortical firing rates across light–dark transitions\n",
    "Alejandro Torrado Pacheco, et al. Proceedings of the National Academy of Sciences Sep 2019, 116 (36) 18068-18077](https://www.pnas.org/content/pnas/116/36/18068.full.pdf)"
   ]
  },
  {
   "cell_type": "markdown",
   "metadata": {},
   "source": [
    "### Exercise 1:\n",
    "\n",
    "We want to test if a clinical intervention had a significant effect on the blood pressure. The file `./data/blood_preassure.csv` contains blood pressure readings before (`bp_before`) and after (`bp_after`) an intervention. \n",
    "\n",
    "<div class=\"alert alert-block alert-info\">\n",
    "Use an appropiate test to address this question\n",
    "</div>"
   ]
  },
  {
   "cell_type": "code",
   "execution_count": null,
   "metadata": {},
   "outputs": [],
   "source": [
    "bp_data = pd.read_csv('./data/blood_pressure.csv')\n",
    "x = (bp_data['bp_before'] - bp_data['bp_after']).values\n",
    "\n",
    "# 1. Check if data is normaly distributed\n",
    "visual_normality_test(x, bins=10)\n",
    "if x.shape[0] > 50:\n",
    "    _, p_value = kstest(x,'norm', args=(x.mean(), x.std()) )\n",
    "else:\n",
    "    _, p_value = shapiro(x)\n",
    "    \n",
    "if p_value > 0.05: \n",
    "    print('Looks like a normal distribution, p-value:', p_value)\n",
    "else:\n",
    "    print('Does not lool like a normal distribution, p-value:', p_value)"
   ]
  },
  {
   "cell_type": "code",
   "execution_count": null,
   "metadata": {},
   "outputs": [],
   "source": [
    "# your code here\n",
    "# ..."
   ]
  },
  {
   "cell_type": "markdown",
   "metadata": {},
   "source": [
    "### Exercise 2:\n",
    "\n",
    "You might wish to investigate whether the women’s energy intake deviates systematically from a recommended value of $1854\\,\\textrm{kcal}$. You have a sample of observations for eleven women\n",
    "\n",
    "$$\\text{sample }=[1262.4, 1312.8, 1353.6, 1483.2, 1533.6, 1563.6, 1633.2, 1803.6, 1803.6, 1975.2, 2104.8]\\,\\textrm{kcal}$$\n",
    "\n",
    "<div class=\"alert alert-block alert-info\">\n",
    "Use an appropiate test to address this question\n",
    "</div>"
   ]
  },
  {
   "cell_type": "code",
   "execution_count": null,
   "metadata": {},
   "outputs": [],
   "source": [
    "daily_intake = np.array([1262.4, 1312.8, 1353.6, 1483.2, 1533.6, 1563.6, 1633.2, 1803.6, 1803.6, 1975.2, 2104.8])\n",
    "\n",
    "x = daily_intake\n",
    "if len(x) > 50:\n",
    "    _, p_value = kstest(x,'norm', args=(x.mean(), x.std()) )\n",
    "else:\n",
    "    _, p_value = shapiro(x)\n",
    "    \n",
    "if p_value > 0.05: \n",
    "    print('Looks like a normal distribution, p-value:', p_value)\n",
    "else:\n",
    "    print('Does not lool like a normal distribution, p-value:', p_value)"
   ]
  },
  {
   "cell_type": "code",
   "execution_count": null,
   "metadata": {},
   "outputs": [],
   "source": [
    "# your code here\n",
    "# ..."
   ]
  },
  {
   "cell_type": "markdown",
   "metadata": {},
   "source": [
    "### Exercise 3:\n",
    "\n",
    "An environmental activist believes her community’s drinking water contains at least the 40.0 parts per million (ppm) limit recommended by health officials for a certain metal. In response to her claim, the health department samples and analyzes drinking water from a sample of 11 households in the community. The results are as in the table below\n",
    "\n",
    "|Household|Observed concentration|\n",
    "|---|---|\n",
    "|A|39| \n",
    "|B|20.2|\n",
    "|C|40|\n",
    "|D|32.2|\n",
    "|E|30.5|\n",
    "|F|26.5|\n",
    "|G|42.1|\n",
    "|H|45.6|\n",
    "|I|42.1|\n",
    "|J|29.9|\n",
    "|K|40.9|\n",
    "\n",
    "<div class=\"alert alert-block alert-info\">\n",
    "At the 0.05 level of significance, can we conclude that the community’s drinking water might at least 40.0 ppm recommended limit?\n",
    "</div>"
   ]
  },
  {
   "cell_type": "code",
   "execution_count": null,
   "metadata": {},
   "outputs": [],
   "source": [
    "# Your code here\n",
    "# ...\n"
   ]
  },
  {
   "cell_type": "markdown",
   "metadata": {},
   "source": [
    "### Exercise 4:\n",
    "\n",
    "Student satisfaction surveys ask students to rate a particular course, on a scale of 1 (poor) to 10 (excellent). In previous years the replies have been symmetrically distributed about a median of 4. This year there has been a much greater on-line element to the course, and staff want to know how the rating of this version of the course compares with the previous one. 14 students, randomly selected, were asked to rate the new version of the course and their ratings were as follows:\n",
    "\n",
    "$$\\text{sample }= [1,3,6,4,8,2,3,6,5,2,3,4,1,2]$$\n",
    "\n",
    "<div class=\"alert alert-block alert-info\">\n",
    "Is there any evidence at the 5% level that students rate this version any differently?\n",
    "</div>"
   ]
  },
  {
   "cell_type": "code",
   "execution_count": null,
   "metadata": {},
   "outputs": [],
   "source": [
    "# Your code here\n",
    "# ..."
   ]
  },
  {
   "cell_type": "markdown",
   "metadata": {},
   "source": [
    "### Exercise 5: \n",
    "\n",
    "we consider a study investigating potential links between diet and physical development. Height and weight data have been gathered from two cohorts: one of subjects who had suffered from malnutrition in childhood (cohort A) and one of subjects who had not (cohort B). The height and weight data are shown in the following table.\n",
    "\n",
    "\n",
    "|A: Height (cm)| A: Weight (kg)| B: Height (cm)|B: Weight (kg)|\n",
    "|:-:|:-:|:-:|:-:|\n",
    "|180|78|165|83|\n",
    "|170|76|187|82|\n",
    "|163|80|161|100|\n",
    "|171|78|165|83|\n",
    "|167|76|163|74|\n",
    "|155|73|158|101|\n",
    "|174|74| - | - |\n",
    "\n",
    "<div class=\"alert alert-block alert-info\">\n",
    "Are heights of the subjects in cohorts A and B  different?\n",
    "</div>"
   ]
  },
  {
   "cell_type": "code",
   "execution_count": null,
   "metadata": {},
   "outputs": [],
   "source": [
    "# Your code here\n",
    "# ..."
   ]
  },
  {
   "cell_type": "markdown",
   "metadata": {},
   "source": [
    "### Exercise 6:\n",
    "\n",
    "Data below show the marks obtained by Biomedical Engineering students in a midterm examination\n",
    "\n",
    "|Gender|Mark|\n",
    "|---|---|\n",
    "|Male|6,94|\n",
    "|Female|6,67|\n",
    "|Male|7,78|\n",
    "|Female|3,89|\n",
    "|Male|7,78|\n",
    "|Female|1,39|\n",
    "|Female|8,89|\n",
    "|Female|1,11|\n",
    "|Female|7,78|\n",
    "|Male|5,83|\n",
    "|Female|8,89|\n",
    "|Female|5,56|\n",
    "|Female|8,89|\n",
    "|Female|5,00|\n",
    "|Male|10,00|\n",
    "|Female|8,89|\n",
    "|Male|5,00|\n",
    "|Male|2,22|\n",
    "|Female|1,39|\n",
    "|Male|5,83|\n",
    "|Male|8,89|\n",
    "\n",
    "<div class=\"alert alert-block alert-info\">\n",
    "Can we conclude that the achievements of male and female students are identical?\n",
    "</div>"
   ]
  },
  {
   "cell_type": "code",
   "execution_count": null,
   "metadata": {},
   "outputs": [],
   "source": [
    "# Your code here\n",
    "# ..."
   ]
  }
 ],
 "metadata": {
  "kernelspec": {
   "display_name": "Python 3",
   "language": "python",
   "name": "python3"
  },
  "language_info": {
   "codemirror_mode": {
    "name": "ipython",
    "version": 3
   },
   "file_extension": ".py",
   "mimetype": "text/x-python",
   "name": "python",
   "nbconvert_exporter": "python",
   "pygments_lexer": "ipython3",
   "version": "3.6.2"
  }
 },
 "nbformat": 4,
 "nbformat_minor": 2
}
