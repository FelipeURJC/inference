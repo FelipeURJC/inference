{
 "cells": [
  {
   "cell_type": "markdown",
   "metadata": {},
   "source": [
    "This notebook, by felipe.alonso@urjc.es and jorge.calero@urjc.es\n",
    "\n",
    "This notebook is an introduction to descriptive statistics using pandas. The first step when working with data is to perform an exploratory analysis to get some intuitions about how data is distributed. \n",
    "\n",
    "\n",
    "## 1. Load libraries"
   ]
  },
  {
   "cell_type": "code",
   "execution_count": 1,
   "metadata": {},
   "outputs": [],
   "source": [
    "import numpy as np\n",
    "import scipy.stats as ss\n",
    "import matplotlib.pyplot as plt\n",
    "%matplotlib inline\n",
    "import pandas as pd"
   ]
  },
  {
   "cell_type": "markdown",
   "metadata": {},
   "source": [
    "## 2. Pandas\n",
    "\n",
    "the pandas library includes two types of data structures:\n",
    "\n",
    "- [**Series**](https://pandas.pydata.org/pandas-docs/stable/reference/api/pandas.Series.html) which are ene-dimensional ndarray with axis labels (including time series)\n",
    "- [**DataFrames**](https://pandas.pydata.org/pandas-docs/stable/reference/api/pandas.DataFrame.html#pandas.DataFrame): Two-dimensional size-mutable, potentially heterogeneous tabular data structure with labeled axes (rows and columns). Arithmetic operations align on both row and column labels. Can be thought of as a dict-like container for Series objects. The primary pandas data structure.\n",
    "\n",
    "Let's see some examples.\n",
    "\n",
    "### 2.1 Series"
   ]
  },
  {
   "cell_type": "code",
   "execution_count": 3,
   "metadata": {},
   "outputs": [
    {
     "name": "stdout",
     "output_type": "stream",
     "text": [
      "0          1\n",
      "1          2\n",
      "2          3\n",
      "3    catorce\n",
      "dtype: object\n"
     ]
    }
   ],
   "source": [
    "s = pd.Series([1,2,3,\"catorce\"])\n",
    "print(s)"
   ]
  },
  {
   "cell_type": "code",
   "execution_count": 13,
   "metadata": {},
   "outputs": [
    {
     "data": {
      "text/plain": [
       "array([3, 6, 9, 'catorcecatorcecatorce'], dtype=object)"
      ]
     },
     "execution_count": 13,
     "metadata": {},
     "output_type": "execute_result"
    }
   ],
   "source": [
    "# s.index\n",
    "# s[3]\n",
    "# s[0:3]\n",
    "# s.values\n",
    "# s.values * 2"
   ]
  },
  {
   "cell_type": "markdown",
   "metadata": {},
   "source": [
    "Indexes can be easily changed"
   ]
  },
  {
   "cell_type": "code",
   "execution_count": 11,
   "metadata": {},
   "outputs": [
    {
     "name": "stdout",
     "output_type": "stream",
     "text": [
      "hola           1\n",
      "que            2\n",
      "tal            3\n",
      "estas    catorce\n",
      "dtype: object\n"
     ]
    }
   ],
   "source": [
    "s = pd.Series(data =[1,2,3,\"catorce\"], index = ['hola','que','tal','estas'])\n",
    "print(s)"
   ]
  },
  {
   "cell_type": "code",
   "execution_count": 14,
   "metadata": {},
   "outputs": [],
   "source": [
    "# s['hola']\n",
    "# s[0]\n",
    "# s[0:3]"
   ]
  },
  {
   "cell_type": "markdown",
   "metadata": {},
   "source": [
    "# Diccionarios en Python"
   ]
  },
  {
   "cell_type": "markdown",
   "metadata": {},
   "source": [
    "Sin embargo, lo interesante de la libería pandas no es tanto las Series como los DataFrame. Estos son estructuras de datos multidimensionales. Es decir, son tablas de datos con columnas y filas.\n",
    "\n",
    "La primera opción es meter los datos a mano. Para ello, recurrimos a los diccionarios"
   ]
  },
  {
   "cell_type": "markdown",
   "metadata": {},
   "source": [
    "El primer caso, tenemos un diccionario muy básico, que vuelve a tener una sola línea. La idea es asignarle un índice (elemento a la izquierda de los :) a cada elemento del diccionario (elemento de la derecha de los :)"
   ]
  },
  {
   "cell_type": "code",
   "execution_count": 10,
   "metadata": {},
   "outputs": [],
   "source": [
    "dict = {0: 1, 1: 2, 2: 3, 3: \"catorce\"}"
   ]
  },
  {
   "cell_type": "code",
   "execution_count": 11,
   "metadata": {},
   "outputs": [
    {
     "name": "stdout",
     "output_type": "stream",
     "text": [
      "{0: 1, 1: 2, 2: 3, 3: 'catorce'}\n"
     ]
    }
   ],
   "source": [
    "print(dict)"
   ]
  },
  {
   "cell_type": "markdown",
   "metadata": {},
   "source": [
    "Para llamar al número 1, tendremos que llamarlo por su índice"
   ]
  },
  {
   "cell_type": "code",
   "execution_count": 12,
   "metadata": {},
   "outputs": [
    {
     "data": {
      "text/plain": [
       "1"
      ]
     },
     "execution_count": 12,
     "metadata": {},
     "output_type": "execute_result"
    }
   ],
   "source": [
    "dict[0]"
   ]
  },
  {
   "cell_type": "markdown",
   "metadata": {},
   "source": [
    "Podemos escribir un diccionario más elaborado, ahora con varias columnas"
   ]
  },
  {
   "cell_type": "code",
   "execution_count": 13,
   "metadata": {},
   "outputs": [],
   "source": [
    "dict = {\"Nombre\": [\"Roger\", \"Brian\", \"John\"],\n",
    "       \"Apellido\": [\"Taylor\", \"May\", \"Deacon\"],\n",
    "       \"Nacimiento\": [1949, 1947, 1951]}"
   ]
  },
  {
   "cell_type": "code",
   "execution_count": 14,
   "metadata": {},
   "outputs": [
    {
     "name": "stdout",
     "output_type": "stream",
     "text": [
      "{'Nombre': ['Roger', 'Brian', 'John'], 'Apellido': ['Taylor', 'May', 'Deacon'], 'Nacimiento': [1949, 1947, 1951]}\n"
     ]
    }
   ],
   "source": [
    "print(dict)"
   ]
  },
  {
   "cell_type": "markdown",
   "metadata": {},
   "source": [
    "En este caso, al hacer una llamada a uno de los indices(\"Nombre\" por ejemplo), no nos devuelve un número, sino una lista"
   ]
  },
  {
   "cell_type": "code",
   "execution_count": 15,
   "metadata": {},
   "outputs": [
    {
     "data": {
      "text/plain": [
       "['Roger', 'Brian', 'John']"
      ]
     },
     "execution_count": 15,
     "metadata": {},
     "output_type": "execute_result"
    }
   ],
   "source": [
    "dict[\"Nombre\"]"
   ]
  },
  {
   "cell_type": "code",
   "execution_count": 16,
   "metadata": {},
   "outputs": [
    {
     "ename": "KeyError",
     "evalue": "0",
     "output_type": "error",
     "traceback": [
      "\u001b[1;31m---------------------------------------------------------------------------\u001b[0m",
      "\u001b[1;31mKeyError\u001b[0m                                  Traceback (most recent call last)",
      "\u001b[1;32m<ipython-input-16-6f3bddff36cb>\u001b[0m in \u001b[0;36m<module>\u001b[1;34m\u001b[0m\n\u001b[1;32m----> 1\u001b[1;33m \u001b[0mdict\u001b[0m\u001b[1;33m[\u001b[0m\u001b[1;36m0\u001b[0m\u001b[1;33m]\u001b[0m\u001b[1;33m\u001b[0m\u001b[0m\n\u001b[0m",
      "\u001b[1;31mKeyError\u001b[0m: 0"
     ]
    }
   ],
   "source": [
    "dict[0]"
   ]
  },
  {
   "cell_type": "markdown",
   "metadata": {},
   "source": [
    "Ahora, escribiendo dict['indicequequeramos'] estamos llamando a la lista que tiene ese índice. Por tanto, podemos redefinir que a que llama cada índice, modificandolo como queramos. Por ejemplo, ahora he añadido un elemento nuevo en cada lista:"
   ]
  },
  {
   "cell_type": "code",
   "execution_count": 17,
   "metadata": {},
   "outputs": [
    {
     "name": "stdout",
     "output_type": "stream",
     "text": [
      "{'Nombre': ['Freddie', 'Roger', 'Brian', 'John'], 'Apellido': ['Mercury', 'Taylor', 'May', 'Deacon'], 'Nacimiento': [1946, 1949, 1947, 1951]}\n"
     ]
    }
   ],
   "source": [
    "dict[\"Nombre\"]=[\"Freddie\" ,\"Roger\", \"Brian\", \"John\"]\n",
    "dict[\"Apellido\"] = [\"Mercury\",\"Taylor\", \"May\", \"Deacon\"]\n",
    "dict[\"Nacimiento\"]= [1946,1949, 1947, 1951]\n",
    "print(dict)"
   ]
  },
  {
   "cell_type": "code",
   "execution_count": 18,
   "metadata": {},
   "outputs": [
    {
     "name": "stdout",
     "output_type": "stream",
     "text": [
      "['Freddie', 'Roger', 'Brian', 'John']\n"
     ]
    }
   ],
   "source": [
    "nombres = dict['Nombre']\n",
    "print(nombres)"
   ]
  },
  {
   "cell_type": "markdown",
   "metadata": {},
   "source": [
    "# DataFrames"
   ]
  },
  {
   "cell_type": "markdown",
   "metadata": {},
   "source": [
    "Ahora vamos a crear un DataFrame, que vamos a llamar Queen, utilizando de datos este diccionario"
   ]
  },
  {
   "cell_type": "code",
   "execution_count": 19,
   "metadata": {},
   "outputs": [],
   "source": [
    "Queen = pd.DataFrame(data = dict)"
   ]
  },
  {
   "cell_type": "markdown",
   "metadata": {},
   "source": [
    "Poniendo el nombre, nos muestra por pantalla el DataFrame (de una forma bastante más visual que el diccionario)"
   ]
  },
  {
   "cell_type": "code",
   "execution_count": 20,
   "metadata": {},
   "outputs": [
    {
     "data": {
      "text/html": [
       "<div>\n",
       "<style scoped>\n",
       "    .dataframe tbody tr th:only-of-type {\n",
       "        vertical-align: middle;\n",
       "    }\n",
       "\n",
       "    .dataframe tbody tr th {\n",
       "        vertical-align: top;\n",
       "    }\n",
       "\n",
       "    .dataframe thead th {\n",
       "        text-align: right;\n",
       "    }\n",
       "</style>\n",
       "<table border=\"1\" class=\"dataframe\">\n",
       "  <thead>\n",
       "    <tr style=\"text-align: right;\">\n",
       "      <th></th>\n",
       "      <th>Nombre</th>\n",
       "      <th>Apellido</th>\n",
       "      <th>Nacimiento</th>\n",
       "    </tr>\n",
       "  </thead>\n",
       "  <tbody>\n",
       "    <tr>\n",
       "      <th>0</th>\n",
       "      <td>Freddie</td>\n",
       "      <td>Mercury</td>\n",
       "      <td>1946</td>\n",
       "    </tr>\n",
       "    <tr>\n",
       "      <th>1</th>\n",
       "      <td>Roger</td>\n",
       "      <td>Taylor</td>\n",
       "      <td>1949</td>\n",
       "    </tr>\n",
       "    <tr>\n",
       "      <th>2</th>\n",
       "      <td>Brian</td>\n",
       "      <td>May</td>\n",
       "      <td>1947</td>\n",
       "    </tr>\n",
       "    <tr>\n",
       "      <th>3</th>\n",
       "      <td>John</td>\n",
       "      <td>Deacon</td>\n",
       "      <td>1951</td>\n",
       "    </tr>\n",
       "  </tbody>\n",
       "</table>\n",
       "</div>"
      ],
      "text/plain": [
       "    Nombre Apellido  Nacimiento\n",
       "0  Freddie  Mercury        1946\n",
       "1    Roger   Taylor        1949\n",
       "2    Brian      May        1947\n",
       "3     John   Deacon        1951"
      ]
     },
     "execution_count": 20,
     "metadata": {},
     "output_type": "execute_result"
    }
   ],
   "source": [
    "Queen"
   ]
  },
  {
   "cell_type": "markdown",
   "metadata": {},
   "source": [
    "# Manejando índices en DataFrames"
   ]
  },
  {
   "cell_type": "markdown",
   "metadata": {},
   "source": [
    "Como se puede ver, ha creado una tabla donde las columnas tienen el nombre de los índices del diccionario, y las filas, que van a jugar el papel de índice en el DataFrame, los ha creado automáticamente, ya que no los hemos especificado.\n",
    "\n",
    "Con el comando \"nombre_DataFrame\".index, podemos definir los índices que nosotros queramos"
   ]
  },
  {
   "cell_type": "code",
   "execution_count": 21,
   "metadata": {},
   "outputs": [
    {
     "ename": "ValueError",
     "evalue": "Length mismatch: Expected axis has 4 elements, new values have 3 elements",
     "output_type": "error",
     "traceback": [
      "\u001b[1;31m---------------------------------------------------------------------------\u001b[0m",
      "\u001b[1;31mValueError\u001b[0m                                Traceback (most recent call last)",
      "\u001b[1;32m<ipython-input-21-d245e04b339a>\u001b[0m in \u001b[0;36m<module>\u001b[1;34m\u001b[0m\n\u001b[1;32m----> 1\u001b[1;33m \u001b[0mQueen\u001b[0m\u001b[1;33m.\u001b[0m\u001b[0mindex\u001b[0m \u001b[1;33m=\u001b[0m \u001b[1;33m[\u001b[0m\u001b[1;34m'voz'\u001b[0m\u001b[1;33m,\u001b[0m\u001b[1;34m'bateria'\u001b[0m\u001b[1;33m,\u001b[0m\u001b[1;34m'guitarra'\u001b[0m\u001b[1;33m]\u001b[0m\u001b[1;33m\u001b[0m\u001b[0m\n\u001b[0m",
      "\u001b[1;32m~\\Anaconda3\\lib\\site-packages\\pandas\\core\\generic.py\u001b[0m in \u001b[0;36m__setattr__\u001b[1;34m(self, name, value)\u001b[0m\n\u001b[0;32m   4387\u001b[0m         \u001b[1;32mtry\u001b[0m\u001b[1;33m:\u001b[0m\u001b[1;33m\u001b[0m\u001b[0m\n\u001b[0;32m   4388\u001b[0m             \u001b[0mobject\u001b[0m\u001b[1;33m.\u001b[0m\u001b[0m__getattribute__\u001b[0m\u001b[1;33m(\u001b[0m\u001b[0mself\u001b[0m\u001b[1;33m,\u001b[0m \u001b[0mname\u001b[0m\u001b[1;33m)\u001b[0m\u001b[1;33m\u001b[0m\u001b[0m\n\u001b[1;32m-> 4389\u001b[1;33m             \u001b[1;32mreturn\u001b[0m \u001b[0mobject\u001b[0m\u001b[1;33m.\u001b[0m\u001b[0m__setattr__\u001b[0m\u001b[1;33m(\u001b[0m\u001b[0mself\u001b[0m\u001b[1;33m,\u001b[0m \u001b[0mname\u001b[0m\u001b[1;33m,\u001b[0m \u001b[0mvalue\u001b[0m\u001b[1;33m)\u001b[0m\u001b[1;33m\u001b[0m\u001b[0m\n\u001b[0m\u001b[0;32m   4390\u001b[0m         \u001b[1;32mexcept\u001b[0m \u001b[0mAttributeError\u001b[0m\u001b[1;33m:\u001b[0m\u001b[1;33m\u001b[0m\u001b[0m\n\u001b[0;32m   4391\u001b[0m             \u001b[1;32mpass\u001b[0m\u001b[1;33m\u001b[0m\u001b[0m\n",
      "\u001b[1;32mpandas\\_libs\\properties.pyx\u001b[0m in \u001b[0;36mpandas._libs.properties.AxisProperty.__set__\u001b[1;34m()\u001b[0m\n",
      "\u001b[1;32m~\\Anaconda3\\lib\\site-packages\\pandas\\core\\generic.py\u001b[0m in \u001b[0;36m_set_axis\u001b[1;34m(self, axis, labels)\u001b[0m\n\u001b[0;32m    644\u001b[0m \u001b[1;33m\u001b[0m\u001b[0m\n\u001b[0;32m    645\u001b[0m     \u001b[1;32mdef\u001b[0m \u001b[0m_set_axis\u001b[0m\u001b[1;33m(\u001b[0m\u001b[0mself\u001b[0m\u001b[1;33m,\u001b[0m \u001b[0maxis\u001b[0m\u001b[1;33m,\u001b[0m \u001b[0mlabels\u001b[0m\u001b[1;33m)\u001b[0m\u001b[1;33m:\u001b[0m\u001b[1;33m\u001b[0m\u001b[0m\n\u001b[1;32m--> 646\u001b[1;33m         \u001b[0mself\u001b[0m\u001b[1;33m.\u001b[0m\u001b[0m_data\u001b[0m\u001b[1;33m.\u001b[0m\u001b[0mset_axis\u001b[0m\u001b[1;33m(\u001b[0m\u001b[0maxis\u001b[0m\u001b[1;33m,\u001b[0m \u001b[0mlabels\u001b[0m\u001b[1;33m)\u001b[0m\u001b[1;33m\u001b[0m\u001b[0m\n\u001b[0m\u001b[0;32m    647\u001b[0m         \u001b[0mself\u001b[0m\u001b[1;33m.\u001b[0m\u001b[0m_clear_item_cache\u001b[0m\u001b[1;33m(\u001b[0m\u001b[1;33m)\u001b[0m\u001b[1;33m\u001b[0m\u001b[0m\n\u001b[0;32m    648\u001b[0m \u001b[1;33m\u001b[0m\u001b[0m\n",
      "\u001b[1;32m~\\Anaconda3\\lib\\site-packages\\pandas\\core\\internals.py\u001b[0m in \u001b[0;36mset_axis\u001b[1;34m(self, axis, new_labels)\u001b[0m\n\u001b[0;32m   3321\u001b[0m             raise ValueError(\n\u001b[0;32m   3322\u001b[0m                 \u001b[1;34m'Length mismatch: Expected axis has {old} elements, new '\u001b[0m\u001b[1;33m\u001b[0m\u001b[0m\n\u001b[1;32m-> 3323\u001b[1;33m                 'values have {new} elements'.format(old=old_len, new=new_len))\n\u001b[0m\u001b[0;32m   3324\u001b[0m \u001b[1;33m\u001b[0m\u001b[0m\n\u001b[0;32m   3325\u001b[0m         \u001b[0mself\u001b[0m\u001b[1;33m.\u001b[0m\u001b[0maxes\u001b[0m\u001b[1;33m[\u001b[0m\u001b[0maxis\u001b[0m\u001b[1;33m]\u001b[0m \u001b[1;33m=\u001b[0m \u001b[0mnew_labels\u001b[0m\u001b[1;33m\u001b[0m\u001b[0m\n",
      "\u001b[1;31mValueError\u001b[0m: Length mismatch: Expected axis has 4 elements, new values have 3 elements"
     ]
    }
   ],
   "source": [
    "Queen.index = ['voz','bateria','guitarra']"
   ]
  },
  {
   "cell_type": "markdown",
   "metadata": {},
   "source": [
    "Eso sí, los índices tienen que coincidir con las dimensiones de la tabla."
   ]
  },
  {
   "cell_type": "code",
   "execution_count": 22,
   "metadata": {},
   "outputs": [],
   "source": [
    "Queen.index = ['voz','bateria','guitarra','bajo']"
   ]
  },
  {
   "cell_type": "code",
   "execution_count": 23,
   "metadata": {},
   "outputs": [
    {
     "data": {
      "text/html": [
       "<div>\n",
       "<style scoped>\n",
       "    .dataframe tbody tr th:only-of-type {\n",
       "        vertical-align: middle;\n",
       "    }\n",
       "\n",
       "    .dataframe tbody tr th {\n",
       "        vertical-align: top;\n",
       "    }\n",
       "\n",
       "    .dataframe thead th {\n",
       "        text-align: right;\n",
       "    }\n",
       "</style>\n",
       "<table border=\"1\" class=\"dataframe\">\n",
       "  <thead>\n",
       "    <tr style=\"text-align: right;\">\n",
       "      <th></th>\n",
       "      <th>Nombre</th>\n",
       "      <th>Apellido</th>\n",
       "      <th>Nacimiento</th>\n",
       "    </tr>\n",
       "  </thead>\n",
       "  <tbody>\n",
       "    <tr>\n",
       "      <th>voz</th>\n",
       "      <td>Freddie</td>\n",
       "      <td>Mercury</td>\n",
       "      <td>1946</td>\n",
       "    </tr>\n",
       "    <tr>\n",
       "      <th>bateria</th>\n",
       "      <td>Roger</td>\n",
       "      <td>Taylor</td>\n",
       "      <td>1949</td>\n",
       "    </tr>\n",
       "    <tr>\n",
       "      <th>guitarra</th>\n",
       "      <td>Brian</td>\n",
       "      <td>May</td>\n",
       "      <td>1947</td>\n",
       "    </tr>\n",
       "    <tr>\n",
       "      <th>bajo</th>\n",
       "      <td>John</td>\n",
       "      <td>Deacon</td>\n",
       "      <td>1951</td>\n",
       "    </tr>\n",
       "  </tbody>\n",
       "</table>\n",
       "</div>"
      ],
      "text/plain": [
       "           Nombre Apellido  Nacimiento\n",
       "voz       Freddie  Mercury        1946\n",
       "bateria     Roger   Taylor        1949\n",
       "guitarra    Brian      May        1947\n",
       "bajo         John   Deacon        1951"
      ]
     },
     "execution_count": 23,
     "metadata": {},
     "output_type": "execute_result"
    }
   ],
   "source": [
    "Queen"
   ]
  },
  {
   "cell_type": "markdown",
   "metadata": {},
   "source": [
    "Otra opción es definirlos de base:"
   ]
  },
  {
   "cell_type": "code",
   "execution_count": 37,
   "metadata": {},
   "outputs": [],
   "source": [
    "Queen = pd.DataFrame(data = dict, index = ['voz','bateria','guitarra','bajo'])"
   ]
  },
  {
   "cell_type": "code",
   "execution_count": 38,
   "metadata": {},
   "outputs": [
    {
     "data": {
      "text/html": [
       "<div>\n",
       "<style scoped>\n",
       "    .dataframe tbody tr th:only-of-type {\n",
       "        vertical-align: middle;\n",
       "    }\n",
       "\n",
       "    .dataframe tbody tr th {\n",
       "        vertical-align: top;\n",
       "    }\n",
       "\n",
       "    .dataframe thead th {\n",
       "        text-align: right;\n",
       "    }\n",
       "</style>\n",
       "<table border=\"1\" class=\"dataframe\">\n",
       "  <thead>\n",
       "    <tr style=\"text-align: right;\">\n",
       "      <th></th>\n",
       "      <th>Nombre</th>\n",
       "      <th>Apellido</th>\n",
       "      <th>Nacimiento</th>\n",
       "    </tr>\n",
       "  </thead>\n",
       "  <tbody>\n",
       "    <tr>\n",
       "      <th>voz</th>\n",
       "      <td>Freddie</td>\n",
       "      <td>Mercury</td>\n",
       "      <td>1946</td>\n",
       "    </tr>\n",
       "    <tr>\n",
       "      <th>bateria</th>\n",
       "      <td>Roger</td>\n",
       "      <td>Taylor</td>\n",
       "      <td>1949</td>\n",
       "    </tr>\n",
       "    <tr>\n",
       "      <th>guitarra</th>\n",
       "      <td>Brian</td>\n",
       "      <td>May</td>\n",
       "      <td>1947</td>\n",
       "    </tr>\n",
       "    <tr>\n",
       "      <th>bajo</th>\n",
       "      <td>John</td>\n",
       "      <td>Deacon</td>\n",
       "      <td>1951</td>\n",
       "    </tr>\n",
       "  </tbody>\n",
       "</table>\n",
       "</div>"
      ],
      "text/plain": [
       "           Nombre Apellido  Nacimiento\n",
       "voz       Freddie  Mercury        1946\n",
       "bateria     Roger   Taylor        1949\n",
       "guitarra    Brian      May        1947\n",
       "bajo         John   Deacon        1951"
      ]
     },
     "execution_count": 38,
     "metadata": {},
     "output_type": "execute_result"
    }
   ],
   "source": [
    "Queen"
   ]
  },
  {
   "cell_type": "markdown",
   "metadata": {},
   "source": [
    "Podemos borrar los índices que hayamos puesto (de cualquiera de las formas vistas), utilizando el comando NombreDataFrame..reset_index().\n",
    "\n",
    "Esto lo que hará será volver a los índices numéricos (empezando por el 0, como siempre en Python), y creándonos una nueva columna llamada \"index\" con los índices que teníamos antes"
   ]
  },
  {
   "cell_type": "code",
   "execution_count": 39,
   "metadata": {},
   "outputs": [
    {
     "data": {
      "text/html": [
       "<div>\n",
       "<style scoped>\n",
       "    .dataframe tbody tr th:only-of-type {\n",
       "        vertical-align: middle;\n",
       "    }\n",
       "\n",
       "    .dataframe tbody tr th {\n",
       "        vertical-align: top;\n",
       "    }\n",
       "\n",
       "    .dataframe thead th {\n",
       "        text-align: right;\n",
       "    }\n",
       "</style>\n",
       "<table border=\"1\" class=\"dataframe\">\n",
       "  <thead>\n",
       "    <tr style=\"text-align: right;\">\n",
       "      <th></th>\n",
       "      <th>index</th>\n",
       "      <th>Nombre</th>\n",
       "      <th>Apellido</th>\n",
       "      <th>Nacimiento</th>\n",
       "    </tr>\n",
       "  </thead>\n",
       "  <tbody>\n",
       "    <tr>\n",
       "      <th>0</th>\n",
       "      <td>voz</td>\n",
       "      <td>Freddie</td>\n",
       "      <td>Mercury</td>\n",
       "      <td>1946</td>\n",
       "    </tr>\n",
       "    <tr>\n",
       "      <th>1</th>\n",
       "      <td>bateria</td>\n",
       "      <td>Roger</td>\n",
       "      <td>Taylor</td>\n",
       "      <td>1949</td>\n",
       "    </tr>\n",
       "    <tr>\n",
       "      <th>2</th>\n",
       "      <td>guitarra</td>\n",
       "      <td>Brian</td>\n",
       "      <td>May</td>\n",
       "      <td>1947</td>\n",
       "    </tr>\n",
       "    <tr>\n",
       "      <th>3</th>\n",
       "      <td>bajo</td>\n",
       "      <td>John</td>\n",
       "      <td>Deacon</td>\n",
       "      <td>1951</td>\n",
       "    </tr>\n",
       "  </tbody>\n",
       "</table>\n",
       "</div>"
      ],
      "text/plain": [
       "      index   Nombre Apellido  Nacimiento\n",
       "0       voz  Freddie  Mercury        1946\n",
       "1   bateria    Roger   Taylor        1949\n",
       "2  guitarra    Brian      May        1947\n",
       "3      bajo     John   Deacon        1951"
      ]
     },
     "execution_count": 39,
     "metadata": {},
     "output_type": "execute_result"
    }
   ],
   "source": [
    "Queen.reset_index()"
   ]
  },
  {
   "cell_type": "markdown",
   "metadata": {},
   "source": [
    "Si no queremos que se nos cree esta columna index, debemos escribir .reset_index(drop =True)"
   ]
  },
  {
   "cell_type": "code",
   "execution_count": 40,
   "metadata": {},
   "outputs": [
    {
     "data": {
      "text/html": [
       "<div>\n",
       "<style scoped>\n",
       "    .dataframe tbody tr th:only-of-type {\n",
       "        vertical-align: middle;\n",
       "    }\n",
       "\n",
       "    .dataframe tbody tr th {\n",
       "        vertical-align: top;\n",
       "    }\n",
       "\n",
       "    .dataframe thead th {\n",
       "        text-align: right;\n",
       "    }\n",
       "</style>\n",
       "<table border=\"1\" class=\"dataframe\">\n",
       "  <thead>\n",
       "    <tr style=\"text-align: right;\">\n",
       "      <th></th>\n",
       "      <th>Nombre</th>\n",
       "      <th>Apellido</th>\n",
       "      <th>Nacimiento</th>\n",
       "    </tr>\n",
       "  </thead>\n",
       "  <tbody>\n",
       "    <tr>\n",
       "      <th>0</th>\n",
       "      <td>Freddie</td>\n",
       "      <td>Mercury</td>\n",
       "      <td>1946</td>\n",
       "    </tr>\n",
       "    <tr>\n",
       "      <th>1</th>\n",
       "      <td>Roger</td>\n",
       "      <td>Taylor</td>\n",
       "      <td>1949</td>\n",
       "    </tr>\n",
       "    <tr>\n",
       "      <th>2</th>\n",
       "      <td>Brian</td>\n",
       "      <td>May</td>\n",
       "      <td>1947</td>\n",
       "    </tr>\n",
       "    <tr>\n",
       "      <th>3</th>\n",
       "      <td>John</td>\n",
       "      <td>Deacon</td>\n",
       "      <td>1951</td>\n",
       "    </tr>\n",
       "  </tbody>\n",
       "</table>\n",
       "</div>"
      ],
      "text/plain": [
       "    Nombre Apellido  Nacimiento\n",
       "0  Freddie  Mercury        1946\n",
       "1    Roger   Taylor        1949\n",
       "2    Brian      May        1947\n",
       "3     John   Deacon        1951"
      ]
     },
     "execution_count": 40,
     "metadata": {},
     "output_type": "execute_result"
    }
   ],
   "source": [
    "Queen.reset_index(drop = True)"
   ]
  },
  {
   "cell_type": "code",
   "execution_count": 41,
   "metadata": {},
   "outputs": [
    {
     "data": {
      "text/html": [
       "<div>\n",
       "<style scoped>\n",
       "    .dataframe tbody tr th:only-of-type {\n",
       "        vertical-align: middle;\n",
       "    }\n",
       "\n",
       "    .dataframe tbody tr th {\n",
       "        vertical-align: top;\n",
       "    }\n",
       "\n",
       "    .dataframe thead th {\n",
       "        text-align: right;\n",
       "    }\n",
       "</style>\n",
       "<table border=\"1\" class=\"dataframe\">\n",
       "  <thead>\n",
       "    <tr style=\"text-align: right;\">\n",
       "      <th></th>\n",
       "      <th>Nombre</th>\n",
       "      <th>Apellido</th>\n",
       "      <th>Nacimiento</th>\n",
       "    </tr>\n",
       "  </thead>\n",
       "  <tbody>\n",
       "    <tr>\n",
       "      <th>voz</th>\n",
       "      <td>Freddie</td>\n",
       "      <td>Mercury</td>\n",
       "      <td>1946</td>\n",
       "    </tr>\n",
       "    <tr>\n",
       "      <th>bateria</th>\n",
       "      <td>Roger</td>\n",
       "      <td>Taylor</td>\n",
       "      <td>1949</td>\n",
       "    </tr>\n",
       "    <tr>\n",
       "      <th>guitarra</th>\n",
       "      <td>Brian</td>\n",
       "      <td>May</td>\n",
       "      <td>1947</td>\n",
       "    </tr>\n",
       "    <tr>\n",
       "      <th>bajo</th>\n",
       "      <td>John</td>\n",
       "      <td>Deacon</td>\n",
       "      <td>1951</td>\n",
       "    </tr>\n",
       "  </tbody>\n",
       "</table>\n",
       "</div>"
      ],
      "text/plain": [
       "           Nombre Apellido  Nacimiento\n",
       "voz       Freddie  Mercury        1946\n",
       "bateria     Roger   Taylor        1949\n",
       "guitarra    Brian      May        1947\n",
       "bajo         John   Deacon        1951"
      ]
     },
     "execution_count": 41,
     "metadata": {},
     "output_type": "execute_result"
    }
   ],
   "source": [
    "Queen"
   ]
  },
  {
   "cell_type": "markdown",
   "metadata": {},
   "source": [
    "Los siguientes comandos nos muestran la información más básica de la tabla:\n",
    "    \n",
    "Queen.index ==> Una lista con los nombres de los indices\n",
    "\n",
    "Queen.columns  ==> Una lista con los nombres de las columnas \n",
    "\n",
    "Queen.shape ==> Las dimensiones de la tabla"
   ]
  },
  {
   "cell_type": "code",
   "execution_count": 42,
   "metadata": {},
   "outputs": [
    {
     "name": "stdout",
     "output_type": "stream",
     "text": [
      "Index(['voz', 'bateria', 'guitarra', 'bajo'], dtype='object')\n",
      "Index(['Nombre', 'Apellido', 'Nacimiento'], dtype='object')\n",
      "(4, 3)\n"
     ]
    }
   ],
   "source": [
    "print(Queen.index)\n",
    "print(Queen.columns)\n",
    "print(Queen.shape)"
   ]
  },
  {
   "cell_type": "code",
   "execution_count": null,
   "metadata": {},
   "outputs": [],
   "source": [
    "Queen"
   ]
  },
  {
   "cell_type": "markdown",
   "metadata": {},
   "source": [
    "Si queremos convertir una columna en los índices, con el comando .set_index(NombreColumna, inplace = True)"
   ]
  },
  {
   "cell_type": "code",
   "execution_count": 43,
   "metadata": {},
   "outputs": [],
   "source": [
    "Queen.set_index('Nombre',inplace = True)\n"
   ]
  },
  {
   "cell_type": "code",
   "execution_count": 44,
   "metadata": {},
   "outputs": [
    {
     "data": {
      "text/html": [
       "<div>\n",
       "<style scoped>\n",
       "    .dataframe tbody tr th:only-of-type {\n",
       "        vertical-align: middle;\n",
       "    }\n",
       "\n",
       "    .dataframe tbody tr th {\n",
       "        vertical-align: top;\n",
       "    }\n",
       "\n",
       "    .dataframe thead th {\n",
       "        text-align: right;\n",
       "    }\n",
       "</style>\n",
       "<table border=\"1\" class=\"dataframe\">\n",
       "  <thead>\n",
       "    <tr style=\"text-align: right;\">\n",
       "      <th></th>\n",
       "      <th>Apellido</th>\n",
       "      <th>Nacimiento</th>\n",
       "    </tr>\n",
       "    <tr>\n",
       "      <th>Nombre</th>\n",
       "      <th></th>\n",
       "      <th></th>\n",
       "    </tr>\n",
       "  </thead>\n",
       "  <tbody>\n",
       "    <tr>\n",
       "      <th>Freddie</th>\n",
       "      <td>Mercury</td>\n",
       "      <td>1946</td>\n",
       "    </tr>\n",
       "    <tr>\n",
       "      <th>Roger</th>\n",
       "      <td>Taylor</td>\n",
       "      <td>1949</td>\n",
       "    </tr>\n",
       "    <tr>\n",
       "      <th>Brian</th>\n",
       "      <td>May</td>\n",
       "      <td>1947</td>\n",
       "    </tr>\n",
       "    <tr>\n",
       "      <th>John</th>\n",
       "      <td>Deacon</td>\n",
       "      <td>1951</td>\n",
       "    </tr>\n",
       "  </tbody>\n",
       "</table>\n",
       "</div>"
      ],
      "text/plain": [
       "        Apellido  Nacimiento\n",
       "Nombre                      \n",
       "Freddie  Mercury        1946\n",
       "Roger     Taylor        1949\n",
       "Brian        May        1947\n",
       "John      Deacon        1951"
      ]
     },
     "execution_count": 44,
     "metadata": {},
     "output_type": "execute_result"
    }
   ],
   "source": [
    "Queen"
   ]
  },
  {
   "cell_type": "markdown",
   "metadata": {},
   "source": [
    "Si preguntamos cual es el índice, ejecutamos DataFrame.index"
   ]
  },
  {
   "cell_type": "code",
   "execution_count": 45,
   "metadata": {},
   "outputs": [
    {
     "data": {
      "text/plain": [
       "Index(['Freddie', 'Roger', 'Brian', 'John'], dtype='object', name='Nombre')"
      ]
     },
     "execution_count": 45,
     "metadata": {},
     "output_type": "execute_result"
    }
   ],
   "source": [
    "Queen.index"
   ]
  },
  {
   "cell_type": "markdown",
   "metadata": {},
   "source": [
    "Para quitarnos de en medio que el índice tenga un nombre propio, utilizamos el comando DataFrame.index.name = None"
   ]
  },
  {
   "cell_type": "code",
   "execution_count": 46,
   "metadata": {},
   "outputs": [],
   "source": [
    "Queen.index.name = None"
   ]
  },
  {
   "cell_type": "code",
   "execution_count": 47,
   "metadata": {},
   "outputs": [
    {
     "data": {
      "text/html": [
       "<div>\n",
       "<style scoped>\n",
       "    .dataframe tbody tr th:only-of-type {\n",
       "        vertical-align: middle;\n",
       "    }\n",
       "\n",
       "    .dataframe tbody tr th {\n",
       "        vertical-align: top;\n",
       "    }\n",
       "\n",
       "    .dataframe thead th {\n",
       "        text-align: right;\n",
       "    }\n",
       "</style>\n",
       "<table border=\"1\" class=\"dataframe\">\n",
       "  <thead>\n",
       "    <tr style=\"text-align: right;\">\n",
       "      <th></th>\n",
       "      <th>Apellido</th>\n",
       "      <th>Nacimiento</th>\n",
       "    </tr>\n",
       "  </thead>\n",
       "  <tbody>\n",
       "    <tr>\n",
       "      <th>Freddie</th>\n",
       "      <td>Mercury</td>\n",
       "      <td>1946</td>\n",
       "    </tr>\n",
       "    <tr>\n",
       "      <th>Roger</th>\n",
       "      <td>Taylor</td>\n",
       "      <td>1949</td>\n",
       "    </tr>\n",
       "    <tr>\n",
       "      <th>Brian</th>\n",
       "      <td>May</td>\n",
       "      <td>1947</td>\n",
       "    </tr>\n",
       "    <tr>\n",
       "      <th>John</th>\n",
       "      <td>Deacon</td>\n",
       "      <td>1951</td>\n",
       "    </tr>\n",
       "  </tbody>\n",
       "</table>\n",
       "</div>"
      ],
      "text/plain": [
       "        Apellido  Nacimiento\n",
       "Freddie  Mercury        1946\n",
       "Roger     Taylor        1949\n",
       "Brian        May        1947\n",
       "John      Deacon        1951"
      ]
     },
     "execution_count": 47,
     "metadata": {},
     "output_type": "execute_result"
    }
   ],
   "source": [
    "Queen"
   ]
  },
  {
   "cell_type": "code",
   "execution_count": 48,
   "metadata": {},
   "outputs": [
    {
     "data": {
      "text/html": [
       "<div>\n",
       "<style scoped>\n",
       "    .dataframe tbody tr th:only-of-type {\n",
       "        vertical-align: middle;\n",
       "    }\n",
       "\n",
       "    .dataframe tbody tr th {\n",
       "        vertical-align: top;\n",
       "    }\n",
       "\n",
       "    .dataframe thead th {\n",
       "        text-align: right;\n",
       "    }\n",
       "</style>\n",
       "<table border=\"1\" class=\"dataframe\">\n",
       "  <thead>\n",
       "    <tr style=\"text-align: right;\">\n",
       "      <th></th>\n",
       "      <th>Apellido</th>\n",
       "      <th>Nacimiento</th>\n",
       "      <th>Nombre</th>\n",
       "    </tr>\n",
       "  </thead>\n",
       "  <tbody>\n",
       "    <tr>\n",
       "      <th>0</th>\n",
       "      <td>Mercury</td>\n",
       "      <td>1946</td>\n",
       "      <td>Freddie</td>\n",
       "    </tr>\n",
       "    <tr>\n",
       "      <th>1</th>\n",
       "      <td>Taylor</td>\n",
       "      <td>1949</td>\n",
       "      <td>Roger</td>\n",
       "    </tr>\n",
       "    <tr>\n",
       "      <th>2</th>\n",
       "      <td>May</td>\n",
       "      <td>1947</td>\n",
       "      <td>Brian</td>\n",
       "    </tr>\n",
       "    <tr>\n",
       "      <th>3</th>\n",
       "      <td>Deacon</td>\n",
       "      <td>1951</td>\n",
       "      <td>John</td>\n",
       "    </tr>\n",
       "  </tbody>\n",
       "</table>\n",
       "</div>"
      ],
      "text/plain": [
       "  Apellido  Nacimiento   Nombre\n",
       "0  Mercury        1946  Freddie\n",
       "1   Taylor        1949    Roger\n",
       "2      May        1947    Brian\n",
       "3   Deacon        1951     John"
      ]
     },
     "execution_count": 48,
     "metadata": {},
     "output_type": "execute_result"
    }
   ],
   "source": [
    "Queen[\"Nombre\"] = ['Freddie', 'Roger', 'Brian', 'John']\n",
    "#Queen[\"Instrumento\"] = ['voz','bateria','guitarra','bajo']\n",
    "Queen.reset_index(drop = True)"
   ]
  },
  {
   "cell_type": "code",
   "execution_count": 49,
   "metadata": {},
   "outputs": [],
   "source": [
    "Queen.index = ['voz','bateria','guitarra','bajo']"
   ]
  },
  {
   "cell_type": "code",
   "execution_count": 50,
   "metadata": {},
   "outputs": [
    {
     "data": {
      "text/html": [
       "<div>\n",
       "<style scoped>\n",
       "    .dataframe tbody tr th:only-of-type {\n",
       "        vertical-align: middle;\n",
       "    }\n",
       "\n",
       "    .dataframe tbody tr th {\n",
       "        vertical-align: top;\n",
       "    }\n",
       "\n",
       "    .dataframe thead th {\n",
       "        text-align: right;\n",
       "    }\n",
       "</style>\n",
       "<table border=\"1\" class=\"dataframe\">\n",
       "  <thead>\n",
       "    <tr style=\"text-align: right;\">\n",
       "      <th></th>\n",
       "      <th>Apellido</th>\n",
       "      <th>Nacimiento</th>\n",
       "      <th>Nombre</th>\n",
       "    </tr>\n",
       "  </thead>\n",
       "  <tbody>\n",
       "    <tr>\n",
       "      <th>voz</th>\n",
       "      <td>Mercury</td>\n",
       "      <td>1946</td>\n",
       "      <td>Freddie</td>\n",
       "    </tr>\n",
       "    <tr>\n",
       "      <th>bateria</th>\n",
       "      <td>Taylor</td>\n",
       "      <td>1949</td>\n",
       "      <td>Roger</td>\n",
       "    </tr>\n",
       "    <tr>\n",
       "      <th>guitarra</th>\n",
       "      <td>May</td>\n",
       "      <td>1947</td>\n",
       "      <td>Brian</td>\n",
       "    </tr>\n",
       "    <tr>\n",
       "      <th>bajo</th>\n",
       "      <td>Deacon</td>\n",
       "      <td>1951</td>\n",
       "      <td>John</td>\n",
       "    </tr>\n",
       "  </tbody>\n",
       "</table>\n",
       "</div>"
      ],
      "text/plain": [
       "         Apellido  Nacimiento   Nombre\n",
       "voz       Mercury        1946  Freddie\n",
       "bateria    Taylor        1949    Roger\n",
       "guitarra      May        1947    Brian\n",
       "bajo       Deacon        1951     John"
      ]
     },
     "execution_count": 50,
     "metadata": {},
     "output_type": "execute_result"
    }
   ],
   "source": [
    "Queen"
   ]
  },
  {
   "cell_type": "markdown",
   "metadata": {},
   "source": [
    "Para dejar el mismo orden en las columnas, escribimos:"
   ]
  },
  {
   "cell_type": "code",
   "execution_count": 51,
   "metadata": {},
   "outputs": [],
   "source": [
    "Queen = Queen[['Nombre','Apellido','Nacimiento']]"
   ]
  },
  {
   "cell_type": "code",
   "execution_count": 52,
   "metadata": {},
   "outputs": [
    {
     "data": {
      "text/html": [
       "<div>\n",
       "<style scoped>\n",
       "    .dataframe tbody tr th:only-of-type {\n",
       "        vertical-align: middle;\n",
       "    }\n",
       "\n",
       "    .dataframe tbody tr th {\n",
       "        vertical-align: top;\n",
       "    }\n",
       "\n",
       "    .dataframe thead th {\n",
       "        text-align: right;\n",
       "    }\n",
       "</style>\n",
       "<table border=\"1\" class=\"dataframe\">\n",
       "  <thead>\n",
       "    <tr style=\"text-align: right;\">\n",
       "      <th></th>\n",
       "      <th>Nombre</th>\n",
       "      <th>Apellido</th>\n",
       "      <th>Nacimiento</th>\n",
       "    </tr>\n",
       "  </thead>\n",
       "  <tbody>\n",
       "    <tr>\n",
       "      <th>voz</th>\n",
       "      <td>Freddie</td>\n",
       "      <td>Mercury</td>\n",
       "      <td>1946</td>\n",
       "    </tr>\n",
       "    <tr>\n",
       "      <th>bateria</th>\n",
       "      <td>Roger</td>\n",
       "      <td>Taylor</td>\n",
       "      <td>1949</td>\n",
       "    </tr>\n",
       "    <tr>\n",
       "      <th>guitarra</th>\n",
       "      <td>Brian</td>\n",
       "      <td>May</td>\n",
       "      <td>1947</td>\n",
       "    </tr>\n",
       "    <tr>\n",
       "      <th>bajo</th>\n",
       "      <td>John</td>\n",
       "      <td>Deacon</td>\n",
       "      <td>1951</td>\n",
       "    </tr>\n",
       "  </tbody>\n",
       "</table>\n",
       "</div>"
      ],
      "text/plain": [
       "           Nombre Apellido  Nacimiento\n",
       "voz       Freddie  Mercury        1946\n",
       "bateria     Roger   Taylor        1949\n",
       "guitarra    Brian      May        1947\n",
       "bajo         John   Deacon        1951"
      ]
     },
     "execution_count": 52,
     "metadata": {},
     "output_type": "execute_result"
    }
   ],
   "source": [
    "Queen"
   ]
  },
  {
   "cell_type": "markdown",
   "metadata": {},
   "source": [
    "# Tratando datos de DataFrame"
   ]
  },
  {
   "cell_type": "markdown",
   "metadata": {},
   "source": [
    "Para pedir una columna, escribimos el nombre del DataFrame y entre corchetes el nombre de la columna:"
   ]
  },
  {
   "cell_type": "code",
   "execution_count": 53,
   "metadata": {},
   "outputs": [
    {
     "data": {
      "text/plain": [
       "voz         Freddie\n",
       "bateria       Roger\n",
       "guitarra      Brian\n",
       "bajo           John\n",
       "Name: Nombre, dtype: object"
      ]
     },
     "execution_count": 53,
     "metadata": {},
     "output_type": "execute_result"
    }
   ],
   "source": [
    "Queen[\"Nombre\"]"
   ]
  },
  {
   "cell_type": "markdown",
   "metadata": {},
   "source": [
    "Podemos pedir que nos muestre varias columnas, para ello, escribimos NombreDataFrame[ [Columna1, Columna2, ...] ]"
   ]
  },
  {
   "cell_type": "code",
   "execution_count": 54,
   "metadata": {},
   "outputs": [
    {
     "data": {
      "text/html": [
       "<div>\n",
       "<style scoped>\n",
       "    .dataframe tbody tr th:only-of-type {\n",
       "        vertical-align: middle;\n",
       "    }\n",
       "\n",
       "    .dataframe tbody tr th {\n",
       "        vertical-align: top;\n",
       "    }\n",
       "\n",
       "    .dataframe thead th {\n",
       "        text-align: right;\n",
       "    }\n",
       "</style>\n",
       "<table border=\"1\" class=\"dataframe\">\n",
       "  <thead>\n",
       "    <tr style=\"text-align: right;\">\n",
       "      <th></th>\n",
       "      <th>Nombre</th>\n",
       "      <th>Apellido</th>\n",
       "    </tr>\n",
       "  </thead>\n",
       "  <tbody>\n",
       "    <tr>\n",
       "      <th>voz</th>\n",
       "      <td>Freddie</td>\n",
       "      <td>Mercury</td>\n",
       "    </tr>\n",
       "    <tr>\n",
       "      <th>bateria</th>\n",
       "      <td>Roger</td>\n",
       "      <td>Taylor</td>\n",
       "    </tr>\n",
       "    <tr>\n",
       "      <th>guitarra</th>\n",
       "      <td>Brian</td>\n",
       "      <td>May</td>\n",
       "    </tr>\n",
       "    <tr>\n",
       "      <th>bajo</th>\n",
       "      <td>John</td>\n",
       "      <td>Deacon</td>\n",
       "    </tr>\n",
       "  </tbody>\n",
       "</table>\n",
       "</div>"
      ],
      "text/plain": [
       "           Nombre Apellido\n",
       "voz       Freddie  Mercury\n",
       "bateria     Roger   Taylor\n",
       "guitarra    Brian      May\n",
       "bajo         John   Deacon"
      ]
     },
     "execution_count": 54,
     "metadata": {},
     "output_type": "execute_result"
    }
   ],
   "source": [
    "Queen[['Nombre','Apellido']]"
   ]
  },
  {
   "cell_type": "markdown",
   "metadata": {},
   "source": [
    "Si ahora quedemos pedir que nos muestre filas, no podemos llamar Queen['voz'], porque no nos dará error (buscará una columna con ese nombre y no la va a encontrar...)\n",
    "\n",
    "Para ello, tenemos que usar el comando .loc"
   ]
  },
  {
   "cell_type": "code",
   "execution_count": 55,
   "metadata": {},
   "outputs": [
    {
     "data": {
      "text/plain": [
       "Nombre        Freddie\n",
       "Apellido      Mercury\n",
       "Nacimiento       1946\n",
       "Name: voz, dtype: object"
      ]
     },
     "execution_count": 55,
     "metadata": {},
     "output_type": "execute_result"
    }
   ],
   "source": [
    "Queen.loc['voz']"
   ]
  },
  {
   "cell_type": "markdown",
   "metadata": {},
   "source": [
    "Igual que en el caso de las columnas, podemos seleccionar varios índices a la vez."
   ]
  },
  {
   "cell_type": "code",
   "execution_count": 56,
   "metadata": {},
   "outputs": [
    {
     "data": {
      "text/html": [
       "<div>\n",
       "<style scoped>\n",
       "    .dataframe tbody tr th:only-of-type {\n",
       "        vertical-align: middle;\n",
       "    }\n",
       "\n",
       "    .dataframe tbody tr th {\n",
       "        vertical-align: top;\n",
       "    }\n",
       "\n",
       "    .dataframe thead th {\n",
       "        text-align: right;\n",
       "    }\n",
       "</style>\n",
       "<table border=\"1\" class=\"dataframe\">\n",
       "  <thead>\n",
       "    <tr style=\"text-align: right;\">\n",
       "      <th></th>\n",
       "      <th>Nombre</th>\n",
       "      <th>Apellido</th>\n",
       "      <th>Nacimiento</th>\n",
       "    </tr>\n",
       "  </thead>\n",
       "  <tbody>\n",
       "    <tr>\n",
       "      <th>voz</th>\n",
       "      <td>Freddie</td>\n",
       "      <td>Mercury</td>\n",
       "      <td>1946</td>\n",
       "    </tr>\n",
       "    <tr>\n",
       "      <th>bateria</th>\n",
       "      <td>Roger</td>\n",
       "      <td>Taylor</td>\n",
       "      <td>1949</td>\n",
       "    </tr>\n",
       "  </tbody>\n",
       "</table>\n",
       "</div>"
      ],
      "text/plain": [
       "          Nombre Apellido  Nacimiento\n",
       "voz      Freddie  Mercury        1946\n",
       "bateria    Roger   Taylor        1949"
      ]
     },
     "execution_count": 56,
     "metadata": {},
     "output_type": "execute_result"
    }
   ],
   "source": [
    "Queen.loc[['voz','bateria']]"
   ]
  },
  {
   "cell_type": "markdown",
   "metadata": {},
   "source": [
    "Si tenemos unos índices que no sean números, pero queremos pedir por ejemplo, las n primeras filas, los DataFrame siempre guardan por si acaso un índice numérico. Para acceder a él, debemos usar el comando .iloc"
   ]
  },
  {
   "cell_type": "code",
   "execution_count": 57,
   "metadata": {},
   "outputs": [
    {
     "data": {
      "text/plain": [
       "Nombre        Freddie\n",
       "Apellido      Mercury\n",
       "Nacimiento       1946\n",
       "Name: voz, dtype: object"
      ]
     },
     "execution_count": 57,
     "metadata": {},
     "output_type": "execute_result"
    }
   ],
   "source": [
    "Queen.iloc[0]"
   ]
  },
  {
   "cell_type": "code",
   "execution_count": 58,
   "metadata": {},
   "outputs": [
    {
     "data": {
      "text/html": [
       "<div>\n",
       "<style scoped>\n",
       "    .dataframe tbody tr th:only-of-type {\n",
       "        vertical-align: middle;\n",
       "    }\n",
       "\n",
       "    .dataframe tbody tr th {\n",
       "        vertical-align: top;\n",
       "    }\n",
       "\n",
       "    .dataframe thead th {\n",
       "        text-align: right;\n",
       "    }\n",
       "</style>\n",
       "<table border=\"1\" class=\"dataframe\">\n",
       "  <thead>\n",
       "    <tr style=\"text-align: right;\">\n",
       "      <th></th>\n",
       "      <th>Nombre</th>\n",
       "      <th>Apellido</th>\n",
       "      <th>Nacimiento</th>\n",
       "    </tr>\n",
       "  </thead>\n",
       "  <tbody>\n",
       "    <tr>\n",
       "      <th>voz</th>\n",
       "      <td>Freddie</td>\n",
       "      <td>Mercury</td>\n",
       "      <td>1946</td>\n",
       "    </tr>\n",
       "    <tr>\n",
       "      <th>bateria</th>\n",
       "      <td>Roger</td>\n",
       "      <td>Taylor</td>\n",
       "      <td>1949</td>\n",
       "    </tr>\n",
       "  </tbody>\n",
       "</table>\n",
       "</div>"
      ],
      "text/plain": [
       "          Nombre Apellido  Nacimiento\n",
       "voz      Freddie  Mercury        1946\n",
       "bateria    Roger   Taylor        1949"
      ]
     },
     "execution_count": 58,
     "metadata": {},
     "output_type": "execute_result"
    }
   ],
   "source": [
    "Queen.iloc[0:2]"
   ]
  },
  {
   "cell_type": "markdown",
   "metadata": {},
   "source": [
    "Si lo que queremos ver es un dato, y no toda la fila, lo llamamos también con .loc o .iloc, indicando la coordenada de la fila y luego la de la columna (para .loc hay que indicar los nombres de indice y columna)"
   ]
  },
  {
   "cell_type": "code",
   "execution_count": 59,
   "metadata": {},
   "outputs": [
    {
     "name": "stdout",
     "output_type": "stream",
     "text": [
      "Freddie\n",
      "Freddie\n"
     ]
    }
   ],
   "source": [
    "print(Queen.iloc[0,0])\n",
    "print(Queen.loc['voz','Nombre'])\n"
   ]
  },
  {
   "cell_type": "code",
   "execution_count": 60,
   "metadata": {},
   "outputs": [
    {
     "name": "stdout",
     "output_type": "stream",
     "text": [
      "1946\n",
      "1946\n"
     ]
    }
   ],
   "source": [
    "print(Queen.iloc[0][2])\n",
    "print(Queen.loc['voz']['Nacimiento'])"
   ]
  },
  {
   "cell_type": "markdown",
   "metadata": {},
   "source": [
    "Para reemplazar valores en la tabla, tenemos que utilizar el comando .replace del siguiente modo"
   ]
  },
  {
   "cell_type": "code",
   "execution_count": 61,
   "metadata": {},
   "outputs": [],
   "source": [
    "Queen = Queen.replace({'Nombre':{\"Freddie\":\"Freeeeddie\"}})"
   ]
  },
  {
   "cell_type": "code",
   "execution_count": 62,
   "metadata": {},
   "outputs": [
    {
     "data": {
      "text/html": [
       "<div>\n",
       "<style scoped>\n",
       "    .dataframe tbody tr th:only-of-type {\n",
       "        vertical-align: middle;\n",
       "    }\n",
       "\n",
       "    .dataframe tbody tr th {\n",
       "        vertical-align: top;\n",
       "    }\n",
       "\n",
       "    .dataframe thead th {\n",
       "        text-align: right;\n",
       "    }\n",
       "</style>\n",
       "<table border=\"1\" class=\"dataframe\">\n",
       "  <thead>\n",
       "    <tr style=\"text-align: right;\">\n",
       "      <th></th>\n",
       "      <th>Nombre</th>\n",
       "      <th>Apellido</th>\n",
       "      <th>Nacimiento</th>\n",
       "    </tr>\n",
       "  </thead>\n",
       "  <tbody>\n",
       "    <tr>\n",
       "      <th>voz</th>\n",
       "      <td>Freeeeddie</td>\n",
       "      <td>Mercury</td>\n",
       "      <td>1946</td>\n",
       "    </tr>\n",
       "    <tr>\n",
       "      <th>bateria</th>\n",
       "      <td>Roger</td>\n",
       "      <td>Taylor</td>\n",
       "      <td>1949</td>\n",
       "    </tr>\n",
       "    <tr>\n",
       "      <th>guitarra</th>\n",
       "      <td>Brian</td>\n",
       "      <td>May</td>\n",
       "      <td>1947</td>\n",
       "    </tr>\n",
       "    <tr>\n",
       "      <th>bajo</th>\n",
       "      <td>John</td>\n",
       "      <td>Deacon</td>\n",
       "      <td>1951</td>\n",
       "    </tr>\n",
       "  </tbody>\n",
       "</table>\n",
       "</div>"
      ],
      "text/plain": [
       "              Nombre Apellido  Nacimiento\n",
       "voz       Freeeeddie  Mercury        1946\n",
       "bateria        Roger   Taylor        1949\n",
       "guitarra       Brian      May        1947\n",
       "bajo            John   Deacon        1951"
      ]
     },
     "execution_count": 62,
     "metadata": {},
     "output_type": "execute_result"
    }
   ],
   "source": [
    "Queen"
   ]
  },
  {
   "cell_type": "code",
   "execution_count": 63,
   "metadata": {},
   "outputs": [],
   "source": [
    "Queen = Queen.replace({'Nombre':{\"Freeeeddie\":\"Freddie\"}})"
   ]
  },
  {
   "cell_type": "code",
   "execution_count": 64,
   "metadata": {},
   "outputs": [
    {
     "data": {
      "text/html": [
       "<div>\n",
       "<style scoped>\n",
       "    .dataframe tbody tr th:only-of-type {\n",
       "        vertical-align: middle;\n",
       "    }\n",
       "\n",
       "    .dataframe tbody tr th {\n",
       "        vertical-align: top;\n",
       "    }\n",
       "\n",
       "    .dataframe thead th {\n",
       "        text-align: right;\n",
       "    }\n",
       "</style>\n",
       "<table border=\"1\" class=\"dataframe\">\n",
       "  <thead>\n",
       "    <tr style=\"text-align: right;\">\n",
       "      <th></th>\n",
       "      <th>Nombre</th>\n",
       "      <th>Apellido</th>\n",
       "      <th>Nacimiento</th>\n",
       "    </tr>\n",
       "  </thead>\n",
       "  <tbody>\n",
       "    <tr>\n",
       "      <th>voz</th>\n",
       "      <td>Freddie</td>\n",
       "      <td>Mercury</td>\n",
       "      <td>1946</td>\n",
       "    </tr>\n",
       "    <tr>\n",
       "      <th>bateria</th>\n",
       "      <td>Roger</td>\n",
       "      <td>Taylor</td>\n",
       "      <td>1949</td>\n",
       "    </tr>\n",
       "    <tr>\n",
       "      <th>guitarra</th>\n",
       "      <td>Brian</td>\n",
       "      <td>May</td>\n",
       "      <td>1947</td>\n",
       "    </tr>\n",
       "    <tr>\n",
       "      <th>bajo</th>\n",
       "      <td>John</td>\n",
       "      <td>Deacon</td>\n",
       "      <td>1951</td>\n",
       "    </tr>\n",
       "  </tbody>\n",
       "</table>\n",
       "</div>"
      ],
      "text/plain": [
       "           Nombre Apellido  Nacimiento\n",
       "voz       Freddie  Mercury        1946\n",
       "bateria     Roger   Taylor        1949\n",
       "guitarra    Brian      May        1947\n",
       "bajo         John   Deacon        1951"
      ]
     },
     "execution_count": 64,
     "metadata": {},
     "output_type": "execute_result"
    }
   ],
   "source": [
    "Queen"
   ]
  },
  {
   "cell_type": "markdown",
   "metadata": {},
   "source": [
    "# Cargando archivos en Pandas"
   ]
  },
  {
   "cell_type": "markdown",
   "metadata": {},
   "source": [
    "Sin duda alguna, la gran ventaja de Pandas es la posibilidad de cargar a Pyhton archivos en diversos formatos (.csv, .xlsx, incluso de urls). En funcion del archivo que se quiera abrir, hay varias funciones \"read_\""
   ]
  },
  {
   "cell_type": "code",
   "execution_count": 65,
   "metadata": {},
   "outputs": [],
   "source": [
    "df = pd.read_excel('Datos.xlsx')"
   ]
  },
  {
   "cell_type": "markdown",
   "metadata": {},
   "source": [
    "Con la última línea, hemos creado un DataFrame llamado df. Para verlo, tenemos varias opciones: si escribimos el nombre, nos mostrará por pantalla el DataFrame entero. Como esto puede ser problemático si tenemos muchos datos, hay comandos como .head() o .tail que nos muestran una cantidad limitada:"
   ]
  },
  {
   "cell_type": "markdown",
   "metadata": {},
   "source": [
    "df.head() nos mostrará por pantalla los 5 primeros elementos de la tabla.\n",
    "Si queremos que nos muestre n, pediremos df.head(n)"
   ]
  },
  {
   "cell_type": "code",
   "execution_count": 66,
   "metadata": {},
   "outputs": [
    {
     "data": {
      "text/html": [
       "<div>\n",
       "<style scoped>\n",
       "    .dataframe tbody tr th:only-of-type {\n",
       "        vertical-align: middle;\n",
       "    }\n",
       "\n",
       "    .dataframe tbody tr th {\n",
       "        vertical-align: top;\n",
       "    }\n",
       "\n",
       "    .dataframe thead th {\n",
       "        text-align: right;\n",
       "    }\n",
       "</style>\n",
       "<table border=\"1\" class=\"dataframe\">\n",
       "  <thead>\n",
       "    <tr style=\"text-align: right;\">\n",
       "      <th></th>\n",
       "      <th>Id</th>\n",
       "      <th>Sat_fat_dr</th>\n",
       "      <th>Sat_fat_ffq</th>\n",
       "      <th>Total_fat_dr</th>\n",
       "      <th>Total_fat_ffq</th>\n",
       "      <th>Alcoh_dr</th>\n",
       "      <th>Alcoh_ffq</th>\n",
       "      <th>Calor_dr</th>\n",
       "      <th>Calor_ffq</th>\n",
       "    </tr>\n",
       "  </thead>\n",
       "  <tbody>\n",
       "    <tr>\n",
       "      <th>0</th>\n",
       "      <td>100396</td>\n",
       "      <td>33.20</td>\n",
       "      <td>21.2</td>\n",
       "      <td>81.15</td>\n",
       "      <td>53.8</td>\n",
       "      <td>8.26</td>\n",
       "      <td>1.68</td>\n",
       "      <td>1807</td>\n",
       "      <td>1242.2</td>\n",
       "    </tr>\n",
       "    <tr>\n",
       "      <th>1</th>\n",
       "      <td>100566</td>\n",
       "      <td>17.73</td>\n",
       "      <td>10.6</td>\n",
       "      <td>53.28</td>\n",
       "      <td>36.6</td>\n",
       "      <td>0.83</td>\n",
       "      <td>0.00</td>\n",
       "      <td>1418</td>\n",
       "      <td>907.0</td>\n",
       "    </tr>\n",
       "    <tr>\n",
       "      <th>2</th>\n",
       "      <td>107633</td>\n",
       "      <td>38.73</td>\n",
       "      <td>23.8</td>\n",
       "      <td>83.48</td>\n",
       "      <td>47.2</td>\n",
       "      <td>20.13</td>\n",
       "      <td>15.10</td>\n",
       "      <td>1889</td>\n",
       "      <td>786.0</td>\n",
       "    </tr>\n",
       "    <tr>\n",
       "      <th>3</th>\n",
       "      <td>107737</td>\n",
       "      <td>21.57</td>\n",
       "      <td>22.7</td>\n",
       "      <td>49.65</td>\n",
       "      <td>55.3</td>\n",
       "      <td>11.16</td>\n",
       "      <td>7.49</td>\n",
       "      <td>1426</td>\n",
       "      <td>1392.5</td>\n",
       "    </tr>\n",
       "    <tr>\n",
       "      <th>4</th>\n",
       "      <td>107744</td>\n",
       "      <td>21.35</td>\n",
       "      <td>30.4</td>\n",
       "      <td>55.18</td>\n",
       "      <td>71.0</td>\n",
       "      <td>7.18</td>\n",
       "      <td>12.84</td>\n",
       "      <td>1253</td>\n",
       "      <td>1259.8</td>\n",
       "    </tr>\n",
       "  </tbody>\n",
       "</table>\n",
       "</div>"
      ],
      "text/plain": [
       "       Id  Sat_fat_dr  Sat_fat_ffq  Total_fat_dr  Total_fat_ffq  Alcoh_dr  \\\n",
       "0  100396       33.20         21.2         81.15           53.8      8.26   \n",
       "1  100566       17.73         10.6         53.28           36.6      0.83   \n",
       "2  107633       38.73         23.8         83.48           47.2     20.13   \n",
       "3  107737       21.57         22.7         49.65           55.3     11.16   \n",
       "4  107744       21.35         30.4         55.18           71.0      7.18   \n",
       "\n",
       "   Alcoh_ffq  Calor_dr  Calor_ffq  \n",
       "0       1.68      1807     1242.2  \n",
       "1       0.00      1418      907.0  \n",
       "2      15.10      1889      786.0  \n",
       "3       7.49      1426     1392.5  \n",
       "4      12.84      1253     1259.8  "
      ]
     },
     "execution_count": 66,
     "metadata": {},
     "output_type": "execute_result"
    }
   ],
   "source": [
    "df.head()"
   ]
  },
  {
   "cell_type": "code",
   "execution_count": 67,
   "metadata": {},
   "outputs": [
    {
     "data": {
      "text/html": [
       "<div>\n",
       "<style scoped>\n",
       "    .dataframe tbody tr th:only-of-type {\n",
       "        vertical-align: middle;\n",
       "    }\n",
       "\n",
       "    .dataframe tbody tr th {\n",
       "        vertical-align: top;\n",
       "    }\n",
       "\n",
       "    .dataframe thead th {\n",
       "        text-align: right;\n",
       "    }\n",
       "</style>\n",
       "<table border=\"1\" class=\"dataframe\">\n",
       "  <thead>\n",
       "    <tr style=\"text-align: right;\">\n",
       "      <th></th>\n",
       "      <th>Id</th>\n",
       "      <th>Sat_fat_dr</th>\n",
       "      <th>Sat_fat_ffq</th>\n",
       "      <th>Total_fat_dr</th>\n",
       "      <th>Total_fat_ffq</th>\n",
       "      <th>Alcoh_dr</th>\n",
       "      <th>Alcoh_ffq</th>\n",
       "      <th>Calor_dr</th>\n",
       "      <th>Calor_ffq</th>\n",
       "    </tr>\n",
       "  </thead>\n",
       "  <tbody>\n",
       "    <tr>\n",
       "      <th>0</th>\n",
       "      <td>100396</td>\n",
       "      <td>33.20</td>\n",
       "      <td>21.2</td>\n",
       "      <td>81.15</td>\n",
       "      <td>53.8</td>\n",
       "      <td>8.26</td>\n",
       "      <td>1.68</td>\n",
       "      <td>1807</td>\n",
       "      <td>1242.2</td>\n",
       "    </tr>\n",
       "    <tr>\n",
       "      <th>1</th>\n",
       "      <td>100566</td>\n",
       "      <td>17.73</td>\n",
       "      <td>10.6</td>\n",
       "      <td>53.28</td>\n",
       "      <td>36.6</td>\n",
       "      <td>0.83</td>\n",
       "      <td>0.00</td>\n",
       "      <td>1418</td>\n",
       "      <td>907.0</td>\n",
       "    </tr>\n",
       "    <tr>\n",
       "      <th>2</th>\n",
       "      <td>107633</td>\n",
       "      <td>38.73</td>\n",
       "      <td>23.8</td>\n",
       "      <td>83.48</td>\n",
       "      <td>47.2</td>\n",
       "      <td>20.13</td>\n",
       "      <td>15.10</td>\n",
       "      <td>1889</td>\n",
       "      <td>786.0</td>\n",
       "    </tr>\n",
       "  </tbody>\n",
       "</table>\n",
       "</div>"
      ],
      "text/plain": [
       "       Id  Sat_fat_dr  Sat_fat_ffq  Total_fat_dr  Total_fat_ffq  Alcoh_dr  \\\n",
       "0  100396       33.20         21.2         81.15           53.8      8.26   \n",
       "1  100566       17.73         10.6         53.28           36.6      0.83   \n",
       "2  107633       38.73         23.8         83.48           47.2     20.13   \n",
       "\n",
       "   Alcoh_ffq  Calor_dr  Calor_ffq  \n",
       "0       1.68      1807     1242.2  \n",
       "1       0.00      1418      907.0  \n",
       "2      15.10      1889      786.0  "
      ]
     },
     "execution_count": 67,
     "metadata": {},
     "output_type": "execute_result"
    }
   ],
   "source": [
    "df.head(3)"
   ]
  },
  {
   "cell_type": "markdown",
   "metadata": {},
   "source": [
    "El comando df.tail() es similar, pero mostrando los 5 últimos (o los n últimos si escribimos df.tail(n))"
   ]
  },
  {
   "cell_type": "code",
   "execution_count": 68,
   "metadata": {},
   "outputs": [
    {
     "data": {
      "text/html": [
       "<div>\n",
       "<style scoped>\n",
       "    .dataframe tbody tr th:only-of-type {\n",
       "        vertical-align: middle;\n",
       "    }\n",
       "\n",
       "    .dataframe tbody tr th {\n",
       "        vertical-align: top;\n",
       "    }\n",
       "\n",
       "    .dataframe thead th {\n",
       "        text-align: right;\n",
       "    }\n",
       "</style>\n",
       "<table border=\"1\" class=\"dataframe\">\n",
       "  <thead>\n",
       "    <tr style=\"text-align: right;\">\n",
       "      <th></th>\n",
       "      <th>Id</th>\n",
       "      <th>Sat_fat_dr</th>\n",
       "      <th>Sat_fat_ffq</th>\n",
       "      <th>Total_fat_dr</th>\n",
       "      <th>Total_fat_ffq</th>\n",
       "      <th>Alcoh_dr</th>\n",
       "      <th>Alcoh_ffq</th>\n",
       "      <th>Calor_dr</th>\n",
       "      <th>Calor_ffq</th>\n",
       "    </tr>\n",
       "  </thead>\n",
       "  <tbody>\n",
       "    <tr>\n",
       "      <th>168</th>\n",
       "      <td>136378</td>\n",
       "      <td>36.19</td>\n",
       "      <td>18.1</td>\n",
       "      <td>95.43</td>\n",
       "      <td>47.1</td>\n",
       "      <td>4.60</td>\n",
       "      <td>7.25</td>\n",
       "      <td>1976</td>\n",
       "      <td>1204.3</td>\n",
       "    </tr>\n",
       "    <tr>\n",
       "      <th>169</th>\n",
       "      <td>136407</td>\n",
       "      <td>22.42</td>\n",
       "      <td>10.9</td>\n",
       "      <td>62.15</td>\n",
       "      <td>32.0</td>\n",
       "      <td>2.56</td>\n",
       "      <td>1.81</td>\n",
       "      <td>1731</td>\n",
       "      <td>981.6</td>\n",
       "    </tr>\n",
       "    <tr>\n",
       "      <th>170</th>\n",
       "      <td>136421</td>\n",
       "      <td>16.98</td>\n",
       "      <td>20.4</td>\n",
       "      <td>42.85</td>\n",
       "      <td>47.5</td>\n",
       "      <td>13.91</td>\n",
       "      <td>8.64</td>\n",
       "      <td>1033</td>\n",
       "      <td>1128.3</td>\n",
       "    </tr>\n",
       "    <tr>\n",
       "      <th>171</th>\n",
       "      <td>137461</td>\n",
       "      <td>23.98</td>\n",
       "      <td>18.5</td>\n",
       "      <td>67.43</td>\n",
       "      <td>45.9</td>\n",
       "      <td>5.39</td>\n",
       "      <td>7.19</td>\n",
       "      <td>1585</td>\n",
       "      <td>1247.5</td>\n",
       "    </tr>\n",
       "    <tr>\n",
       "      <th>172</th>\n",
       "      <td>184093</td>\n",
       "      <td>21.39</td>\n",
       "      <td>19.0</td>\n",
       "      <td>56.70</td>\n",
       "      <td>40.4</td>\n",
       "      <td>0.60</td>\n",
       "      <td>3.49</td>\n",
       "      <td>1320</td>\n",
       "      <td>994.0</td>\n",
       "    </tr>\n",
       "  </tbody>\n",
       "</table>\n",
       "</div>"
      ],
      "text/plain": [
       "         Id  Sat_fat_dr  Sat_fat_ffq  Total_fat_dr  Total_fat_ffq  Alcoh_dr  \\\n",
       "168  136378       36.19         18.1         95.43           47.1      4.60   \n",
       "169  136407       22.42         10.9         62.15           32.0      2.56   \n",
       "170  136421       16.98         20.4         42.85           47.5     13.91   \n",
       "171  137461       23.98         18.5         67.43           45.9      5.39   \n",
       "172  184093       21.39         19.0         56.70           40.4      0.60   \n",
       "\n",
       "     Alcoh_ffq  Calor_dr  Calor_ffq  \n",
       "168       7.25      1976     1204.3  \n",
       "169       1.81      1731      981.6  \n",
       "170       8.64      1033     1128.3  \n",
       "171       7.19      1585     1247.5  \n",
       "172       3.49      1320      994.0  "
      ]
     },
     "execution_count": 68,
     "metadata": {},
     "output_type": "execute_result"
    }
   ],
   "source": [
    "df.tail()"
   ]
  },
  {
   "cell_type": "markdown",
   "metadata": {},
   "source": [
    "Por último, escribiendo df.sample(n), nos devolverá una selección aleatoria de n filas."
   ]
  },
  {
   "cell_type": "code",
   "execution_count": 69,
   "metadata": {},
   "outputs": [
    {
     "data": {
      "text/html": [
       "<div>\n",
       "<style scoped>\n",
       "    .dataframe tbody tr th:only-of-type {\n",
       "        vertical-align: middle;\n",
       "    }\n",
       "\n",
       "    .dataframe tbody tr th {\n",
       "        vertical-align: top;\n",
       "    }\n",
       "\n",
       "    .dataframe thead th {\n",
       "        text-align: right;\n",
       "    }\n",
       "</style>\n",
       "<table border=\"1\" class=\"dataframe\">\n",
       "  <thead>\n",
       "    <tr style=\"text-align: right;\">\n",
       "      <th></th>\n",
       "      <th>Id</th>\n",
       "      <th>Sat_fat_dr</th>\n",
       "      <th>Sat_fat_ffq</th>\n",
       "      <th>Total_fat_dr</th>\n",
       "      <th>Total_fat_ffq</th>\n",
       "      <th>Alcoh_dr</th>\n",
       "      <th>Alcoh_ffq</th>\n",
       "      <th>Calor_dr</th>\n",
       "      <th>Calor_ffq</th>\n",
       "    </tr>\n",
       "  </thead>\n",
       "  <tbody>\n",
       "    <tr>\n",
       "      <th>67</th>\n",
       "      <td>129732</td>\n",
       "      <td>21.58</td>\n",
       "      <td>13.8</td>\n",
       "      <td>64.25</td>\n",
       "      <td>40.9</td>\n",
       "      <td>0.80</td>\n",
       "      <td>1.81</td>\n",
       "      <td>1491</td>\n",
       "      <td>1249.3</td>\n",
       "    </tr>\n",
       "    <tr>\n",
       "      <th>44</th>\n",
       "      <td>114053</td>\n",
       "      <td>14.38</td>\n",
       "      <td>5.6</td>\n",
       "      <td>41.09</td>\n",
       "      <td>14.8</td>\n",
       "      <td>5.20</td>\n",
       "      <td>4.55</td>\n",
       "      <td>923</td>\n",
       "      <td>463.2</td>\n",
       "    </tr>\n",
       "    <tr>\n",
       "      <th>23</th>\n",
       "      <td>111220</td>\n",
       "      <td>21.98</td>\n",
       "      <td>32.6</td>\n",
       "      <td>54.91</td>\n",
       "      <td>73.2</td>\n",
       "      <td>9.49</td>\n",
       "      <td>6.49</td>\n",
       "      <td>1362</td>\n",
       "      <td>1589.6</td>\n",
       "    </tr>\n",
       "    <tr>\n",
       "      <th>6</th>\n",
       "      <td>107825</td>\n",
       "      <td>23.17</td>\n",
       "      <td>17.8</td>\n",
       "      <td>68.29</td>\n",
       "      <td>49.1</td>\n",
       "      <td>22.66</td>\n",
       "      <td>25.06</td>\n",
       "      <td>1700</td>\n",
       "      <td>1189.9</td>\n",
       "    </tr>\n",
       "    <tr>\n",
       "      <th>99</th>\n",
       "      <td>133443</td>\n",
       "      <td>16.73</td>\n",
       "      <td>57.4</td>\n",
       "      <td>54.07</td>\n",
       "      <td>119.0</td>\n",
       "      <td>0.00</td>\n",
       "      <td>0.00</td>\n",
       "      <td>1555</td>\n",
       "      <td>2691.0</td>\n",
       "    </tr>\n",
       "  </tbody>\n",
       "</table>\n",
       "</div>"
      ],
      "text/plain": [
       "        Id  Sat_fat_dr  Sat_fat_ffq  Total_fat_dr  Total_fat_ffq  Alcoh_dr  \\\n",
       "67  129732       21.58         13.8         64.25           40.9      0.80   \n",
       "44  114053       14.38          5.6         41.09           14.8      5.20   \n",
       "23  111220       21.98         32.6         54.91           73.2      9.49   \n",
       "6   107825       23.17         17.8         68.29           49.1     22.66   \n",
       "99  133443       16.73         57.4         54.07          119.0      0.00   \n",
       "\n",
       "    Alcoh_ffq  Calor_dr  Calor_ffq  \n",
       "67       1.81      1491     1249.3  \n",
       "44       4.55       923      463.2  \n",
       "23       6.49      1362     1589.6  \n",
       "6       25.06      1700     1189.9  \n",
       "99       0.00      1555     2691.0  "
      ]
     },
     "execution_count": 69,
     "metadata": {},
     "output_type": "execute_result"
    }
   ],
   "source": [
    "df.sample(5)"
   ]
  },
  {
   "cell_type": "markdown",
   "metadata": {},
   "source": [
    "Si las columnas que aparecen no nos gustan (o directamente no aparecen), podemos incluirlas a mano a la hora de crearlas llamándolas names"
   ]
  },
  {
   "cell_type": "code",
   "execution_count": 70,
   "metadata": {},
   "outputs": [],
   "source": [
    "columnas = ['Id','Grasas_sat_DR','Grasas_sat_FFQ',\n",
    "            'Total_grasas_DR','Total_grasas_FFQ',\n",
    "            'Alcohol_DR','Alcohol_FFQ',\n",
    "            'Calorias_DR','Calorias_FFQ']\n",
    "df = pd.read_excel('Datos.xlsx', names = columnas)"
   ]
  },
  {
   "cell_type": "code",
   "execution_count": 71,
   "metadata": {},
   "outputs": [
    {
     "data": {
      "text/html": [
       "<div>\n",
       "<style scoped>\n",
       "    .dataframe tbody tr th:only-of-type {\n",
       "        vertical-align: middle;\n",
       "    }\n",
       "\n",
       "    .dataframe tbody tr th {\n",
       "        vertical-align: top;\n",
       "    }\n",
       "\n",
       "    .dataframe thead th {\n",
       "        text-align: right;\n",
       "    }\n",
       "</style>\n",
       "<table border=\"1\" class=\"dataframe\">\n",
       "  <thead>\n",
       "    <tr style=\"text-align: right;\">\n",
       "      <th></th>\n",
       "      <th>Id</th>\n",
       "      <th>Grasas_sat_DR</th>\n",
       "      <th>Grasas_sat_FFQ</th>\n",
       "      <th>Total_grasas_DR</th>\n",
       "      <th>Total_grasas_FFQ</th>\n",
       "      <th>Alcohol_DR</th>\n",
       "      <th>Alcohol_FFQ</th>\n",
       "      <th>Calorias_DR</th>\n",
       "      <th>Calorias_FFQ</th>\n",
       "    </tr>\n",
       "  </thead>\n",
       "  <tbody>\n",
       "    <tr>\n",
       "      <th>0</th>\n",
       "      <td>100396</td>\n",
       "      <td>33.20</td>\n",
       "      <td>21.2</td>\n",
       "      <td>81.15</td>\n",
       "      <td>53.8</td>\n",
       "      <td>8.26</td>\n",
       "      <td>1.68</td>\n",
       "      <td>1807</td>\n",
       "      <td>1242.2</td>\n",
       "    </tr>\n",
       "    <tr>\n",
       "      <th>1</th>\n",
       "      <td>100566</td>\n",
       "      <td>17.73</td>\n",
       "      <td>10.6</td>\n",
       "      <td>53.28</td>\n",
       "      <td>36.6</td>\n",
       "      <td>0.83</td>\n",
       "      <td>0.00</td>\n",
       "      <td>1418</td>\n",
       "      <td>907.0</td>\n",
       "    </tr>\n",
       "    <tr>\n",
       "      <th>2</th>\n",
       "      <td>107633</td>\n",
       "      <td>38.73</td>\n",
       "      <td>23.8</td>\n",
       "      <td>83.48</td>\n",
       "      <td>47.2</td>\n",
       "      <td>20.13</td>\n",
       "      <td>15.10</td>\n",
       "      <td>1889</td>\n",
       "      <td>786.0</td>\n",
       "    </tr>\n",
       "    <tr>\n",
       "      <th>3</th>\n",
       "      <td>107737</td>\n",
       "      <td>21.57</td>\n",
       "      <td>22.7</td>\n",
       "      <td>49.65</td>\n",
       "      <td>55.3</td>\n",
       "      <td>11.16</td>\n",
       "      <td>7.49</td>\n",
       "      <td>1426</td>\n",
       "      <td>1392.5</td>\n",
       "    </tr>\n",
       "    <tr>\n",
       "      <th>4</th>\n",
       "      <td>107744</td>\n",
       "      <td>21.35</td>\n",
       "      <td>30.4</td>\n",
       "      <td>55.18</td>\n",
       "      <td>71.0</td>\n",
       "      <td>7.18</td>\n",
       "      <td>12.84</td>\n",
       "      <td>1253</td>\n",
       "      <td>1259.8</td>\n",
       "    </tr>\n",
       "  </tbody>\n",
       "</table>\n",
       "</div>"
      ],
      "text/plain": [
       "       Id  Grasas_sat_DR  Grasas_sat_FFQ  Total_grasas_DR  Total_grasas_FFQ  \\\n",
       "0  100396          33.20            21.2            81.15              53.8   \n",
       "1  100566          17.73            10.6            53.28              36.6   \n",
       "2  107633          38.73            23.8            83.48              47.2   \n",
       "3  107737          21.57            22.7            49.65              55.3   \n",
       "4  107744          21.35            30.4            55.18              71.0   \n",
       "\n",
       "   Alcohol_DR  Alcohol_FFQ  Calorias_DR  Calorias_FFQ  \n",
       "0        8.26         1.68         1807        1242.2  \n",
       "1        0.83         0.00         1418         907.0  \n",
       "2       20.13        15.10         1889         786.0  \n",
       "3       11.16         7.49         1426        1392.5  \n",
       "4        7.18        12.84         1253        1259.8  "
      ]
     },
     "execution_count": 71,
     "metadata": {},
     "output_type": "execute_result"
    }
   ],
   "source": [
    "df.head()"
   ]
  },
  {
   "cell_type": "markdown",
   "metadata": {},
   "source": [
    "# Filtrando datos"
   ]
  },
  {
   "cell_type": "markdown",
   "metadata": {},
   "source": [
    "Puede sernos de interés filtrar datos dentro de la propia tabla. Por ejemplo, nos puede interesar aquellas filas en las que las calorías por DR son 1107. Si llamamos a la columna en cuestión: df['Calorias'] y luego pedimos la igualdad lógica == 1107, lo que hará será devolvernos una lista donde aparecerá True o False dependiendo de si cada elemento de esa lista verifica nuestra condición"
   ]
  },
  {
   "cell_type": "code",
   "execution_count": 72,
   "metadata": {},
   "outputs": [
    {
     "data": {
      "text/plain": [
       "0      False\n",
       "1      False\n",
       "2      False\n",
       "3      False\n",
       "4      False\n",
       "5      False\n",
       "6      False\n",
       "7      False\n",
       "8      False\n",
       "9      False\n",
       "10     False\n",
       "11     False\n",
       "12     False\n",
       "13     False\n",
       "14     False\n",
       "15     False\n",
       "16     False\n",
       "17     False\n",
       "18     False\n",
       "19     False\n",
       "20     False\n",
       "21     False\n",
       "22     False\n",
       "23     False\n",
       "24     False\n",
       "25     False\n",
       "26     False\n",
       "27     False\n",
       "28     False\n",
       "29     False\n",
       "       ...  \n",
       "143    False\n",
       "144    False\n",
       "145    False\n",
       "146    False\n",
       "147    False\n",
       "148    False\n",
       "149    False\n",
       "150    False\n",
       "151    False\n",
       "152    False\n",
       "153    False\n",
       "154    False\n",
       "155    False\n",
       "156    False\n",
       "157    False\n",
       "158    False\n",
       "159    False\n",
       "160    False\n",
       "161    False\n",
       "162    False\n",
       "163    False\n",
       "164    False\n",
       "165    False\n",
       "166    False\n",
       "167    False\n",
       "168    False\n",
       "169    False\n",
       "170    False\n",
       "171    False\n",
       "172    False\n",
       "Name: Calorias_DR, Length: 173, dtype: bool"
      ]
     },
     "execution_count": 72,
     "metadata": {},
     "output_type": "execute_result"
    }
   ],
   "source": [
    "df['Calorias_DR'] == 1107"
   ]
  },
  {
   "cell_type": "markdown",
   "metadata": {},
   "source": [
    "Pero eso no nos interesa... Para que nos muestre por pantalla las filas donde se cumple la condición, tenemos que llamar a todo el Data Frame, y pedir dentro de el dicha condición:"
   ]
  },
  {
   "cell_type": "code",
   "execution_count": 73,
   "metadata": {},
   "outputs": [
    {
     "data": {
      "text/html": [
       "<div>\n",
       "<style scoped>\n",
       "    .dataframe tbody tr th:only-of-type {\n",
       "        vertical-align: middle;\n",
       "    }\n",
       "\n",
       "    .dataframe tbody tr th {\n",
       "        vertical-align: top;\n",
       "    }\n",
       "\n",
       "    .dataframe thead th {\n",
       "        text-align: right;\n",
       "    }\n",
       "</style>\n",
       "<table border=\"1\" class=\"dataframe\">\n",
       "  <thead>\n",
       "    <tr style=\"text-align: right;\">\n",
       "      <th></th>\n",
       "      <th>Id</th>\n",
       "      <th>Grasas_sat_DR</th>\n",
       "      <th>Grasas_sat_FFQ</th>\n",
       "      <th>Total_grasas_DR</th>\n",
       "      <th>Total_grasas_FFQ</th>\n",
       "      <th>Alcohol_DR</th>\n",
       "      <th>Alcohol_FFQ</th>\n",
       "      <th>Calorias_DR</th>\n",
       "      <th>Calorias_FFQ</th>\n",
       "    </tr>\n",
       "  </thead>\n",
       "  <tbody>\n",
       "    <tr>\n",
       "      <th>93</th>\n",
       "      <td>132662</td>\n",
       "      <td>18.59</td>\n",
       "      <td>12.5</td>\n",
       "      <td>45.37</td>\n",
       "      <td>29.5</td>\n",
       "      <td>19.38</td>\n",
       "      <td>29.92</td>\n",
       "      <td>1107</td>\n",
       "      <td>811.1</td>\n",
       "    </tr>\n",
       "  </tbody>\n",
       "</table>\n",
       "</div>"
      ],
      "text/plain": [
       "        Id  Grasas_sat_DR  Grasas_sat_FFQ  Total_grasas_DR  Total_grasas_FFQ  \\\n",
       "93  132662          18.59            12.5            45.37              29.5   \n",
       "\n",
       "    Alcohol_DR  Alcohol_FFQ  Calorias_DR  Calorias_FFQ  \n",
       "93       19.38        29.92         1107         811.1  "
      ]
     },
     "execution_count": 73,
     "metadata": {},
     "output_type": "execute_result"
    }
   ],
   "source": [
    "df[ df['Calorias_DR'] == 1107]"
   ]
  },
  {
   "cell_type": "markdown",
   "metadata": {},
   "source": [
    "# Encadenando varios comandos"
   ]
  },
  {
   "cell_type": "markdown",
   "metadata": {},
   "source": [
    "Pandas nos permite ejecutar varios de los comandos que hemos visto. Por ejemplo, ¿Qué tendríamos que hacer siquisiéramos ver solamente las columnas de Alcohol que el alcohol DR sea mayor que 10?\n",
    "\n",
    "Solución:"
   ]
  },
  {
   "cell_type": "code",
   "execution_count": 75,
   "metadata": {},
   "outputs": [
    {
     "data": {
      "text/html": [
       "<div>\n",
       "<style scoped>\n",
       "    .dataframe tbody tr th:only-of-type {\n",
       "        vertical-align: middle;\n",
       "    }\n",
       "\n",
       "    .dataframe tbody tr th {\n",
       "        vertical-align: top;\n",
       "    }\n",
       "\n",
       "    .dataframe thead th {\n",
       "        text-align: right;\n",
       "    }\n",
       "</style>\n",
       "<table border=\"1\" class=\"dataframe\">\n",
       "  <thead>\n",
       "    <tr style=\"text-align: right;\">\n",
       "      <th></th>\n",
       "      <th>Alcohol_DR</th>\n",
       "      <th>Alcohol_FFQ</th>\n",
       "    </tr>\n",
       "  </thead>\n",
       "  <tbody>\n",
       "    <tr>\n",
       "      <th>2</th>\n",
       "      <td>20.13</td>\n",
       "      <td>15.10</td>\n",
       "    </tr>\n",
       "    <tr>\n",
       "      <th>3</th>\n",
       "      <td>11.16</td>\n",
       "      <td>7.49</td>\n",
       "    </tr>\n",
       "    <tr>\n",
       "      <th>6</th>\n",
       "      <td>22.66</td>\n",
       "      <td>25.06</td>\n",
       "    </tr>\n",
       "    <tr>\n",
       "      <th>12</th>\n",
       "      <td>15.12</td>\n",
       "      <td>11.14</td>\n",
       "    </tr>\n",
       "    <tr>\n",
       "      <th>18</th>\n",
       "      <td>37.90</td>\n",
       "      <td>35.34</td>\n",
       "    </tr>\n",
       "    <tr>\n",
       "      <th>20</th>\n",
       "      <td>20.69</td>\n",
       "      <td>18.22</td>\n",
       "    </tr>\n",
       "    <tr>\n",
       "      <th>27</th>\n",
       "      <td>37.28</td>\n",
       "      <td>45.08</td>\n",
       "    </tr>\n",
       "    <tr>\n",
       "      <th>28</th>\n",
       "      <td>21.78</td>\n",
       "      <td>33.49</td>\n",
       "    </tr>\n",
       "    <tr>\n",
       "      <th>29</th>\n",
       "      <td>15.41</td>\n",
       "      <td>12.91</td>\n",
       "    </tr>\n",
       "    <tr>\n",
       "      <th>32</th>\n",
       "      <td>29.81</td>\n",
       "      <td>64.75</td>\n",
       "    </tr>\n",
       "    <tr>\n",
       "      <th>41</th>\n",
       "      <td>10.86</td>\n",
       "      <td>10.75</td>\n",
       "    </tr>\n",
       "    <tr>\n",
       "      <th>42</th>\n",
       "      <td>22.44</td>\n",
       "      <td>11.38</td>\n",
       "    </tr>\n",
       "    <tr>\n",
       "      <th>48</th>\n",
       "      <td>22.89</td>\n",
       "      <td>8.64</td>\n",
       "    </tr>\n",
       "    <tr>\n",
       "      <th>52</th>\n",
       "      <td>10.12</td>\n",
       "      <td>5.57</td>\n",
       "    </tr>\n",
       "    <tr>\n",
       "      <th>53</th>\n",
       "      <td>17.90</td>\n",
       "      <td>8.93</td>\n",
       "    </tr>\n",
       "    <tr>\n",
       "      <th>56</th>\n",
       "      <td>10.04</td>\n",
       "      <td>2.87</td>\n",
       "    </tr>\n",
       "    <tr>\n",
       "      <th>57</th>\n",
       "      <td>17.27</td>\n",
       "      <td>15.86</td>\n",
       "    </tr>\n",
       "    <tr>\n",
       "      <th>60</th>\n",
       "      <td>27.55</td>\n",
       "      <td>34.42</td>\n",
       "    </tr>\n",
       "    <tr>\n",
       "      <th>62</th>\n",
       "      <td>22.31</td>\n",
       "      <td>12.06</td>\n",
       "    </tr>\n",
       "    <tr>\n",
       "      <th>69</th>\n",
       "      <td>12.03</td>\n",
       "      <td>10.75</td>\n",
       "    </tr>\n",
       "    <tr>\n",
       "      <th>70</th>\n",
       "      <td>10.35</td>\n",
       "      <td>3.63</td>\n",
       "    </tr>\n",
       "    <tr>\n",
       "      <th>72</th>\n",
       "      <td>17.22</td>\n",
       "      <td>12.99</td>\n",
       "    </tr>\n",
       "    <tr>\n",
       "      <th>75</th>\n",
       "      <td>20.50</td>\n",
       "      <td>37.75</td>\n",
       "    </tr>\n",
       "    <tr>\n",
       "      <th>77</th>\n",
       "      <td>10.41</td>\n",
       "      <td>16.72</td>\n",
       "    </tr>\n",
       "    <tr>\n",
       "      <th>79</th>\n",
       "      <td>12.97</td>\n",
       "      <td>16.06</td>\n",
       "    </tr>\n",
       "    <tr>\n",
       "      <th>84</th>\n",
       "      <td>49.15</td>\n",
       "      <td>27.75</td>\n",
       "    </tr>\n",
       "    <tr>\n",
       "      <th>86</th>\n",
       "      <td>31.26</td>\n",
       "      <td>11.14</td>\n",
       "    </tr>\n",
       "    <tr>\n",
       "      <th>87</th>\n",
       "      <td>11.13</td>\n",
       "      <td>11.38</td>\n",
       "    </tr>\n",
       "    <tr>\n",
       "      <th>89</th>\n",
       "      <td>15.69</td>\n",
       "      <td>11.14</td>\n",
       "    </tr>\n",
       "    <tr>\n",
       "      <th>90</th>\n",
       "      <td>23.44</td>\n",
       "      <td>43.75</td>\n",
       "    </tr>\n",
       "    <tr>\n",
       "      <th>93</th>\n",
       "      <td>19.38</td>\n",
       "      <td>29.92</td>\n",
       "    </tr>\n",
       "    <tr>\n",
       "      <th>97</th>\n",
       "      <td>11.15</td>\n",
       "      <td>6.63</td>\n",
       "    </tr>\n",
       "    <tr>\n",
       "      <th>98</th>\n",
       "      <td>13.11</td>\n",
       "      <td>12.84</td>\n",
       "    </tr>\n",
       "    <tr>\n",
       "      <th>109</th>\n",
       "      <td>25.74</td>\n",
       "      <td>28.06</td>\n",
       "    </tr>\n",
       "    <tr>\n",
       "      <th>110</th>\n",
       "      <td>32.64</td>\n",
       "      <td>28.85</td>\n",
       "    </tr>\n",
       "    <tr>\n",
       "      <th>114</th>\n",
       "      <td>16.61</td>\n",
       "      <td>10.80</td>\n",
       "    </tr>\n",
       "    <tr>\n",
       "      <th>117</th>\n",
       "      <td>16.51</td>\n",
       "      <td>11.86</td>\n",
       "    </tr>\n",
       "    <tr>\n",
       "      <th>119</th>\n",
       "      <td>17.76</td>\n",
       "      <td>15.86</td>\n",
       "    </tr>\n",
       "    <tr>\n",
       "      <th>121</th>\n",
       "      <td>40.11</td>\n",
       "      <td>46.39</td>\n",
       "    </tr>\n",
       "    <tr>\n",
       "      <th>122</th>\n",
       "      <td>32.72</td>\n",
       "      <td>56.39</td>\n",
       "    </tr>\n",
       "    <tr>\n",
       "      <th>124</th>\n",
       "      <td>27.86</td>\n",
       "      <td>43.32</td>\n",
       "    </tr>\n",
       "    <tr>\n",
       "      <th>125</th>\n",
       "      <td>13.62</td>\n",
       "      <td>19.74</td>\n",
       "    </tr>\n",
       "    <tr>\n",
       "      <th>128</th>\n",
       "      <td>12.95</td>\n",
       "      <td>9.30</td>\n",
       "    </tr>\n",
       "    <tr>\n",
       "      <th>131</th>\n",
       "      <td>27.26</td>\n",
       "      <td>27.00</td>\n",
       "    </tr>\n",
       "    <tr>\n",
       "      <th>132</th>\n",
       "      <td>18.69</td>\n",
       "      <td>39.26</td>\n",
       "    </tr>\n",
       "    <tr>\n",
       "      <th>133</th>\n",
       "      <td>28.28</td>\n",
       "      <td>25.90</td>\n",
       "    </tr>\n",
       "    <tr>\n",
       "      <th>136</th>\n",
       "      <td>12.48</td>\n",
       "      <td>12.91</td>\n",
       "    </tr>\n",
       "    <tr>\n",
       "      <th>138</th>\n",
       "      <td>12.18</td>\n",
       "      <td>11.86</td>\n",
       "    </tr>\n",
       "    <tr>\n",
       "      <th>144</th>\n",
       "      <td>14.23</td>\n",
       "      <td>6.76</td>\n",
       "    </tr>\n",
       "    <tr>\n",
       "      <th>149</th>\n",
       "      <td>13.79</td>\n",
       "      <td>5.57</td>\n",
       "    </tr>\n",
       "    <tr>\n",
       "      <th>150</th>\n",
       "      <td>28.29</td>\n",
       "      <td>39.26</td>\n",
       "    </tr>\n",
       "    <tr>\n",
       "      <th>151</th>\n",
       "      <td>15.60</td>\n",
       "      <td>10.75</td>\n",
       "    </tr>\n",
       "    <tr>\n",
       "      <th>158</th>\n",
       "      <td>28.79</td>\n",
       "      <td>52.07</td>\n",
       "    </tr>\n",
       "    <tr>\n",
       "      <th>165</th>\n",
       "      <td>15.72</td>\n",
       "      <td>16.81</td>\n",
       "    </tr>\n",
       "    <tr>\n",
       "      <th>166</th>\n",
       "      <td>23.97</td>\n",
       "      <td>12.43</td>\n",
       "    </tr>\n",
       "    <tr>\n",
       "      <th>170</th>\n",
       "      <td>13.91</td>\n",
       "      <td>8.64</td>\n",
       "    </tr>\n",
       "  </tbody>\n",
       "</table>\n",
       "</div>"
      ],
      "text/plain": [
       "     Alcohol_DR  Alcohol_FFQ\n",
       "2         20.13        15.10\n",
       "3         11.16         7.49\n",
       "6         22.66        25.06\n",
       "12        15.12        11.14\n",
       "18        37.90        35.34\n",
       "20        20.69        18.22\n",
       "27        37.28        45.08\n",
       "28        21.78        33.49\n",
       "29        15.41        12.91\n",
       "32        29.81        64.75\n",
       "41        10.86        10.75\n",
       "42        22.44        11.38\n",
       "48        22.89         8.64\n",
       "52        10.12         5.57\n",
       "53        17.90         8.93\n",
       "56        10.04         2.87\n",
       "57        17.27        15.86\n",
       "60        27.55        34.42\n",
       "62        22.31        12.06\n",
       "69        12.03        10.75\n",
       "70        10.35         3.63\n",
       "72        17.22        12.99\n",
       "75        20.50        37.75\n",
       "77        10.41        16.72\n",
       "79        12.97        16.06\n",
       "84        49.15        27.75\n",
       "86        31.26        11.14\n",
       "87        11.13        11.38\n",
       "89        15.69        11.14\n",
       "90        23.44        43.75\n",
       "93        19.38        29.92\n",
       "97        11.15         6.63\n",
       "98        13.11        12.84\n",
       "109       25.74        28.06\n",
       "110       32.64        28.85\n",
       "114       16.61        10.80\n",
       "117       16.51        11.86\n",
       "119       17.76        15.86\n",
       "121       40.11        46.39\n",
       "122       32.72        56.39\n",
       "124       27.86        43.32\n",
       "125       13.62        19.74\n",
       "128       12.95         9.30\n",
       "131       27.26        27.00\n",
       "132       18.69        39.26\n",
       "133       28.28        25.90\n",
       "136       12.48        12.91\n",
       "138       12.18        11.86\n",
       "144       14.23         6.76\n",
       "149       13.79         5.57\n",
       "150       28.29        39.26\n",
       "151       15.60        10.75\n",
       "158       28.79        52.07\n",
       "165       15.72        16.81\n",
       "166       23.97        12.43\n",
       "170       13.91         8.64"
      ]
     },
     "execution_count": 75,
     "metadata": {},
     "output_type": "execute_result"
    }
   ],
   "source": [
    "df[df['Alcohol_DR'] > 10][[\"Alcohol_DR\",\"Alcohol_FFQ\"]]"
   ]
  },
  {
   "cell_type": "markdown",
   "metadata": {},
   "source": [
    "Recordad que las condiciónes lógicas que se pueden pedir son: == (igual a), != (distinto de), <= >= (menor/mayor o igual que), <  >(menor/mayor que)"
   ]
  },
  {
   "cell_type": "markdown",
   "metadata": {},
   "source": [
    "# Un poquito de Estadística ..."
   ]
  },
  {
   "cell_type": "markdown",
   "metadata": {},
   "source": [
    "Además, Pandas tiene comandos para calcular algunos estadísticos de la tabla. Por ejemplo, el comando df.mean() calcula la media aritmética de cada columna"
   ]
  },
  {
   "cell_type": "code",
   "execution_count": 76,
   "metadata": {},
   "outputs": [
    {
     "data": {
      "text/plain": [
       "Id                  125997.260116\n",
       "Grasas_sat_DR           24.931734\n",
       "Grasas_sat_FFQ          21.915607\n",
       "Total_grasas_DR         68.615376\n",
       "Total_grasas_FFQ        56.076879\n",
       "Alcohol_DR               8.962948\n",
       "Alcohol_FFQ              8.951329\n",
       "Calorias_DR           1619.872832\n",
       "Calorias_FFQ          1371.730058\n",
       "dtype: float64"
      ]
     },
     "execution_count": 76,
     "metadata": {},
     "output_type": "execute_result"
    }
   ],
   "source": [
    "df.mean()"
   ]
  },
  {
   "cell_type": "markdown",
   "metadata": {},
   "source": [
    "Si nos interesa tan solo de una columna, también lo puede hacer "
   ]
  },
  {
   "cell_type": "code",
   "execution_count": 77,
   "metadata": {},
   "outputs": [
    {
     "name": "stdout",
     "output_type": "stream",
     "text": [
      "24.93173410404625\n",
      "24.93173410404625\n"
     ]
    }
   ],
   "source": [
    "print(df.Grasas_sat_DR.mean())\n",
    "print(df['Grasas_sat_DR'].mean())"
   ]
  },
  {
   "cell_type": "markdown",
   "metadata": {},
   "source": [
    "O de las columnas que nos interesen:"
   ]
  },
  {
   "cell_type": "code",
   "execution_count": 78,
   "metadata": {},
   "outputs": [
    {
     "data": {
      "text/plain": [
       "Grasas_sat_DR     24.931734\n",
       "Grasas_sat_FFQ    21.915607\n",
       "dtype: float64"
      ]
     },
     "execution_count": 78,
     "metadata": {},
     "output_type": "execute_result"
    }
   ],
   "source": [
    "df[['Grasas_sat_DR','Grasas_sat_FFQ']].mean()"
   ]
  },
  {
   "cell_type": "markdown",
   "metadata": {},
   "source": [
    "También puede calcular la desviación típica y la mediana "
   ]
  },
  {
   "cell_type": "code",
   "execution_count": 79,
   "metadata": {},
   "outputs": [
    {
     "data": {
      "text/plain": [
       "Id                  11701.025452\n",
       "Grasas_sat_DR           6.772596\n",
       "Grasas_sat_FFQ          9.275395\n",
       "Total_grasas_DR        16.290839\n",
       "Total_grasas_FFQ       21.970692\n",
       "Alcohol_DR              9.664045\n",
       "Alcohol_FFQ            12.254817\n",
       "Calorias_DR           323.411603\n",
       "Calorias_FFQ          482.053536\n",
       "dtype: float64"
      ]
     },
     "execution_count": 79,
     "metadata": {},
     "output_type": "execute_result"
    }
   ],
   "source": [
    "df.std()"
   ]
  },
  {
   "cell_type": "code",
   "execution_count": 80,
   "metadata": {},
   "outputs": [
    {
     "data": {
      "text/plain": [
       "Id                  132382.00\n",
       "Grasas_sat_DR           24.16\n",
       "Grasas_sat_FFQ          19.90\n",
       "Total_grasas_DR         68.28\n",
       "Total_grasas_FFQ        51.70\n",
       "Alcohol_DR               5.84\n",
       "Alcohol_FFQ              4.55\n",
       "Calorias_DR           1606.00\n",
       "Calorias_FFQ          1297.60\n",
       "dtype: float64"
      ]
     },
     "execution_count": 80,
     "metadata": {},
     "output_type": "execute_result"
    }
   ],
   "source": [
    "df.median()"
   ]
  },
  {
   "cell_type": "code",
   "execution_count": null,
   "metadata": {},
   "outputs": [],
   "source": []
  },
  {
   "cell_type": "markdown",
   "metadata": {},
   "source": [
    "Todo esto queda recogido con el comando df.describe()"
   ]
  },
  {
   "cell_type": "code",
   "execution_count": 81,
   "metadata": {},
   "outputs": [
    {
     "data": {
      "text/html": [
       "<div>\n",
       "<style scoped>\n",
       "    .dataframe tbody tr th:only-of-type {\n",
       "        vertical-align: middle;\n",
       "    }\n",
       "\n",
       "    .dataframe tbody tr th {\n",
       "        vertical-align: top;\n",
       "    }\n",
       "\n",
       "    .dataframe thead th {\n",
       "        text-align: right;\n",
       "    }\n",
       "</style>\n",
       "<table border=\"1\" class=\"dataframe\">\n",
       "  <thead>\n",
       "    <tr style=\"text-align: right;\">\n",
       "      <th></th>\n",
       "      <th>Id</th>\n",
       "      <th>Grasas_sat_DR</th>\n",
       "      <th>Grasas_sat_FFQ</th>\n",
       "      <th>Total_grasas_DR</th>\n",
       "      <th>Total_grasas_FFQ</th>\n",
       "      <th>Alcohol_DR</th>\n",
       "      <th>Alcohol_FFQ</th>\n",
       "      <th>Calorias_DR</th>\n",
       "      <th>Calorias_FFQ</th>\n",
       "    </tr>\n",
       "  </thead>\n",
       "  <tbody>\n",
       "    <tr>\n",
       "      <th>count</th>\n",
       "      <td>173.000000</td>\n",
       "      <td>173.000000</td>\n",
       "      <td>173.000000</td>\n",
       "      <td>173.000000</td>\n",
       "      <td>173.000000</td>\n",
       "      <td>173.000000</td>\n",
       "      <td>173.000000</td>\n",
       "      <td>173.000000</td>\n",
       "      <td>173.000000</td>\n",
       "    </tr>\n",
       "    <tr>\n",
       "      <th>mean</th>\n",
       "      <td>125997.260116</td>\n",
       "      <td>24.931734</td>\n",
       "      <td>21.915607</td>\n",
       "      <td>68.615376</td>\n",
       "      <td>56.076879</td>\n",
       "      <td>8.962948</td>\n",
       "      <td>8.951329</td>\n",
       "      <td>1619.872832</td>\n",
       "      <td>1371.730058</td>\n",
       "    </tr>\n",
       "    <tr>\n",
       "      <th>std</th>\n",
       "      <td>11701.025452</td>\n",
       "      <td>6.772596</td>\n",
       "      <td>9.275395</td>\n",
       "      <td>16.290839</td>\n",
       "      <td>21.970692</td>\n",
       "      <td>9.664045</td>\n",
       "      <td>12.254817</td>\n",
       "      <td>323.411603</td>\n",
       "      <td>482.053536</td>\n",
       "    </tr>\n",
       "    <tr>\n",
       "      <th>min</th>\n",
       "      <td>100396.000000</td>\n",
       "      <td>11.820000</td>\n",
       "      <td>5.600000</td>\n",
       "      <td>35.900000</td>\n",
       "      <td>14.800000</td>\n",
       "      <td>0.000000</td>\n",
       "      <td>0.000000</td>\n",
       "      <td>910.000000</td>\n",
       "      <td>463.200000</td>\n",
       "    </tr>\n",
       "    <tr>\n",
       "      <th>25%</th>\n",
       "      <td>113882.000000</td>\n",
       "      <td>20.200000</td>\n",
       "      <td>15.600000</td>\n",
       "      <td>56.160000</td>\n",
       "      <td>40.800000</td>\n",
       "      <td>1.760000</td>\n",
       "      <td>0.760000</td>\n",
       "      <td>1418.000000</td>\n",
       "      <td>1035.500000</td>\n",
       "    </tr>\n",
       "    <tr>\n",
       "      <th>50%</th>\n",
       "      <td>132382.000000</td>\n",
       "      <td>24.160000</td>\n",
       "      <td>19.900000</td>\n",
       "      <td>68.280000</td>\n",
       "      <td>51.700000</td>\n",
       "      <td>5.840000</td>\n",
       "      <td>4.550000</td>\n",
       "      <td>1606.000000</td>\n",
       "      <td>1297.600000</td>\n",
       "    </tr>\n",
       "    <tr>\n",
       "      <th>75%</th>\n",
       "      <td>134611.000000</td>\n",
       "      <td>28.260000</td>\n",
       "      <td>25.800000</td>\n",
       "      <td>77.980000</td>\n",
       "      <td>68.000000</td>\n",
       "      <td>12.970000</td>\n",
       "      <td>11.860000</td>\n",
       "      <td>1781.000000</td>\n",
       "      <td>1589.600000</td>\n",
       "    </tr>\n",
       "    <tr>\n",
       "      <th>max</th>\n",
       "      <td>184093.000000</td>\n",
       "      <td>46.360000</td>\n",
       "      <td>57.400000</td>\n",
       "      <td>119.830000</td>\n",
       "      <td>133.500000</td>\n",
       "      <td>49.150000</td>\n",
       "      <td>64.750000</td>\n",
       "      <td>2518.000000</td>\n",
       "      <td>3077.300000</td>\n",
       "    </tr>\n",
       "  </tbody>\n",
       "</table>\n",
       "</div>"
      ],
      "text/plain": [
       "                  Id  Grasas_sat_DR  Grasas_sat_FFQ  Total_grasas_DR  \\\n",
       "count     173.000000     173.000000      173.000000       173.000000   \n",
       "mean   125997.260116      24.931734       21.915607        68.615376   \n",
       "std     11701.025452       6.772596        9.275395        16.290839   \n",
       "min    100396.000000      11.820000        5.600000        35.900000   \n",
       "25%    113882.000000      20.200000       15.600000        56.160000   \n",
       "50%    132382.000000      24.160000       19.900000        68.280000   \n",
       "75%    134611.000000      28.260000       25.800000        77.980000   \n",
       "max    184093.000000      46.360000       57.400000       119.830000   \n",
       "\n",
       "       Total_grasas_FFQ  Alcohol_DR  Alcohol_FFQ  Calorias_DR  Calorias_FFQ  \n",
       "count        173.000000  173.000000   173.000000   173.000000    173.000000  \n",
       "mean          56.076879    8.962948     8.951329  1619.872832   1371.730058  \n",
       "std           21.970692    9.664045    12.254817   323.411603    482.053536  \n",
       "min           14.800000    0.000000     0.000000   910.000000    463.200000  \n",
       "25%           40.800000    1.760000     0.760000  1418.000000   1035.500000  \n",
       "50%           51.700000    5.840000     4.550000  1606.000000   1297.600000  \n",
       "75%           68.000000   12.970000    11.860000  1781.000000   1589.600000  \n",
       "max          133.500000   49.150000    64.750000  2518.000000   3077.300000  "
      ]
     },
     "execution_count": 81,
     "metadata": {},
     "output_type": "execute_result"
    }
   ],
   "source": [
    "df.describe()"
   ]
  },
  {
   "cell_type": "markdown",
   "metadata": {},
   "source": [
    "Pandas es una librería bastante conocida, y hay cantidad de información al respecto en Internet. Aquí os dejo 3 enlaces que llevan a un tutoríal donde explican un poco más de lo visto aquí, y un cartel resumido muy bueno:\n",
    "\n",
    "https://data36.com/pandas-tutorial-1-basics-reading-data-files-dataframes-data-selection/\n",
    "\n",
    "https://data36.com/pandas-tutorial-2-aggregation-and-grouping/\n",
    "\n",
    "https://data36.com/pandas-tutorial-3-important-data-formatting-methods-merge-sort-reset_index-fillna/\n",
    "\n",
    "\n",
    "\n",
    "https://github.com/pandas-dev/pandas/blob/master/doc/cheatsheet/Pandas_Cheat_Sheet.pdf"
   ]
  },
  {
   "cell_type": "code",
   "execution_count": null,
   "metadata": {},
   "outputs": [],
   "source": []
  }
 ],
 "metadata": {
  "kernelspec": {
   "display_name": "Python 3",
   "language": "python",
   "name": "python3"
  },
  "language_info": {
   "codemirror_mode": {
    "name": "ipython",
    "version": 3
   },
   "file_extension": ".py",
   "mimetype": "text/x-python",
   "name": "python",
   "nbconvert_exporter": "python",
   "pygments_lexer": "ipython3",
   "version": "3.6.2"
  }
 },
 "nbformat": 4,
 "nbformat_minor": 2
}
