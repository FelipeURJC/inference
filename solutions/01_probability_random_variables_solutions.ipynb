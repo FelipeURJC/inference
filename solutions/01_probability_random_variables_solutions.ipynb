{
 "cells": [
  {
   "cell_type": "markdown",
   "metadata": {},
   "source": [
    "This notebook, by [felipe.alonso@urjc.es](mailto:felipe.alonso@urjc.es)\n",
    "\n",
    "In this notebook we will:\n",
    "\n",
    "- Learn how to generate random variables (discrete or continuous) following different distributions.\n",
    "- Learn how to represent random variables and distributions\n",
    "- Calculate main statistics of the generated random variables\n",
    "- Solve specific problems associated with different distributions\n",
    "\n",
    "For doing this, we will used the library [`scipy.stats`](https://docs.scipy.org/doc/scipy/reference/stats.html) which allows us to generate random variables following diferent distributions.\n",
    "\n",
    "# 0. Load libraries"
   ]
  },
  {
   "cell_type": "code",
   "execution_count": 1,
   "metadata": {},
   "outputs": [],
   "source": [
    "import numpy as np\n",
    "import matplotlib.pyplot as plt\n",
    "%matplotlib inline\n",
    "\n",
    "from scipy.stats import binom, poisson, norm"
   ]
  },
  {
   "cell_type": "markdown",
   "metadata": {},
   "source": [
    "# 1. Binomial distribution\n",
    "\n",
    "- To generate $N$ Binomial(n,p) r.v.'s we write `binom_rvs = binom.rvs(n,p,size = N)` \n",
    "- To generate a Binomial(n,p) pmf we write `binom_pmf = binom(n,p).pmf(x)`\n",
    "\n",
    "All methods associated with the Binomial distribution can be found [here](https://docs.scipy.org/doc/scipy/reference/generated/scipy.stats.binom.html#scipy.stats.binom).\n",
    "\n",
    "Run the following examples, and try to understand the code and the results. Then, solve the proposed exercises."
   ]
  },
  {
   "cell_type": "code",
   "execution_count": 2,
   "metadata": {},
   "outputs": [
    {
     "data": {
      "image/png": "[encoded data removed]",
      "text/plain": [
       "<Figure size 432x288 with 1 Axes>"
      ]
     },
     "metadata": {
      "needs_background": "light"
     },
     "output_type": "display_data"
    }
   ],
   "source": [
    "# Example 1: plot the histogram of 100 Binomial(10,0.5) r.v.s\n",
    "# Change the values of size and bins parameters and see what happens\n",
    "\n",
    "n = 10\n",
    "p = 0.5\n",
    "binom_rvs = binom.rvs(n,p,size = 100)\n",
    "\n",
    "plt.hist(binom_rvs, density=True, bins=50)\n",
    "plt.show()"
   ]
  },
  {
   "cell_type": "code",
   "execution_count": 3,
   "metadata": {},
   "outputs": [
    {
     "data": {
      "image/png": "[encoded data removed]",
      "text/plain": [
       "<Figure size 432x288 with 1 Axes>"
      ]
     },
     "metadata": {
      "needs_background": "light"
     },
     "output_type": "display_data"
    }
   ],
   "source": [
    "# Example 2: plot the pmf of a Binomial(10,0.5) \n",
    "x = range(0,10)\n",
    "plt.plot(x,binom(10,0.5).pmf(x),'bo')\n",
    "plt.vlines(x,0,binom(10,0.5).pmf(x),'b')\n",
    "plt.show()"
   ]
  },
  {
   "cell_type": "code",
   "execution_count": 4,
   "metadata": {},
   "outputs": [
    {
     "name": "stdout",
     "output_type": "stream",
     "text": [
      "mean: 5.0\n",
      "std: 1.5811388300841898\n",
      "median: 5.0\n"
     ]
    }
   ],
   "source": [
    "# Example 3: calculate the mean, std and median values of a Binomial(10,0.5)\n",
    "print('mean:',binom(10,0.5).mean())\n",
    "print('std:',binom(10,0.5).std())\n",
    "print('median:',binom(10,0.5).median())"
   ]
  },
  {
   "cell_type": "markdown",
   "metadata": {},
   "source": [
    "## Exercise 1\n",
    "\n",
    "<div class=\"alert alert-block alert-info\">\n",
    "The prevalence of bronchitis within the polulation is 5%. <br>\n",
    "- What is the probability that there are 75 bronchitis patients among 1500 subjects? <br>\n",
    "- What is the probability that there are more than 75 bronchitis patients among 1500 subjects?\n",
    "</div>\n",
    "\n"
   ]
  },
  {
   "cell_type": "code",
   "execution_count": 5,
   "metadata": {},
   "outputs": [
    {
     "name": "stdout",
     "output_type": "stream",
     "text": [
      "The probability is  0.0472099798479879\n",
      "The probability is  0.516541558588753\n"
     ]
    }
   ],
   "source": [
    "# your code here\n",
    "p1 = binom(1500,0.05).pmf(75)\n",
    "print('The probability is ', p1)\n",
    "\n",
    "p2 = 1 - binom(1500,0.05).cdf(75-1)\n",
    "print('The probability is ', p2)"
   ]
  },
  {
   "cell_type": "code",
   "execution_count": 6,
   "metadata": {
    "scrolled": false
   },
   "outputs": [
    {
     "name": "stdout",
     "output_type": "stream",
     "text": [
      "0.5165415585883422\n"
     ]
    }
   ],
   "source": [
    "p = 0\n",
    "for n in range(75,1500):\n",
    "    p += binom(1500,0.05).pmf(n)\n",
    "\n",
    "print(p)"
   ]
  },
  {
   "cell_type": "markdown",
   "metadata": {},
   "source": [
    "## Exercise 2 \n",
    "\n",
    "<div class=\"alert alert-block alert-info\">\n",
    "Suppose a friend has 8 children, 7 of which are girls and none are twins. If each gender has an independent 50% probability for each birth, what’s the probability of getting 7 or more girls out of 8 births?\n",
    "</div>"
   ]
  },
  {
   "cell_type": "code",
   "execution_count": 7,
   "metadata": {},
   "outputs": [
    {
     "name": "stdout",
     "output_type": "stream",
     "text": [
      "The probability is  0.03515625\n",
      "The probability is  0.035156250000000014\n",
      "The probability is  0.03515625\n"
     ]
    }
   ],
   "source": [
    "# your code here\n",
    "\n",
    "# Option 1:\n",
    "p3 = 1 - binom(8,0.5).cdf(7-1)\n",
    "print('The probability is ', p3)\n",
    "\n",
    "# Option 2:\n",
    "p3 = binom(8,0.5).pmf(7) + binom(8,0.5).pmf(8)\n",
    "print('The probability is ', p3)\n",
    "\n",
    "# Option 3:\n",
    "p3 = binom(8,0.5).sf(6)\n",
    "print('The probability is ', p3)"
   ]
  },
  {
   "cell_type": "markdown",
   "metadata": {},
   "source": [
    "# 2. Poisson distribution\n",
    "\n",
    "The [Poisson](https://docs.scipy.org/doc/scipy/reference/generated/scipy.stats.poisson.html) distribution is defined by scipy as \n",
    "\n",
    "$$f(k) = \\exp{(-\\mu)}\\frac{\\mu^k}{k!},\\,\\textrm{ for } k \\geq 0$$\n",
    "\n",
    "which takes $\\mu$ as a parameter"
   ]
  },
  {
   "cell_type": "markdown",
   "metadata": {},
   "source": [
    "## Exercise 3\n",
    "\n",
    "<div class=\"alert alert-block alert-info\">\n",
    "Suppose the number of deaths from typhoid fever over a 1-year period is Poisson distributed with a mean of $4.6$ per year. What is the probability distribution of the number of deaths over a 6-month period? A 3-month period? Represent the associated pmf. In which of these two cases  is it more likely that no one died? Justify your answer \n",
    "</div>"
   ]
  },
  {
   "cell_type": "code",
   "execution_count": 8,
   "metadata": {},
   "outputs": [
    {
     "data": {
      "image/png": "[encoded data removed]",
      "text/plain": [
       "<Figure size 432x288 with 1 Axes>"
      ]
     },
     "metadata": {
      "needs_background": "light"
     },
     "output_type": "display_data"
    }
   ],
   "source": [
    "# your code here\n",
    "# ...\n",
    "\n",
    "x = range(0,7)\n",
    "\n",
    "# 6 months\n",
    "mu  = 4.6*0.5\n",
    "pmf = poisson(mu).pmf(x)\n",
    "\n",
    "plt.plot(x,pmf,'bo', label ='6 months')\n",
    "plt.vlines(x,0,pmf,'b')\n",
    "\n",
    "# 3 months\n",
    "mu  = 4.6*0.25\n",
    "pmf = poisson(mu).pmf(x)\n",
    "\n",
    "plt.plot(x,pmf,'rs',label='3 months')\n",
    "plt.vlines(x,0,pmf,'r', alpha =0.7)\n",
    "\n",
    "plt.legend()\n",
    "\n",
    "plt.show()"
   ]
  },
  {
   "cell_type": "markdown",
   "metadata": {},
   "source": [
    "## Exercise 4: poisson approximation to the binomial\n",
    "\n",
    "<div class=\"alert alert-block alert-info\">\n",
    "We flip a coin with success probability 0.01 five hundred times. What’s the probability of 2 or fewer successes? Answer the question using a poisson and a binomial distribution \n",
    "</div>"
   ]
  },
  {
   "cell_type": "code",
   "execution_count": 9,
   "metadata": {},
   "outputs": [
    {
     "name": "stdout",
     "output_type": "stream",
     "text": [
      "Binomial prob.: 0.12338577435354905\n",
      "Poisson  prob.: 0.12465201948308108\n"
     ]
    }
   ],
   "source": [
    "# your code here\n",
    "# ...\n",
    "\n",
    "# binomial\n",
    "p = 0.01\n",
    "n = 500\n",
    "print('Binomial prob.:',binom(n,p).cdf(2))\n",
    "\n",
    "# poisson\n",
    "mu = n*p\n",
    "print('Poisson  prob.:',poisson(mu).cdf(2))\n"
   ]
  },
  {
   "cell_type": "markdown",
   "metadata": {},
   "source": [
    "# 3. Normal distribution\n",
    "\n",
    "In scipy, the [normal distribution](https://docs.scipy.org/doc/scipy/reference/generated/scipy.stats.norm.html) is defined in the standarized form\n",
    "\n",
    "$$f(x) = \\frac{1}{\\sqrt{2\\pi}}e^{-\\frac{x^2}{2}}$$\n",
    "\n",
    "## Exercise 5\n",
    "\n",
    "<div class=\"alert alert-block alert-info\">\n",
    "Write a python funtion for representing a normal distrution of mean $\\mu$ and variance $\\sigma^2$\n",
    "</div>"
   ]
  },
  {
   "cell_type": "code",
   "execution_count": 10,
   "metadata": {},
   "outputs": [
    {
     "data": {
      "image/png": "[encoded data removed]",
      "text/plain": [
       "<Figure size 432x288 with 1 Axes>"
      ]
     },
     "metadata": {
      "needs_background": "light"
     },
     "output_type": "display_data"
    }
   ],
   "source": [
    "def plot_normal_pdf(mu,sigma2):\n",
    "    # your code here\n",
    "    # ...\n",
    "    \n",
    "    sigma = np.sqrt(sigma2)\n",
    "    \n",
    "    x = np.linspace(mu-4*sigma,mu+4*sigma)\n",
    "    pdf = norm(loc = mu, scale = sigma).pdf(x)\n",
    "    \n",
    "    plt.plot(x,pdf)\n",
    "    plt.show()\n",
    " \n",
    "plot_normal_pdf(2,2)"
   ]
  },
  {
   "cell_type": "markdown",
   "metadata": {},
   "source": [
    "## Exercise 6\n",
    "\n",
    "<div class=\"alert alert-block alert-info\">\n",
    "Suppose that the number of web hits to a particular site are approximately normally distributed with a mean of 100 hits per day and a standard deviation of 10 hits per day. What number of web hits per day represents the number so that only 5% of days have more hits?\n",
    "</div>"
   ]
  },
  {
   "cell_type": "code",
   "execution_count": 11,
   "metadata": {},
   "outputs": [
    {
     "name": "stdout",
     "output_type": "stream",
     "text": [
      "Number of web hits per day:  116.44853626951472\n"
     ]
    },
    {
     "data": {
      "text/plain": [
       "116.44853626951472"
      ]
     },
     "execution_count": 11,
     "metadata": {},
     "output_type": "execute_result"
    }
   ],
   "source": [
    "# your code here\n",
    "# ...\n",
    "\n",
    "mu = 100 # hits/day\n",
    "sigma = 10 # hits/day\n",
    "\n",
    "#option 1:\n",
    "n_hits = norm.ppf(q = 0.95, loc = mu, scale = sigma)\n",
    "\n",
    "#option 2:\n",
    "n_hits = mu + norm.ppf(q = 0.95) * sigma\n",
    "\n",
    "print('Number of web hits per day: ', n_hits)\n",
    "\n",
    "norm(100,10).ppf(0.95)"
   ]
  },
  {
   "cell_type": "markdown",
   "metadata": {},
   "source": [
    "## Exercise 7 (optional)\n",
    "\n",
    "We want to perform the following experiment:\n",
    "\n",
    "1. Take 5 samples at random from a $N(2,4)$ distribution\n",
    "2. Calculate the mean value of those 5 samples\n",
    "3. Repeat steps 1 and 2, say a 100 times, and represent the histogram of the resulting mean value for each repetition \n",
    "\n",
    "<div class=\"alert alert-block alert-info\">\n",
    "What's the mean of the mean value for all repetitions?\n",
    "</div>\n",
    "\n"
   ]
  },
  {
   "cell_type": "code",
   "execution_count": 12,
   "metadata": {},
   "outputs": [
    {
     "data": {
      "image/png": "[encoded data removed]",
      "text/plain": [
       "<Figure size 432x288 with 1 Axes>"
      ]
     },
     "metadata": {
      "needs_background": "light"
     },
     "output_type": "display_data"
    },
    {
     "name": "stdout",
     "output_type": "stream",
     "text": [
      "Mean of the mean: 2.010023099877066\n",
      "std of the mean: 0.8628066390647415\n"
     ]
    }
   ],
   "source": [
    "# your code here\n",
    "# ...\n",
    "\n",
    "N = 100\n",
    "size = 5\n",
    "\n",
    "mean = []\n",
    "for i in range(N):\n",
    "    samples = norm(loc = 2, scale = 2).rvs(size = size)\n",
    "    mean.append(samples.mean())\n",
    "\n",
    "plt.hist(mean, density = True, bins=25)\n",
    "plt.show()\n",
    "\n",
    "print('Mean of the mean:', np.mean(mean))\n",
    "print('std of the mean:', np.std(mean))"
   ]
  }
 ],
 "metadata": {
  "kernelspec": {
   "display_name": "Python 3",
   "language": "python",
   "name": "python3"
  },
  "language_info": {
   "codemirror_mode": {
    "name": "ipython",
    "version": 3
   },
   "file_extension": ".py",
   "mimetype": "text/x-python",
   "name": "python",
   "nbconvert_exporter": "python",
   "pygments_lexer": "ipython3",
   "version": "3.7.9"
  }
 },
 "nbformat": 4,
 "nbformat_minor": 2
}
