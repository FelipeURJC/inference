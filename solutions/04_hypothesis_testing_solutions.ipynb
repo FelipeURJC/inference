{
 "cells": [
  {
   "cell_type": "markdown",
   "metadata": {},
   "source": [
    "This notebook, by [felipe.alonso@urjc.es](mailto:felipe.alonso@urjc.es)\n",
    "\n",
    "In this notebook we will:\n",
    "\n",
    "1. Solve one-sample hypothesis testing examples:\n",
    "    - hypothesis testing for the mean\n",
    "    - hypothesis testing for proportions \n",
    "2. Solve two-sample hypothesis testing examples\n",
    "\n",
    "# 0. Load libraries"
   ]
  },
  {
   "cell_type": "code",
   "execution_count": 1,
   "metadata": {},
   "outputs": [],
   "source": [
    "import numpy as np\n",
    "import pandas as pd\n",
    "\n",
    "import matplotlib.pyplot as plt\n",
    "%matplotlib inline\n",
    "\n",
    "from scipy.stats import t, sem, norm"
   ]
  },
  {
   "cell_type": "markdown",
   "metadata": {},
   "source": [
    "# 1. One sample hypothesis testing\n",
    "\n",
    "### Example 1:\n",
    "\n",
    "Load the data set `mtcars` contained in the `./data/mtcars.csv` file of this repository. Assume that the data set `mtcars` is a random sample. Compute the mean MPG, $\\bar{x}$, of this sample. You want to test whether the true MPG is $\\mu_0$ or smaller using a one sided $5\\%$ level test. Thus, you want to test \n",
    "\n",
    "$$H_0:\\mu = \\mu_0\\quad\\text{ vs.}\\quad H_1:\\mu<\\mu_0$$ \n",
    "\n",
    "<div class=\"alert alert-block alert-info\">\n",
    "Based on the mean MPG of the sample $\\bar{x}$, what is the smallest value of $\\mu_0$ that you would reject $H_0$ for?\n",
    "</div>"
   ]
  },
  {
   "cell_type": "code",
   "execution_count": 2,
   "metadata": {},
   "outputs": [
    {
     "name": "stdout",
     "output_type": "stream",
     "text": [
      "The smallest value is 21.897\n"
     ]
    }
   ],
   "source": [
    "# Your code here\n",
    "# ...\n",
    "\n",
    "# load data\n",
    "mtcars = pd.read_csv('./data/mtcars.csv',sep=',', decimal='.')\n",
    "\n",
    "# get variables of interest\n",
    "x = mtcars.mpg.values\n",
    "n = len(x)\n",
    "alpha = 0.05\n",
    "\n",
    "# do calculation\n",
    "mu_0 = x.mean()-t(df=n-1).ppf(alpha)*sem(x)\n",
    "\n",
    "print('The smallest value is', mu_0.round(3))\n",
    "\n",
    "# Your solution should be: 21.897"
   ]
  },
  {
   "cell_type": "markdown",
   "metadata": {},
   "source": [
    "### Example 2:\n",
    "\n",
    "A survey claims that $9$ out of $10$ doctors recommend aspirin for their patients with headaches. To test this claim, a random sample of $100$ doctors is obtained. Of these $100$ doctors, $82$ indicate that they recommend aspirin.\n",
    "\n",
    "<div class=\"alert alert-block alert-info\">\n",
    "Is this claim accurate? Use $\\alpha$ = 0.05\n",
    "</div>\n",
    "\n",
    "Hint: you might want to use the [`binom_test`](https://docs.scipy.org/doc/scipy-0.14.0/reference/generated/scipy.stats.binom_test.html#scipy.stats.binom_test). Notice that this is an exact test, and does not assume normality."
   ]
  },
  {
   "cell_type": "code",
   "execution_count": 3,
   "metadata": {},
   "outputs": [
    {
     "name": "stdout",
     "output_type": "stream",
     "text": [
      "We reject the null hypothesis H0\n",
      "P-value: 0.00766076113517941\n",
      "P-value: 0.01195216391400506\n"
     ]
    }
   ],
   "source": [
    "# Your code here\n",
    "# ...\n",
    "\n",
    "# Our hypothesis would be H0: p0 = 0.9 vs H1: p0 != 0.9 (two-sided)\n",
    "p_hat = 82/100\n",
    "p0 = 0.9\n",
    "n = 100\n",
    "\n",
    "#Since 100*p0*(1-p0) > 5, we can use the Normal approximation\n",
    "z = (p_hat - p0)/np.sqrt(p0*(1-p0)/n)\n",
    "\n",
    "th = norm().ppf(0.975)\n",
    "\n",
    "if np.abs(z) > th:\n",
    "     print('We reject the null hypothesis H0')\n",
    "else:\n",
    "    print('We accept the null hypothesis H0')\n",
    "\n",
    "# We can calculate the p-value:\n",
    "p_value = 2*norm().cdf(-np.abs(z))\n",
    "print('P-value:', p_value)\n",
    "\n",
    "# Exact test\n",
    "from scipy.stats import binom_test\n",
    "p_v = binom_test(x = 82, n=100 , p=0.9)\n",
    "print('P-value:', p_v)"
   ]
  },
  {
   "cell_type": "markdown",
   "metadata": {},
   "source": [
    "### Example 3: \n",
    "\n",
    "You believe the coin that you’re flipping is biased towards heads. You get $55$ heads out of $100$ flips. \n",
    "\n",
    "<div class=\"alert alert-block alert-info\">\n",
    "Do you reject at the $5\\%$ level that the coin is fair?\n",
    "</div>"
   ]
  },
  {
   "cell_type": "code",
   "execution_count": 4,
   "metadata": {},
   "outputs": [
    {
     "name": "stdout",
     "output_type": "stream",
     "text": [
      "P-value: 0.18410080866334827\n",
      "We accept the null hypothesis H0, therefore the coin is fair\n"
     ]
    }
   ],
   "source": [
    "# Your code here\n",
    "# ...\n",
    "\n",
    "# Our hypothesis would be H0: p0 = 0.5 vs H1: p0 > 0.5 (one-sided)\n",
    "\n",
    "# We can use the binomial test\n",
    "p_value = binom_test(x = 55, n=100 , p=0.5, alternative = 'greater')\n",
    "\n",
    "print('P-value:', p_value)\n",
    "\n",
    "if p_value < 0.05:\n",
    "    print('We reject the null hypothesis H0')\n",
    "else:\n",
    "    print('We accept the null hypothesis H0, therefore the coin is fair')"
   ]
  },
  {
   "cell_type": "markdown",
   "metadata": {},
   "source": [
    "# 2. Two sample hypothesis testing"
   ]
  },
  {
   "cell_type": "markdown",
   "metadata": {},
   "source": [
    "### Example 4\n",
    "\n",
    "[Tromholt (2016)](https://www.liebertpub.com/doi/full/10.1089/cyber.2016.0259) investigated whether quitting Facebook can improve your well-being. In the experiment, about a thousand volunteers (all Facebook users) were randomly allocated to either a treatment group, in which they told not to use Facebook for one week, or a control group, in which they carried on using Facebook as normal. At the end of the week, all participants completed a questionnaire. One of the questions asked them to record, “*In general, how satisfied are you with your life today?*” on a scale of 1 (very dissatisfied) to 10 (very satisfied). Let  $x_1,x_2,\\ldots,x_n$ be the observed responses in the treatment group, and $y_1,y_2,\\ldots,y_n$ be the observed responses in the control group. Results from those who repsponded were as follows:\n",
    "\n",
    "$$\\bar{x} = 8.11,\\,\\bar{y} = 7.74,\\,s_x =1.23^2,\\,s_y = 1.43^2,\\,n = 516,\\,m=372$$\n",
    "\n",
    "\n",
    "<div class=\"alert alert-block alert-info\">\n",
    "State suitable hypotheses for the experiment. Conduct an appropriate hypothesis test, reporting the  \n",
    "$p-$value.\n",
    "</div>"
   ]
  },
  {
   "cell_type": "code",
   "execution_count": 5,
   "metadata": {},
   "outputs": [
    {
     "name": "stdout",
     "output_type": "stream",
     "text": [
      "We reject the null hypothesis H0\n",
      "P-value: 6.166126520490217e-05\n"
     ]
    }
   ],
   "source": [
    "# Your code here\n",
    "# ...\n",
    "\n",
    "# Our hypothesis would be H0: mu_x = mu_y vs H1: mu_x != mu_y\n",
    "# We will use the t-test for independent samples with unknown and unequal variances, thus\n",
    "\n",
    "n = 516\n",
    "m = 372\n",
    "sx2 = 1.23**2\n",
    "sy2 = 1.43**2\n",
    "\n",
    "# slide 21\n",
    "ts = (8.11-7.74)/np.sqrt(sx2/n + sy2/m)\n",
    "d  = (sx2/n + sy2/m)**2 / ( (sx2/n)**2/(n-1) + (sy2/m)**2/(m-1) )\n",
    "\n",
    "th = t(df = d).ppf(0.975)\n",
    "\n",
    "if np.abs(ts) > th: \n",
    "    print('We reject the null hypothesis H0')\n",
    "else:\n",
    "    print('We accept the null hypothesis H0')\n",
    "    \n",
    "# p-value\n",
    "p_value = 2*t(df=d).cdf(-1*np.abs(ts))\n",
    "print('P-value:', p_value)\n",
    "\n",
    "\n",
    "# Your p-value solution should be: 6.166126520490217e-05"
   ]
  },
  {
   "cell_type": "markdown",
   "metadata": {},
   "source": [
    "### Example 5\n",
    "\n",
    "Consider again the `mtcars` data set. Use a two sample $t-$test to test the hypothesis that the $4$ and $6$ `CYL` cars have the same `MPG`. Notice that `CYL` refers to a column of the `mtcars` data set.\n",
    "\n",
    "<div class=\"alert alert-block alert-info\">\n",
    "Do you reject at the $5\\%$ confidence level? What's the $p-$value?\n",
    "</div>\n",
    "\n",
    "Hint: you might find [`ttest_ind`](https://docs.scipy.org/doc/scipy-0.14.0/reference/generated/scipy.stats.ttest_ind.html) function useful.\n"
   ]
  },
  {
   "cell_type": "code",
   "execution_count": 6,
   "metadata": {},
   "outputs": [
    {
     "name": "stdout",
     "output_type": "stream",
     "text": [
      "Statistic: 4.719059404187968\n",
      "We reject the null hypothesis H0\n",
      "P-value: 0.00040484953417022697\n",
      "Statistic: 4.719059404187968\n",
      "P-value: 0.00040484953417022697\n"
     ]
    }
   ],
   "source": [
    "from scipy.stats import ttest_ind\n",
    "\n",
    "# your code here\n",
    "\n",
    "\n",
    "x = mtcars[mtcars.cyl==4].mpg.values\n",
    "y = mtcars[mtcars.cyl==6].mpg.values\n",
    "\n",
    "# So, the hypothesis would be H0: mu_x = mu_y vs H1: mu_x != mu_y\n",
    "\n",
    "#--- Approach 1: code the test\n",
    "x_bar = x.mean()\n",
    "y_bar = y.mean()\n",
    "\n",
    "sx2 = np.std(x,ddof=1)**2\n",
    "sy2 = np.std(y,ddof=1)**2\n",
    "\n",
    "n = len(x)\n",
    "m = len(y)\n",
    "\n",
    "# We will use the t-test for independent samples with unknown and unequal variances, thus\n",
    "ts = (x_bar-y_bar)/np.sqrt(sx2/n + sy2/m)\n",
    "d  = (sx2/n + sy2/m)**2 / ( (sx2/n)**2/(n-1) + (sy2/m)**2/(m-1) )\n",
    "print('Statistic:',ts)\n",
    "\n",
    "\n",
    "th = t(df = d).ppf(0.975)\n",
    "\n",
    "if np.abs(ts) > th: \n",
    "    print('We reject the null hypothesis H0')\n",
    "else:\n",
    "    print('We accept the null hypothesis H0')\n",
    "    \n",
    "# p-value\n",
    "p_value = 2*t(df=d).cdf(-1*np.abs(ts))\n",
    "print('P-value:', p_value)\n",
    "# --- \n",
    "\n",
    "\n",
    "# Approach 2: use ttest_ind\n",
    "t_s, p_value = ttest_ind(x, y, equal_var=False)\n",
    "print('Statistic:',t_s)\n",
    "print('P-value:',p_value)\n",
    "\n",
    "# Your p-value solution should be: 0.00040484953417022697"
   ]
  },
  {
   "cell_type": "markdown",
   "metadata": {},
   "source": [
    "### Example 6:\n",
    "\n",
    "Patients with type-2 diabetes may use drugs to control their blood sugar levels. A pharmaceutical company conducted a clinical trial to compare the efficacy of a combination of two drugs, *sitagliptin* and *metformin*, with using *metformin* alone. The product name for this combination of drugs is “Efficib”. 190 patients were recruited to the trial, and were randomly allocated to one of two treatments:\n",
    "\n",
    "- treatment 1: 100mg sitagliptin per day, and at least 1500mg metformin per day\n",
    "- treatment 2: a daily placebo, made to look like a dose of 100mg sitagliptin, and at least 1500mg metformin per day.\n",
    "\n",
    "The study was “double-blinded”: neither the patients nor their doctors knew which treatment they were getting (though the trial investigators did know.) A1C (a measure of blood sugar level) was recorded for each patient at the start and after 18 weeks, and the change in A1C was recorded for each patient.\n",
    "\n",
    "Let $X_i$ denote the change in A1C for the $i-$th patient on the treatment 1 ($i=1,\\ldots,95$), and $Y_j$  denote the change in A1C the $j-$th patient on treatment 2 ($j=1,\\ldots,92$). We assume that $X_i\\sim\\mathcal{N}(\\mu_x,\\sigma_x^2)$ and that $Y_i\\sim\\mathcal{N}(\\mu_y,\\sigma_y^2)$. \n",
    "\n",
    "We have the following information:\n",
    "\n",
    "$$\\bar{x} = -1.00,\\,\\bar{y} = 0.02,\\,s_x^2 =1.5456,\\,s_y^2 = 1.4968,\\,n = 95,\\,m=92$$\n",
    "\n",
    "\n",
    "<div class=\"alert alert-block alert-info\">\n",
    "State suitable hypotheses for the experiment. Conduct an appropriate hypothesis test, reporting the  \n",
    "$p-$value.\n",
    "</div>"
   ]
  },
  {
   "cell_type": "code",
   "execution_count": 7,
   "metadata": {},
   "outputs": [
    {
     "name": "stdout",
     "output_type": "stream",
     "text": [
      "-5.654546908421991 184.95133447616834\n",
      "We reject the null hypothesis H0\n",
      "P-value: 5.846043953288385e-08\n"
     ]
    }
   ],
   "source": [
    "# Your code here\n",
    "# ...\n",
    "\n",
    "# Our hypothesis would be H0: mu_x = mu_y vs H1: mu_x != mu_y\n",
    "# We will use the t-test for independent samples with unknown and unequal variances, thus\n",
    "\n",
    "n = 95\n",
    "m = 92\n",
    "sx2 = 1.5456\n",
    "sy2 = 1.4968\n",
    "\n",
    "# slide 21\n",
    "ts = (-1-0.02)/np.sqrt(sx2/n + sy2/m)\n",
    "d  = (sx2/n + sy2/m)**2 / ( (sx2/n)**2/(n-1) + (sy2/m)**2/(m-1) )\n",
    "\n",
    "print(ts,d)\n",
    "th = t(df = d).ppf(0.975)\n",
    "\n",
    "if np.abs(ts) > th: \n",
    "    print('We reject the null hypothesis H0')\n",
    "else:\n",
    "    print('We accept the null hypothesis H0')\n",
    "    \n",
    "# p-value\n",
    "p_value = 2*t(df=d).cdf(-1*np.abs(ts))\n",
    "print('P-value:', p_value)"
   ]
  },
  {
   "cell_type": "markdown",
   "metadata": {},
   "source": [
    "Thus, there is evidence (at the 5% level of significance) that there is an effect of combining sitagliptin with metformin, and that this effect is an increased reduction in A1c (adding sitagliptin has a beneficial effect.)\n",
    "\n",
    "There have been other studies to test the effect of sitagliptin and metformin (the “Efficib” drug). Based on these studies, the [European Medicines Agency approved Efficib for use in the European Union](https://www.ema.europa.eu/en/medicines/human/EPAR/efficib)."
   ]
  },
  {
   "cell_type": "markdown",
   "metadata": {},
   "source": [
    "### Example 7:\n",
    "\n",
    "The file `./data/textbooks.csv` contain [information](https://www.openintro.org/data/index.php?data=textbooks) about books that can be found both in the UCLA Bookstore and in Amazon. It looks like Amazon prices are, on average, lower than those of the UCLA Bookstore.\n",
    "\n",
    "<div class=\"alert alert-block alert-info\">\n",
    "Is this statement valid for a $0.05$ condifence level?\n",
    "</div>\n",
    "\n",
    "Hint: You might find the function [`ttest_rel`](https://docs.scipy.org/doc/scipy/reference/generated/scipy.stats.ttest_rel.html) useful."
   ]
  },
  {
   "cell_type": "code",
   "execution_count": 8,
   "metadata": {},
   "outputs": [
    {
     "data": {
      "text/html": [
       "<div>\n",
       "<style scoped>\n",
       "    .dataframe tbody tr th:only-of-type {\n",
       "        vertical-align: middle;\n",
       "    }\n",
       "\n",
       "    .dataframe tbody tr th {\n",
       "        vertical-align: top;\n",
       "    }\n",
       "\n",
       "    .dataframe thead th {\n",
       "        text-align: right;\n",
       "    }\n",
       "</style>\n",
       "<table border=\"1\" class=\"dataframe\">\n",
       "  <thead>\n",
       "    <tr style=\"text-align: right;\">\n",
       "      <th></th>\n",
       "      <th>dept_abbr</th>\n",
       "      <th>course</th>\n",
       "      <th>isbn</th>\n",
       "      <th>ucla_new</th>\n",
       "      <th>amaz_new</th>\n",
       "      <th>more</th>\n",
       "      <th>diff</th>\n",
       "    </tr>\n",
       "  </thead>\n",
       "  <tbody>\n",
       "    <tr>\n",
       "      <th>0</th>\n",
       "      <td>Am Ind</td>\n",
       "      <td>C170</td>\n",
       "      <td>978-0803272620</td>\n",
       "      <td>27.67</td>\n",
       "      <td>27.95</td>\n",
       "      <td>Y</td>\n",
       "      <td>-0.28</td>\n",
       "    </tr>\n",
       "    <tr>\n",
       "      <th>1</th>\n",
       "      <td>Anthro</td>\n",
       "      <td>9</td>\n",
       "      <td>978-0030119194</td>\n",
       "      <td>40.59</td>\n",
       "      <td>31.14</td>\n",
       "      <td>Y</td>\n",
       "      <td>9.45</td>\n",
       "    </tr>\n",
       "    <tr>\n",
       "      <th>2</th>\n",
       "      <td>Anthro</td>\n",
       "      <td>135T</td>\n",
       "      <td>978-0300080643</td>\n",
       "      <td>31.68</td>\n",
       "      <td>32.00</td>\n",
       "      <td>Y</td>\n",
       "      <td>-0.32</td>\n",
       "    </tr>\n",
       "    <tr>\n",
       "      <th>3</th>\n",
       "      <td>Anthro</td>\n",
       "      <td>191HB</td>\n",
       "      <td>978-0226206813</td>\n",
       "      <td>16.00</td>\n",
       "      <td>11.52</td>\n",
       "      <td>Y</td>\n",
       "      <td>4.48</td>\n",
       "    </tr>\n",
       "    <tr>\n",
       "      <th>4</th>\n",
       "      <td>Art His</td>\n",
       "      <td>M102K</td>\n",
       "      <td>978-0892365999</td>\n",
       "      <td>18.95</td>\n",
       "      <td>14.21</td>\n",
       "      <td>Y</td>\n",
       "      <td>4.74</td>\n",
       "    </tr>\n",
       "  </tbody>\n",
       "</table>\n",
       "</div>"
      ],
      "text/plain": [
       "  dept_abbr course            isbn  ucla_new  amaz_new more  diff\n",
       "0    Am Ind   C170  978-0803272620     27.67     27.95    Y -0.28\n",
       "1    Anthro      9  978-0030119194     40.59     31.14    Y  9.45\n",
       "2    Anthro   135T  978-0300080643     31.68     32.00    Y -0.32\n",
       "3    Anthro  191HB  978-0226206813     16.00     11.52    Y  4.48\n",
       "4   Art His  M102K  978-0892365999     18.95     14.21    Y  4.74"
      ]
     },
     "metadata": {},
     "output_type": "display_data"
    },
    {
     "name": "stdout",
     "output_type": "stream",
     "text": [
      "7.648771112479752 1.1334715882486509e-05\n",
      "7.648771112479753 6.927581126065491e-11\n",
      "We reject the null hypothesis H0\n"
     ]
    },
    {
     "data": {
      "image/png": "[encoded data removed]",
      "text/plain": [
       "<Figure size 432x288 with 1 Axes>"
      ]
     },
     "metadata": {
      "needs_background": "light"
     },
     "output_type": "display_data"
    }
   ],
   "source": [
    "# Your code here\n",
    "# ...\n",
    "\n",
    "# Load data and take a look\n",
    "textbook = pd.read_csv('./data/textbooks.csv',sep=',',decimal='.')\n",
    "display(textbook.head())\n",
    "\n",
    "plt.hist(textbook['diff'].values)\n",
    "plt.xlabel('price difference')\n",
    "plt.show\n",
    "\n",
    "# This is a paired test, so our hypothesis would be H0: mu_diff = 0 vs H1: mu_diff != 0\n",
    "# where mu_diff is the price difference mean value\n",
    "\n",
    "# OPTION 1: Do the calculations\n",
    "x = textbook['diff'].values\n",
    "n = len(x)\n",
    "\n",
    "t_statistic = x.mean()/sem(x)\n",
    "p_value = 2*t(df=n-1).cdf(-np.abs(t_s))\n",
    "\n",
    "print(t_statistic, p_value)\n",
    "\n",
    "# OPTION 2: Use ttest_rel function\n",
    "from scipy.stats import ttest_rel\n",
    "\n",
    "a = textbook['ucla_new'].values\n",
    "b = textbook['amaz_new'].values\n",
    "t_statistic, p_value = ttest_rel(a,b)\n",
    "\n",
    "print(t_statistic, p_value)\n",
    "\n",
    "if p_value < 0.05:\n",
    "    print('We reject the null hypothesis H0')\n",
    "else:\n",
    "    print('We accept the null hypothesis H0')"
   ]
  },
  {
   "cell_type": "markdown",
   "metadata": {},
   "source": [
    "Notice that in this case, we could have used a test for the follwing hypothesis:\n",
    "    \n",
    "$$H_0: u_{\\text{ucla}} = u_{\\text{amazon}}\\quad\\text{vs}\\quad H_1: u_{\\text{ucla}} > u_{\\text{amazon}}$$\n",
    "\n",
    "which could be transformed into\n",
    "\n",
    "$$H_0: u_{\\text{ucla}} - u_{\\text{amazon}} = 0 \\quad\\text{vs}\\quad H_1: u_{\\text{ucla}} - u_{\\text{amazon}} > 0$$\n",
    "\n",
    "so that\n",
    "\n",
    "$$H_0: u_{\\text{diff}} = 0 \\quad\\text{vs}\\quad H_1: u_{\\text{diff}}> 0$$\n",
    "\n",
    "Which is a one-sample one-sided hypothesis."
   ]
  },
  {
   "cell_type": "markdown",
   "metadata": {},
   "source": [
    "# References\n",
    "\n",
    "The examples from this notebook have been extracted from:\n",
    "\n",
    "- [MAS113 Part 2: Data Science](http://www.jeremy-oakley.staff.shef.ac.uk/mas113/notes/), Jeremy-oakley. Chapter 7.\n",
    "- [Statistical Inference for Data Science](https://leanpub.com/LittleInferenceBook/read#leanpub-auto-exercises-8). Brian Caffo. Chapter 9.\n",
    "- [OpenIntro Statistics](https://www.openintro.org/book/os/). D. Díez, M Cetinkaya-Rundel and CD Barr. Chapter 7."
   ]
  }
 ],
 "metadata": {
  "kernelspec": {
   "display_name": "Python 3",
   "language": "python",
   "name": "python3"
  },
  "language_info": {
   "codemirror_mode": {
    "name": "ipython",
    "version": 3
   },
   "file_extension": ".py",
   "mimetype": "text/x-python",
   "name": "python",
   "nbconvert_exporter": "python",
   "pygments_lexer": "ipython3",
   "version": "3.6.2"
  }
 },
 "nbformat": 4,
 "nbformat_minor": 2
}
