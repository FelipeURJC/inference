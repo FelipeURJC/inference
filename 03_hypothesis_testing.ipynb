{
 "cells": [
  {
   "cell_type": "markdown",
   "metadata": {},
   "source": [
    "This notebook, by [felipe.alonso@urjc.es](mailto:felipe.alonso@urjc.es)\n",
    "\n",
    "In this notebook we will:\n",
    "\n",
    "1. Solve one-sample hypothesis testing examples:\n",
    "    - hypothesis testing for the mean\n",
    "    - hypothesis testing for proportions \n",
    "2. Solve two-sample hypothesis testing examples\n",
    "\n",
    "# 0. Load libraries"
   ]
  },
  {
   "cell_type": "code",
   "execution_count": null,
   "metadata": {},
   "outputs": [],
   "source": [
    "import numpy as np\n",
    "import pandas as pd\n",
    "\n",
    "import matplotlib.pyplot as plt\n",
    "%matplotlib inline\n",
    "\n",
    "from scipy.stats import t, sem, norm"
   ]
  },
  {
   "cell_type": "markdown",
   "metadata": {},
   "source": [
    "# 1. One sample hypothesis testing\n",
    "\n",
    "### Example 1:\n",
    "\n",
    "Load the data set `mtcars` contained in the `./data/mtcars.csv` file of this repository. Assume that the data set `mtcars` is a random sample. Compute the mean MPG, $\\bar{x}$, of this sample. You want to test whether the true MPG is $\\mu_0$ or smaller using a one-sided $5\\%$ level test. Thus, you want to test \n",
    "\n",
    "$$H_0:\\mu = \\mu_0\\quad\\text{ vs.}\\quad H_1:\\mu<\\mu_0$$ \n",
    "\n",
    "<div class=\"alert alert-block alert-info\">\n",
    "Based on the mean MPG of the sample $\\bar{x}$, what is the smallest value of $\\mu_0$ that you would reject $H_0$ for?\n",
    "</div>"
   ]
  },
  {
   "cell_type": "code",
   "execution_count": null,
   "metadata": {},
   "outputs": [],
   "source": [
    "# Your code here\n",
    "# ...\n",
    "\n",
    "\n",
    "# Your solution should be: 21.897"
   ]
  },
  {
   "cell_type": "markdown",
   "metadata": {},
   "source": [
    "### Example 2:\n",
    "\n",
    "A survey claims that $9$ out of $10$ doctors recommend aspirin for their patients with headaches. To test this claim, a random sample of $100$ doctors is obtained. Of these $100$ doctors, $82$ indicate that they recommend aspirin.\n",
    "\n",
    "<div class=\"alert alert-block alert-info\">\n",
    "Is this claim accurate? Use $\\alpha$ = 0.05\n",
    "</div>\n",
    "\n",
    "Hint: you might want to use the [`binom_test`](https://docs.scipy.org/doc/scipy/reference/generated/scipy.stats.binom_test.html). Notice that this is an exact test, and does not assume normality."
   ]
  },
  {
   "cell_type": "code",
   "execution_count": null,
   "metadata": {},
   "outputs": [],
   "source": [
    "# Your code here\n",
    "# ...\n",
    "\n",
    "# Your solution should be 0.00766 or 0.01195 (depending on the assumptions)"
   ]
  },
  {
   "cell_type": "markdown",
   "metadata": {},
   "source": [
    "### Example 3: \n",
    "\n",
    "You believe the coin that you’re flipping is biased towards heads. You get $55$ heads out of $100$ flips. \n",
    "\n",
    "<div class=\"alert alert-block alert-info\">\n",
    "Do you reject at the $5\\%$ level that the coin is fair?\n",
    "</div>"
   ]
  },
  {
   "cell_type": "code",
   "execution_count": null,
   "metadata": {},
   "outputs": [],
   "source": [
    "# Your code here\n",
    "# ...\n",
    "\n",
    "# your p-value should be 0.1841"
   ]
  },
  {
   "cell_type": "markdown",
   "metadata": {},
   "source": [
    "# 2. Two sample hypothesis testing"
   ]
  },
  {
   "cell_type": "markdown",
   "metadata": {},
   "source": [
    "### Example 4\n",
    "\n",
    "[Tromholt (2016)](https://www.liebertpub.com/doi/full/10.1089/cyber.2016.0259) investigated whether quitting Facebook can improve your well-being. In the experiment, about a thousand volunteers (all Facebook users) were randomly allocated to either a treatment group ($X$), in which they told not to use Facebook for one week, or a control group ($Y$), in which they carried on using Facebook as normal. At the end of the week, all participants completed a questionnaire. One of the questions asked them to record, “*In general, how satisfied are you with your life today?*” on a scale of 1 (very dissatisfied) to 10 (very satisfied). Let  $x_1,x_2,\\ldots,x_n$ be the observed responses in the treatment group, and $y_1,y_2,\\ldots,y_n$ be the observed responses in the control group. Results from those who repsponded were as follows:\n",
    "\n",
    "$$\\bar{x} = 8.11,\\,\\bar{y} = 7.74,\\,s^2_x =1.23^2,\\,s^2_y = 1.43^2,\\,n_x = 516,\\,n_y=372$$\n",
    "\n",
    "\n",
    "<div class=\"alert alert-block alert-info\">\n",
    "State suitable hypotheses for the experiment. Conduct an appropriate hypothesis test, reporting the  \n",
    "$p-$value.\n",
    "</div>"
   ]
  },
  {
   "cell_type": "code",
   "execution_count": null,
   "metadata": {},
   "outputs": [],
   "source": [
    "# Your code here\n",
    "# ...\n",
    "\n",
    "# Your p-value solution should be: 6.166126520490217e-05"
   ]
  },
  {
   "cell_type": "markdown",
   "metadata": {},
   "source": [
    "### Example 5\n",
    "\n",
    "Consider again the `mtcars` data set. Use a two sample $t-$test to test the hypothesis that the $4$ and $6$ `CYL` cars have the same `MPG`. Notice that `CYL` refers to a column of the `mtcars` data set.\n",
    "\n",
    "<div class=\"alert alert-block alert-info\">\n",
    "Do you reject at the $5\\%$ confidence level? What's the $p-$value?\n",
    "</div>\n",
    "\n",
    "Hint: you might find [`ttest_ind`](https://docs.scipy.org/doc/scipy/reference/generated/scipy.stats.ttest_ind.html) function useful.\n"
   ]
  },
  {
   "cell_type": "code",
   "execution_count": null,
   "metadata": {},
   "outputs": [],
   "source": [
    "from scipy.stats import ttest_ind\n",
    "\n",
    "# your code here\n",
    "# ...\n",
    "\n",
    "\n",
    "# Your p-value solution should be: 0.00040484953417022697"
   ]
  },
  {
   "cell_type": "markdown",
   "metadata": {},
   "source": [
    "### Example 6:\n",
    "\n",
    "Patients with type-2 diabetes may use drugs to control their blood sugar levels. A pharmaceutical company conducted a clinical trial to compare the efficacy of a combination of two drugs, *sitagliptin* and *metformin*, with using *metformin* alone. The product name for this combination of drugs is “Efficib”. 190 patients were recruited to the trial, and were randomly allocated to one of two treatments:\n",
    "\n",
    "- treatment 1: 100mg sitagliptin per day, and at least 1500mg metformin per day\n",
    "- treatment 2: a daily placebo, made to look like a dose of 100mg sitagliptin, and at least 1500mg metformin per day.\n",
    "\n",
    "The study was “double-blinded”: neither the patients nor their doctors knew which treatment they were getting (though the trial investigators did know.) A1C (a measure of blood sugar level) was recorded for each patient at the start and after 18 weeks, and the change in A1C was recorded for each patient.\n",
    "\n",
    "Let $X_i$ denote the change in A1C for the $i-$th patient on the treatment 1 ($i=1,\\ldots,95$), and $Y_j$  denote the change in A1C the $j-$th patient on treatment 2 ($j=1,\\ldots,92$). We assume that $X_i\\sim\\mathcal{N}(\\mu_x,\\sigma_x^2)$ and that $Y_i\\sim\\mathcal{N}(\\mu_y,\\sigma_y^2)$. \n",
    "\n",
    "We have the following information:\n",
    "\n",
    "$$\\bar{x} = -1.00,\\,\\bar{y} = 0.02,\\,s_x^2 =1.5456,\\,s_y^2 = 1.4968,\\,n = 95,\\,m=92$$\n",
    "\n",
    "\n",
    "<div class=\"alert alert-block alert-info\">\n",
    "State suitable hypotheses for the experiment. Conduct an appropriate hypothesis test, reporting the  \n",
    "$p-$value.\n",
    "</div>"
   ]
  },
  {
   "cell_type": "code",
   "execution_count": null,
   "metadata": {},
   "outputs": [],
   "source": [
    "# Your code here\n",
    "# ...\n",
    "\n",
    "# Your p-value solution should be: 5.846043953288385e-08"
   ]
  },
  {
   "cell_type": "markdown",
   "metadata": {},
   "source": [
    "Thus, there is evidence (at the 5% level of significance) that there is an effect of combining sitagliptin with metformin, and that this effect is an increased reduction in A1c (adding sitagliptin has a beneficial effect.)\n",
    "\n",
    "There have been other studies to test the effect of sitagliptin and metformin (the “Efficib” drug). Based on these studies, the [European Medicines Agency approved Efficib for use in the European Union](https://www.ema.europa.eu/en/medicines/human/EPAR/efficib)."
   ]
  },
  {
   "cell_type": "markdown",
   "metadata": {},
   "source": [
    "### Example 7:\n",
    "\n",
    "The file `./data/textbooks.csv` contain [information](https://www.openintro.org/data/index.php?data=textbooks) about books that can be found both in the UCLA Bookstore and in Amazon. It looks like Amazon prices are, on average, lower than those of the UCLA Bookstore.\n",
    "\n",
    "<div class=\"alert alert-block alert-info\">\n",
    "Is this statement valid for a $0.05$ condifence level?\n",
    "</div>\n",
    "\n",
    "Hint: You might find the function [`ttest_rel`](https://docs.scipy.org/doc/scipy/reference/generated/scipy.stats.ttest_rel.html) useful."
   ]
  },
  {
   "cell_type": "code",
   "execution_count": null,
   "metadata": {},
   "outputs": [],
   "source": [
    "# Your code here\n",
    "# ...\n",
    "\n",
    "# Your p-value solution should be: 6.927581126065543e-11"
   ]
  },
  {
   "cell_type": "markdown",
   "metadata": {},
   "source": [
    "Notice that in this case, we could have used a test for the follwing hypothesis:\n",
    "    \n",
    "$$H_0: u_{\\text{ucla}} = u_{\\text{amazon}}\\quad\\text{vs}\\quad H_1: u_{\\text{ucla}} > u_{\\text{amazon}}$$\n",
    "\n",
    "which could be transformed into\n",
    "\n",
    "$$H_0: u_{\\text{ucla}} - u_{\\text{amazon}} = 0 \\quad\\text{vs}\\quad H_1: u_{\\text{ucla}} - u_{\\text{amazon}} > 0$$\n",
    "\n",
    "so that\n",
    "\n",
    "$$H_0: u_{\\text{diff}} = 0 \\quad\\text{vs}\\quad H_1: u_{\\text{diff}}> 0$$\n",
    "\n",
    "Which is a one-sample one-sided hypothesis."
   ]
  },
  {
   "cell_type": "markdown",
   "metadata": {},
   "source": [
    "# References\n",
    "\n",
    "The examples from this notebook have been extracted from:\n",
    "\n",
    "- [MAS113 Part 2: Data Science](http://www.jeremy-oakley.staff.shef.ac.uk/mas113/notes/), Jeremy-oakley. Chapter 7.\n",
    "- [Statistical Inference for Data Science](https://leanpub.com/LittleInferenceBook/read#leanpub-auto-exercises-8). Brian Caffo. Chapter 9.\n",
    "- [OpenIntro Statistics](https://www.openintro.org/book/os/). D. Díez, M Cetinkaya-Rundel and CD Barr. Chapter 7."
   ]
  }
 ],
 "metadata": {
  "kernelspec": {
   "display_name": "Python 3",
   "language": "python",
   "name": "python3"
  },
  "language_info": {
   "codemirror_mode": {
    "name": "ipython",
    "version": 3
   },
   "file_extension": ".py",
   "mimetype": "text/x-python",
   "name": "python",
   "nbconvert_exporter": "python",
   "pygments_lexer": "ipython3",
   "version": "3.7.9"
  }
 },
 "nbformat": 4,
 "nbformat_minor": 2
}
