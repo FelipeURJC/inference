{
 "cells": [
  {
   "cell_type": "markdown",
   "metadata": {},
   "source": [
    "This notebook, by [felipe.alonso@urjc.es](mailto:felipe.alonso@urjc.es)\n",
    "\n",
    "In this notebook we will introduce:\n",
    "\n",
    "1. Common data structures in python\n",
    "2. Functions\n",
    "3. Boolean expressions\n",
    "\n",
    "The following is a text cell (Markdown sintax)"
   ]
  },
  {
   "cell_type": "code",
   "execution_count": null,
   "metadata": {},
   "outputs": [],
   "source": [
    "# This is a cell code (comment)\n",
    "\n",
    "2+3\n",
    "# 2.0+3"
   ]
  },
  {
   "cell_type": "markdown",
   "metadata": {},
   "source": [
    "# 1. Data structures\n",
    "\n",
    "See the [documentation](https://docs.python.org/3.6/tutorial/datastructures.html#) for more details.\n",
    "\n",
    "## Lists"
   ]
  },
  {
   "cell_type": "code",
   "execution_count": null,
   "metadata": {},
   "outputs": [],
   "source": [
    "# Lists are collections of items\n",
    "\n",
    "x = [1,2,3,4,5,6]\n",
    "\n",
    "#type(x)\n",
    "#len(x)\n",
    "#x[:3]\n",
    "#x[3:]\n",
    "#x.extend([7,8])\n",
    "#x.append(9)\n",
    "#x.sort()\n",
    "#x.sort(reverse = True)\n"
   ]
  },
  {
   "cell_type": "code",
   "execution_count": null,
   "metadata": {},
   "outputs": [],
   "source": [
    "# Nested lists\n",
    "\n",
    "y = [10,11,12]\n",
    "z = [x,y]\n",
    "print(z)"
   ]
  },
  {
   "cell_type": "markdown",
   "metadata": {},
   "source": [
    "## Tuples"
   ]
  },
  {
   "cell_type": "code",
   "execution_count": null,
   "metadata": {},
   "outputs": [],
   "source": [
    "# Tuples are inmutable lists. Use () instead of []\n",
    "\n",
    "x = (1,2,3)\n",
    "\n",
    "#len(x)\n",
    "#x[0]"
   ]
  },
  {
   "cell_type": "code",
   "execution_count": null,
   "metadata": {},
   "outputs": [],
   "source": [
    "y = (4,5,6)\n",
    "\n",
    "[x,y] # list of tuples"
   ]
  },
  {
   "cell_type": "code",
   "execution_count": null,
   "metadata": {},
   "outputs": [],
   "source": [
    "(age, income) = \"27,55000\".split(',')\n",
    "\n",
    "print(age)\n",
    "print(income)"
   ]
  },
  {
   "cell_type": "markdown",
   "metadata": {},
   "source": [
    "## Dictionaries"
   ]
  },
  {
   "cell_type": "code",
   "execution_count": null,
   "metadata": {},
   "outputs": [],
   "source": [
    "# Key-value pairs, like a hash table\n",
    "\n",
    "census = {\n",
    "    \"Name\": [\"Roger\", \"Brian\", \"John\"],\n",
    "    \"Surname\": [\"Taylor\", \"May\", \"Deacon\"],\n",
    "    \"Born\": [1949, 1947, 1951]\n",
    "}\n",
    "\n",
    "print(census)"
   ]
  },
  {
   "cell_type": "code",
   "execution_count": null,
   "metadata": {},
   "outputs": [],
   "source": [
    "#census['Name']\n",
    "#census.keys()"
   ]
  },
  {
   "cell_type": "code",
   "execution_count": null,
   "metadata": {},
   "outputs": [],
   "source": [
    "for key in census:\n",
    "    print('values: ', census[key])"
   ]
  },
  {
   "cell_type": "code",
   "execution_count": null,
   "metadata": {},
   "outputs": [],
   "source": [
    "for k,v in census.items():\n",
    "    print('Key:', k, ', has value: ', v)"
   ]
  },
  {
   "cell_type": "markdown",
   "metadata": {},
   "source": [
    "# 2. Functions"
   ]
  },
  {
   "cell_type": "code",
   "execution_count": null,
   "metadata": {},
   "outputs": [],
   "source": [
    "def sqr(x):\n",
    "    return x**2"
   ]
  },
  {
   "cell_type": "code",
   "execution_count": null,
   "metadata": {},
   "outputs": [],
   "source": [
    "sqr(3)\n",
    "#sqr('hola')"
   ]
  },
  {
   "cell_type": "markdown",
   "metadata": {},
   "source": [
    "<div class=\"alert alert-block alert-info\">\n",
    "<b>Exercise:</b> write a python function called <b>plural</b> that takes a list of words and converts then into plural form (adding the char 's').</div>\n",
    "\n",
    "As for example `plural(['Roger', 'Brian', 'John'])` should return `['Rogers', 'Brians', 'Johns']`"
   ]
  },
  {
   "cell_type": "code",
   "execution_count": null,
   "metadata": {},
   "outputs": [],
   "source": [
    "def plural(my_list):\n",
    "    \n",
    "    # your code here\n",
    "    # ...\n",
    "\n",
    "# check your results\n",
    "plural(census['Name'])"
   ]
  },
  {
   "cell_type": "markdown",
   "metadata": {},
   "source": [
    "# 3. Boolean expressions"
   ]
  },
  {
   "cell_type": "code",
   "execution_count": null,
   "metadata": {},
   "outputs": [],
   "source": [
    "1==3\n",
    "1=='1'\n",
    "1>3\n",
    "1>=3"
   ]
  },
  {
   "cell_type": "code",
   "execution_count": null,
   "metadata": {},
   "outputs": [],
   "source": [
    "'hola'=='hola'\n",
    "'2020-01-31' < '2020-02-01' "
   ]
  },
  {
   "cell_type": "code",
   "execution_count": null,
   "metadata": {},
   "outputs": [],
   "source": [
    "x = 2\n",
    "if x==1:\n",
    "    print('It is True')\n",
    "else:\n",
    "    print('It is False')"
   ]
  },
  {
   "cell_type": "code",
   "execution_count": null,
   "metadata": {},
   "outputs": [],
   "source": []
  }
 ],
 "metadata": {
  "kernelspec": {
   "display_name": "Python 3",
   "language": "python",
   "name": "python3"
  },
  "language_info": {
   "codemirror_mode": {
    "name": "ipython",
    "version": 3
   },
   "file_extension": ".py",
   "mimetype": "text/x-python",
   "name": "python",
   "nbconvert_exporter": "python",
   "pygments_lexer": "ipython3",
   "version": "3.7.9"
  }
 },
 "nbformat": 4,
 "nbformat_minor": 2
}
