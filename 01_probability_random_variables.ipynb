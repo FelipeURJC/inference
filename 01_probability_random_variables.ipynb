{
 "cells": [
  {
   "cell_type": "markdown",
   "metadata": {},
   "source": [
    "This notebook, by [felipe.alonso@urjc.es](mailto:felipe.alonso@urjc.es)\n",
    "\n",
    "In this notebook we will:\n",
    "\n",
    "- Learn how to generate random variables (discrete or continuous) following different distributions.\n",
    "- Learn how to represent random variables and distributions\n",
    "- Calculate main statistics of the generated random variables\n",
    "- Solve specific problems associated with different distributions\n",
    "\n",
    "For doing this, we will used the library [`scipy.stats`](https://docs.scipy.org/doc/scipy/reference/stats.html) which allows us to generate random variables following diferent distributions.\n",
    "\n",
    "# 0. Load libraries"
   ]
  },
  {
   "cell_type": "code",
   "execution_count": null,
   "metadata": {},
   "outputs": [],
   "source": [
    "import numpy as np\n",
    "import matplotlib.pyplot as plt\n",
    "%matplotlib inline\n",
    "\n",
    "from scipy.stats import binom, poisson, norm"
   ]
  },
  {
   "cell_type": "markdown",
   "metadata": {},
   "source": [
    "# 1. Binomial distribution\n",
    "\n",
    "- To generate $N$ Binomial(n,p) r.v.'s we write `binom_rvs = binom.rvs(n,p,size = N)` \n",
    "- To generate a Binomial(n,p) pmf we write `binom_pmf = binom(n,p).pmf(x)`\n",
    "\n",
    "All methods associated with the Binomial distribution can be found [here](https://docs.scipy.org/doc/scipy/reference/generated/scipy.stats.binom.html#scipy.stats.binom).\n",
    "\n",
    "Run the following examples, and try to understand the code and the results. Then, solve the proposed exercises."
   ]
  },
  {
   "cell_type": "code",
   "execution_count": null,
   "metadata": {},
   "outputs": [],
   "source": [
    "# Example 1: plot the histogram of 100 Binomial(10,0.5) r.v.s\n",
    "# Change the values of size and bins parameters and see what happens\n",
    "n = 10\n",
    "p = 0.5\n",
    "binom_rvs = binom.rvs(n,p,size = 100)\n",
    "\n",
    "plt.hist(binom_rvs, density=True, bins=50)\n",
    "plt.show()"
   ]
  },
  {
   "cell_type": "code",
   "execution_count": null,
   "metadata": {},
   "outputs": [],
   "source": [
    "# Example 2: plot the pmf of a Binomial(10,0.5) \n",
    "x = range(0,10)\n",
    "plt.plot(x,binom(10,0.5).pmf(x),'bo')\n",
    "plt.vlines(x,0,binom(10,0.5).pmf(x),'b')\n",
    "plt.show()"
   ]
  },
  {
   "cell_type": "code",
   "execution_count": null,
   "metadata": {},
   "outputs": [],
   "source": [
    "# Example 3: calculate the mean, std and median values of a Binomial(10,0.5)\n",
    "print('mean:',binom(10,0.5).mean())\n",
    "print('std:',binom(10,0.5).std())\n",
    "print('median:',binom(10,0.5).median())"
   ]
  },
  {
   "cell_type": "markdown",
   "metadata": {},
   "source": [
    "## Exercise 1\n",
    "\n",
    "<div class=\"alert alert-block alert-info\">\n",
    "The prevalence of bronchitis within the polulation is 5%. <br>\n",
    "- What is the probability that there are 75 bronchitis patients among 1500 subjects? <br>\n",
    "- What is the probability that there are more than 75 bronchitis patients among 1500 subjects?\n",
    "</div>\n",
    "\n"
   ]
  },
  {
   "cell_type": "code",
   "execution_count": null,
   "metadata": {},
   "outputs": [],
   "source": [
    "# your code here\n",
    "# ..."
   ]
  },
  {
   "cell_type": "markdown",
   "metadata": {},
   "source": [
    "## Exercise 2 \n",
    "\n",
    "<div class=\"alert alert-block alert-info\">\n",
    "Suppose a friend has 8 children, 7 of which are girls and none are twins. If each gender has an independent 50% probability for each birth, what’s the probability of getting 7 or more girls out of 8 births?\n",
    "</div>"
   ]
  },
  {
   "cell_type": "code",
   "execution_count": null,
   "metadata": {},
   "outputs": [],
   "source": [
    "# your code here\n",
    "# ..."
   ]
  },
  {
   "cell_type": "markdown",
   "metadata": {},
   "source": [
    "# 2. Poisson distribution\n",
    "\n",
    "The [Poisson](https://docs.scipy.org/doc/scipy/reference/generated/scipy.stats.poisson.html) distribution is defined by scipy as \n",
    "\n",
    "$$f(k) = \\exp{(-\\mu)}\\frac{\\mu^k}{k!},\\,\\textrm{ for } k \\geq 0$$\n",
    "\n",
    "which takes $\\mu$ as a parameter"
   ]
  },
  {
   "cell_type": "markdown",
   "metadata": {},
   "source": [
    "## Exercise 3\n",
    "\n",
    "<div class=\"alert alert-block alert-info\">\n",
    "Suppose the number of deaths from typhoid fever over a 1-year period is Poisson distributed with a mean of $4.6$ per year. What is the probability distribution of the number of deaths over a 6-month period? A 3-month period? Represent the associated pmf. In which of these two cases  is it more likely that no one died? Justify your answer \n",
    "</div>"
   ]
  },
  {
   "cell_type": "code",
   "execution_count": null,
   "metadata": {},
   "outputs": [],
   "source": [
    "# your code here\n",
    "# ..."
   ]
  },
  {
   "cell_type": "markdown",
   "metadata": {},
   "source": [
    "## Exercise 4: poisson approximation to the binomial\n",
    "\n",
    "<div class=\"alert alert-block alert-info\">\n",
    "We flip a coin with success probability 0.01 five hundred times. What’s the probability of 2 or fewer successes? Answer the question using a poisson and a binomial distribution \n",
    "</div>"
   ]
  },
  {
   "cell_type": "code",
   "execution_count": null,
   "metadata": {},
   "outputs": [],
   "source": [
    "# your code here\n",
    "# ..."
   ]
  },
  {
   "cell_type": "markdown",
   "metadata": {},
   "source": [
    "# 3. Normal distribution\n",
    "\n",
    "In scipy, the [normal distribution](https://docs.scipy.org/doc/scipy/reference/generated/scipy.stats.norm.html) is defined in the standarized form\n",
    "\n",
    "$$f(x) = \\frac{1}{\\sqrt{2\\pi}}e^{-\\frac{x^2}{2}}$$\n",
    "\n",
    "## Exercise 5\n",
    "\n",
    "<div class=\"alert alert-block alert-info\">\n",
    "Write a python funtion for representing a normal distrution of mean $\\mu$ and variance $\\sigma^2$\n",
    "</div>"
   ]
  },
  {
   "cell_type": "code",
   "execution_count": null,
   "metadata": {},
   "outputs": [],
   "source": [
    "def plot_normal_pdf(mu,sigma2):\n",
    "    # your code here\n",
    "    # ...\n",
    " \n",
    "plot_normal_pdf(2,2)"
   ]
  },
  {
   "cell_type": "markdown",
   "metadata": {},
   "source": [
    "## Exercise 6\n",
    "\n",
    "<div class=\"alert alert-block alert-info\">\n",
    "Suppose that the number of web hits to a particular site are approximately normally distributed with a mean of 100 hits per day and a standard deviation of 10 hits per day. What number of web hits per day represents the number so that only 5% of days have more hits?\n",
    "</div>"
   ]
  },
  {
   "cell_type": "code",
   "execution_count": null,
   "metadata": {},
   "outputs": [],
   "source": [
    "# your code here\n",
    "# ...\n"
   ]
  },
  {
   "cell_type": "markdown",
   "metadata": {},
   "source": [
    "## Exercise 7 (optional)\n",
    "\n",
    "We want to perform the following experiment:\n",
    "\n",
    "1. Take 5 samples at random from a $N(2,4)$ distribution\n",
    "2. Calculate the mean value of those 5 samples\n",
    "3. Repeat steps 1 and 2, say a 100 times, and represent the histogram of the resulting mean value for each repetition \n",
    "\n",
    "<div class=\"alert alert-block alert-info\">\n",
    "What's the mean of the mean value for all repetitions?\n",
    "</div>\n",
    "\n"
   ]
  },
  {
   "cell_type": "code",
   "execution_count": null,
   "metadata": {},
   "outputs": [],
   "source": [
    "# your code here\n",
    "# ..."
   ]
  }
 ],
 "metadata": {
  "kernelspec": {
   "display_name": "Python 3",
   "language": "python",
   "name": "python3"
  },
  "language_info": {
   "codemirror_mode": {
    "name": "ipython",
    "version": 3
   },
   "file_extension": ".py",
   "mimetype": "text/x-python",
   "name": "python",
   "nbconvert_exporter": "python",
   "pygments_lexer": "ipython3",
   "version": "3.7.9"
  }
 },
 "nbformat": 4,
 "nbformat_minor": 2
}
